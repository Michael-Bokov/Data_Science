{
  "nbformat": 4,
  "nbformat_minor": 0,
  "metadata": {
    "colab": {
      "provenance": [],
      "authorship_tag": "ABX9TyMQk9scvsWFHUqDGbBBlfhi",
      "include_colab_link": true
    },
    "kernelspec": {
      "name": "python3",
      "display_name": "Python 3"
    },
    "language_info": {
      "name": "python"
    }
  },
  "cells": [
    {
      "cell_type": "markdown",
      "metadata": {
        "id": "view-in-github",
        "colab_type": "text"
      },
      "source": [
        "<a href=\"https://colab.research.google.com/github/Michael-Bokov/Data_Science/blob/main/NLP(SGD_SVC)IMDB_comments_classification(classic_methods).ipynb\" target=\"_parent\"><img src=\"https://colab.research.google.com/assets/colab-badge.svg\" alt=\"Open In Colab\"/></a>"
      ]
    },
    {
      "cell_type": "code",
      "source": [
        "pip install 'portalocker>=2.0.0'"
      ],
      "metadata": {
        "colab": {
          "base_uri": "https://localhost:8080/"
        },
        "id": "X8rWBrEVvcBt",
        "outputId": "83025dcd-2475-4eba-aa49-29fa43e78c2b"
      },
      "execution_count": 1,
      "outputs": [
        {
          "output_type": "stream",
          "name": "stdout",
          "text": [
            "Requirement already satisfied: portalocker>=2.0.0 in /usr/local/lib/python3.10/dist-packages (2.8.2)\n"
          ]
        }
      ]
    },
    {
      "cell_type": "code",
      "source": [
        "pip install torch==1.13.0"
      ],
      "metadata": {
        "colab": {
          "base_uri": "https://localhost:8080/"
        },
        "id": "WwhEWK5Cvw_T",
        "outputId": "d788b832-47f5-4a4e-9dd4-b54d13b98a69"
      },
      "execution_count": 2,
      "outputs": [
        {
          "output_type": "stream",
          "name": "stdout",
          "text": [
            "Requirement already satisfied: torch==1.13.0 in /usr/local/lib/python3.10/dist-packages (1.13.0)\n",
            "Requirement already satisfied: typing-extensions in /usr/local/lib/python3.10/dist-packages (from torch==1.13.0) (4.5.0)\n",
            "Requirement already satisfied: nvidia-cuda-runtime-cu11==11.7.99 in /usr/local/lib/python3.10/dist-packages (from torch==1.13.0) (11.7.99)\n",
            "Requirement already satisfied: nvidia-cudnn-cu11==8.5.0.96 in /usr/local/lib/python3.10/dist-packages (from torch==1.13.0) (8.5.0.96)\n",
            "Requirement already satisfied: nvidia-cublas-cu11==11.10.3.66 in /usr/local/lib/python3.10/dist-packages (from torch==1.13.0) (11.10.3.66)\n",
            "Requirement already satisfied: nvidia-cuda-nvrtc-cu11==11.7.99 in /usr/local/lib/python3.10/dist-packages (from torch==1.13.0) (11.7.99)\n",
            "Requirement already satisfied: setuptools in /usr/local/lib/python3.10/dist-packages (from nvidia-cublas-cu11==11.10.3.66->torch==1.13.0) (67.7.2)\n",
            "Requirement already satisfied: wheel in /usr/local/lib/python3.10/dist-packages (from nvidia-cublas-cu11==11.10.3.66->torch==1.13.0) (0.41.2)\n"
          ]
        }
      ]
    },
    {
      "cell_type": "code",
      "source": [
        "!pip install scipy==1.7.3 scikit-learn==1.0.2"
      ],
      "metadata": {
        "colab": {
          "base_uri": "https://localhost:8080/"
        },
        "id": "85Omg7apJYz6",
        "outputId": "6160f839-77ee-4bb3-836b-84bf1446ee59"
      },
      "execution_count": 3,
      "outputs": [
        {
          "output_type": "stream",
          "name": "stdout",
          "text": [
            "Requirement already satisfied: scipy==1.7.3 in /usr/local/lib/python3.10/dist-packages (1.7.3)\n",
            "Requirement already satisfied: scikit-learn==1.0.2 in /usr/local/lib/python3.10/dist-packages (1.0.2)\n",
            "Requirement already satisfied: numpy<1.23.0,>=1.16.5 in /usr/local/lib/python3.10/dist-packages (from scipy==1.7.3) (1.22.4)\n",
            "Requirement already satisfied: joblib>=0.11 in /usr/local/lib/python3.10/dist-packages (from scikit-learn==1.0.2) (1.3.2)\n",
            "Requirement already satisfied: threadpoolctl>=2.0.0 in /usr/local/lib/python3.10/dist-packages (from scikit-learn==1.0.2) (3.2.0)\n"
          ]
        }
      ]
    },
    {
      "cell_type": "code",
      "source": [
        "pip install torchtext==0.14.0 torchdata==0.5.0"
      ],
      "metadata": {
        "colab": {
          "base_uri": "https://localhost:8080/"
        },
        "id": "e5BEXjM9xBDr",
        "outputId": "354bc992-5f9b-40de-b60f-82f6d5cabe6c"
      },
      "execution_count": 4,
      "outputs": [
        {
          "output_type": "stream",
          "name": "stdout",
          "text": [
            "Requirement already satisfied: torchtext==0.14.0 in /usr/local/lib/python3.10/dist-packages (0.14.0)\n",
            "Requirement already satisfied: torchdata==0.5.0 in /usr/local/lib/python3.10/dist-packages (0.5.0)\n",
            "Requirement already satisfied: tqdm in /usr/local/lib/python3.10/dist-packages (from torchtext==0.14.0) (4.66.1)\n",
            "Requirement already satisfied: requests in /usr/local/lib/python3.10/dist-packages (from torchtext==0.14.0) (2.31.0)\n",
            "Requirement already satisfied: torch==1.13.0 in /usr/local/lib/python3.10/dist-packages (from torchtext==0.14.0) (1.13.0)\n",
            "Requirement already satisfied: numpy in /usr/local/lib/python3.10/dist-packages (from torchtext==0.14.0) (1.22.4)\n",
            "Requirement already satisfied: urllib3>=1.25 in /usr/local/lib/python3.10/dist-packages (from torchdata==0.5.0) (2.0.4)\n",
            "Requirement already satisfied: portalocker>=2.0.0 in /usr/local/lib/python3.10/dist-packages (from torchdata==0.5.0) (2.8.2)\n",
            "Requirement already satisfied: typing-extensions in /usr/local/lib/python3.10/dist-packages (from torch==1.13.0->torchtext==0.14.0) (4.5.0)\n",
            "Requirement already satisfied: nvidia-cuda-runtime-cu11==11.7.99 in /usr/local/lib/python3.10/dist-packages (from torch==1.13.0->torchtext==0.14.0) (11.7.99)\n",
            "Requirement already satisfied: nvidia-cudnn-cu11==8.5.0.96 in /usr/local/lib/python3.10/dist-packages (from torch==1.13.0->torchtext==0.14.0) (8.5.0.96)\n",
            "Requirement already satisfied: nvidia-cublas-cu11==11.10.3.66 in /usr/local/lib/python3.10/dist-packages (from torch==1.13.0->torchtext==0.14.0) (11.10.3.66)\n",
            "Requirement already satisfied: nvidia-cuda-nvrtc-cu11==11.7.99 in /usr/local/lib/python3.10/dist-packages (from torch==1.13.0->torchtext==0.14.0) (11.7.99)\n",
            "Requirement already satisfied: setuptools in /usr/local/lib/python3.10/dist-packages (from nvidia-cublas-cu11==11.10.3.66->torch==1.13.0->torchtext==0.14.0) (67.7.2)\n",
            "Requirement already satisfied: wheel in /usr/local/lib/python3.10/dist-packages (from nvidia-cublas-cu11==11.10.3.66->torch==1.13.0->torchtext==0.14.0) (0.41.2)\n",
            "Requirement already satisfied: charset-normalizer<4,>=2 in /usr/local/lib/python3.10/dist-packages (from requests->torchtext==0.14.0) (3.2.0)\n",
            "Requirement already satisfied: idna<4,>=2.5 in /usr/local/lib/python3.10/dist-packages (from requests->torchtext==0.14.0) (3.4)\n",
            "Requirement already satisfied: certifi>=2017.4.17 in /usr/local/lib/python3.10/dist-packages (from requests->torchtext==0.14.0) (2023.7.22)\n"
          ]
        }
      ]
    },
    {
      "cell_type": "code",
      "execution_count": 5,
      "metadata": {
        "id": "kNwxmu26s3h8"
      },
      "outputs": [],
      "source": [
        "from torchtext.datasets import IMDB"
      ]
    },
    {
      "cell_type": "code",
      "source": [
        "from sklearn.linear_model import SGDClassifier\n",
        "from sklearn.svm import SVC\n",
        "\n",
        "from sklearn.pipeline import Pipeline"
      ],
      "metadata": {
        "id": "6WkBjNeQaZuY"
      },
      "execution_count": 15,
      "outputs": []
    },
    {
      "cell_type": "code",
      "source": [
        "from sklearn.metrics import classification_report, confusion_matrix"
      ],
      "metadata": {
        "id": "OY4ChZEXbNmu"
      },
      "execution_count": 22,
      "outputs": []
    },
    {
      "cell_type": "code",
      "source": [
        "# создадим итератор по данным, загрузив готовый датасет IMDB из torchtext,\n",
        "# причем для начала, только обучающую train подвыборку, используя аргумент split\n",
        "# нам нужно понять, какие есть классы в датасете, поэтому проитерируемся по всей\n",
        "# обучающей подвыборке и соберем все представленные метки классов\n",
        "torch_train=iter(IMDB(split='train'))\n",
        "texts=[]\n",
        "labels=[]\n",
        "for label,text in torch_train:\n",
        "  labels += [label]\n",
        "  texts += [text]\n",
        "# определим список классов в датасете, взяв только уникальные метки,\n",
        "# превратив список классов в set и затем обратно в list, и\n",
        "# отсортировав их \"для красоты\" с помощью функции sorted\n",
        "CLASSES = sorted(list(set(labels)))\n",
        "print(CLASSES)\n",
        "#print(texts[:3])\n",
        "#несколько примеров из датасета.\n",
        "n_samples,i=3,0\n",
        "while i<n_samples:\n",
        "  print(f\"'text:'{texts[i]} ,'label:'{labels[i]}\")\n",
        "  #print(f'label:'{labels[i]})\n",
        "  i+=1\n"
      ],
      "metadata": {
        "colab": {
          "base_uri": "https://localhost:8080/"
        },
        "id": "tQEDISW6uNQQ",
        "outputId": "4d9fd643-aeb4-4959-b8fc-3477ec895674"
      },
      "execution_count": 6,
      "outputs": [
        {
          "output_type": "stream",
          "name": "stdout",
          "text": [
            "[1, 2]\n",
            "'text:'I rented I AM CURIOUS-YELLOW from my video store because of all the controversy that surrounded it when it was first released in 1967. I also heard that at first it was seized by U.S. customs if it ever tried to enter this country, therefore being a fan of films considered \"controversial\" I really had to see this for myself.<br /><br />The plot is centered around a young Swedish drama student named Lena who wants to learn everything she can about life. In particular she wants to focus her attentions to making some sort of documentary on what the average Swede thought about certain political issues such as the Vietnam War and race issues in the United States. In between asking politicians and ordinary denizens of Stockholm about their opinions on politics, she has sex with her drama teacher, classmates, and married men.<br /><br />What kills me about I AM CURIOUS-YELLOW is that 40 years ago, this was considered pornographic. Really, the sex and nudity scenes are few and far between, even then it's not shot like some cheaply made porno. While my countrymen mind find it shocking, in reality sex and nudity are a major staple in Swedish cinema. Even Ingmar Bergman, arguably their answer to good old boy John Ford, had sex scenes in his films.<br /><br />I do commend the filmmakers for the fact that any sex shown in the film is shown for artistic purposes rather than just to shock people and make money to be shown in pornographic theaters in America. I AM CURIOUS-YELLOW is a good film for anyone wanting to study the meat and potatoes (no pun intended) of Swedish cinema. But really, this film doesn't have much of a plot. ,'label:'1\n",
            "'text:'\"I Am Curious: Yellow\" is a risible and pretentious steaming pile. It doesn't matter what one's political views are because this film can hardly be taken seriously on any level. As for the claim that frontal male nudity is an automatic NC-17, that isn't true. I've seen R-rated films with male nudity. Granted, they only offer some fleeting views, but where are the R-rated films with gaping vulvas and flapping labia? Nowhere, because they don't exist. The same goes for those crappy cable shows: schlongs swinging in the breeze but not a clitoris in sight. And those pretentious indie movies like The Brown Bunny, in which we're treated to the site of Vincent Gallo's throbbing johnson, but not a trace of pink visible on Chloe Sevigny. Before crying (or implying) \"double-standard\" in matters of nudity, the mentally obtuse should take into account one unavoidably obvious anatomical difference between men and women: there are no genitals on display when actresses appears nude, and the same cannot be said for a man. In fact, you generally won't see female genitals in an American film in anything short of porn or explicit erotica. This alleged double-standard is less a double standard than an admittedly depressing ability to come to terms culturally with the insides of women's bodies. ,'label:'1\n",
            "'text:'If only to avoid making this type of film in the future. This film is interesting as an experiment but tells no cogent story.<br /><br />One might feel virtuous for sitting thru it because it touches on so many IMPORTANT issues but it does so without any discernable motive. The viewer comes away with no new perspectives (unless one comes up with one while one's mind wanders, as it will invariably do during this pointless film).<br /><br />One might better spend one's time staring out a window at a tree growing.<br /><br /> ,'label:'1\n"
          ]
        }
      ]
    },
    {
      "cell_type": "code",
      "source": [
        "# создадим DataFrame, передав ему словарь,\n",
        "# в котором будет два ключа: text и label, а в значениях листы примеров texts и labels\n",
        "import pandas as pd\n",
        "data_train=pd.DataFrame({'text':texts,'label':labels})\n",
        "data_train.head(5)"
      ],
      "metadata": {
        "colab": {
          "base_uri": "https://localhost:8080/",
          "height": 206
        },
        "id": "A81AHFPl3PFp",
        "outputId": "0d75d0dd-d712-43d6-b7c2-4b7a6141d8f9"
      },
      "execution_count": 7,
      "outputs": [
        {
          "output_type": "execute_result",
          "data": {
            "text/plain": [
              "                                                text  label\n",
              "0  I rented I AM CURIOUS-YELLOW from my video sto...      1\n",
              "1  \"I Am Curious: Yellow\" is a risible and preten...      1\n",
              "2  If only to avoid making this type of film in t...      1\n",
              "3  This film was probably inspired by Godard's Ma...      1\n",
              "4  Oh, brother...after hearing about this ridicul...      1"
            ],
            "text/html": [
              "\n",
              "  <div id=\"df-21e07503-04a2-43fd-a828-cf2a9ba30dd3\" class=\"colab-df-container\">\n",
              "    <div>\n",
              "<style scoped>\n",
              "    .dataframe tbody tr th:only-of-type {\n",
              "        vertical-align: middle;\n",
              "    }\n",
              "\n",
              "    .dataframe tbody tr th {\n",
              "        vertical-align: top;\n",
              "    }\n",
              "\n",
              "    .dataframe thead th {\n",
              "        text-align: right;\n",
              "    }\n",
              "</style>\n",
              "<table border=\"1\" class=\"dataframe\">\n",
              "  <thead>\n",
              "    <tr style=\"text-align: right;\">\n",
              "      <th></th>\n",
              "      <th>text</th>\n",
              "      <th>label</th>\n",
              "    </tr>\n",
              "  </thead>\n",
              "  <tbody>\n",
              "    <tr>\n",
              "      <th>0</th>\n",
              "      <td>I rented I AM CURIOUS-YELLOW from my video sto...</td>\n",
              "      <td>1</td>\n",
              "    </tr>\n",
              "    <tr>\n",
              "      <th>1</th>\n",
              "      <td>\"I Am Curious: Yellow\" is a risible and preten...</td>\n",
              "      <td>1</td>\n",
              "    </tr>\n",
              "    <tr>\n",
              "      <th>2</th>\n",
              "      <td>If only to avoid making this type of film in t...</td>\n",
              "      <td>1</td>\n",
              "    </tr>\n",
              "    <tr>\n",
              "      <th>3</th>\n",
              "      <td>This film was probably inspired by Godard's Ma...</td>\n",
              "      <td>1</td>\n",
              "    </tr>\n",
              "    <tr>\n",
              "      <th>4</th>\n",
              "      <td>Oh, brother...after hearing about this ridicul...</td>\n",
              "      <td>1</td>\n",
              "    </tr>\n",
              "  </tbody>\n",
              "</table>\n",
              "</div>\n",
              "    <div class=\"colab-df-buttons\">\n",
              "\n",
              "  <div class=\"colab-df-container\">\n",
              "    <button class=\"colab-df-convert\" onclick=\"convertToInteractive('df-21e07503-04a2-43fd-a828-cf2a9ba30dd3')\"\n",
              "            title=\"Convert this dataframe to an interactive table.\"\n",
              "            style=\"display:none;\">\n",
              "\n",
              "  <svg xmlns=\"http://www.w3.org/2000/svg\" height=\"24px\" viewBox=\"0 -960 960 960\">\n",
              "    <path d=\"M120-120v-720h720v720H120Zm60-500h600v-160H180v160Zm220 220h160v-160H400v160Zm0 220h160v-160H400v160ZM180-400h160v-160H180v160Zm440 0h160v-160H620v160ZM180-180h160v-160H180v160Zm440 0h160v-160H620v160Z\"/>\n",
              "  </svg>\n",
              "    </button>\n",
              "\n",
              "  <style>\n",
              "    .colab-df-container {\n",
              "      display:flex;\n",
              "      gap: 12px;\n",
              "    }\n",
              "\n",
              "    .colab-df-convert {\n",
              "      background-color: #E8F0FE;\n",
              "      border: none;\n",
              "      border-radius: 50%;\n",
              "      cursor: pointer;\n",
              "      display: none;\n",
              "      fill: #1967D2;\n",
              "      height: 32px;\n",
              "      padding: 0 0 0 0;\n",
              "      width: 32px;\n",
              "    }\n",
              "\n",
              "    .colab-df-convert:hover {\n",
              "      background-color: #E2EBFA;\n",
              "      box-shadow: 0px 1px 2px rgba(60, 64, 67, 0.3), 0px 1px 3px 1px rgba(60, 64, 67, 0.15);\n",
              "      fill: #174EA6;\n",
              "    }\n",
              "\n",
              "    .colab-df-buttons div {\n",
              "      margin-bottom: 4px;\n",
              "    }\n",
              "\n",
              "    [theme=dark] .colab-df-convert {\n",
              "      background-color: #3B4455;\n",
              "      fill: #D2E3FC;\n",
              "    }\n",
              "\n",
              "    [theme=dark] .colab-df-convert:hover {\n",
              "      background-color: #434B5C;\n",
              "      box-shadow: 0px 1px 3px 1px rgba(0, 0, 0, 0.15);\n",
              "      filter: drop-shadow(0px 1px 2px rgba(0, 0, 0, 0.3));\n",
              "      fill: #FFFFFF;\n",
              "    }\n",
              "  </style>\n",
              "\n",
              "    <script>\n",
              "      const buttonEl =\n",
              "        document.querySelector('#df-21e07503-04a2-43fd-a828-cf2a9ba30dd3 button.colab-df-convert');\n",
              "      buttonEl.style.display =\n",
              "        google.colab.kernel.accessAllowed ? 'block' : 'none';\n",
              "\n",
              "      async function convertToInteractive(key) {\n",
              "        const element = document.querySelector('#df-21e07503-04a2-43fd-a828-cf2a9ba30dd3');\n",
              "        const dataTable =\n",
              "          await google.colab.kernel.invokeFunction('convertToInteractive',\n",
              "                                                    [key], {});\n",
              "        if (!dataTable) return;\n",
              "\n",
              "        const docLinkHtml = 'Like what you see? Visit the ' +\n",
              "          '<a target=\"_blank\" href=https://colab.research.google.com/notebooks/data_table.ipynb>data table notebook</a>'\n",
              "          + ' to learn more about interactive tables.';\n",
              "        element.innerHTML = '';\n",
              "        dataTable['output_type'] = 'display_data';\n",
              "        await google.colab.output.renderOutput(dataTable, element);\n",
              "        const docLink = document.createElement('div');\n",
              "        docLink.innerHTML = docLinkHtml;\n",
              "        element.appendChild(docLink);\n",
              "      }\n",
              "    </script>\n",
              "  </div>\n",
              "\n",
              "\n",
              "<div id=\"df-3296ff1a-fd24-4381-9c30-db1500b53581\">\n",
              "  <button class=\"colab-df-quickchart\" onclick=\"quickchart('df-3296ff1a-fd24-4381-9c30-db1500b53581')\"\n",
              "            title=\"Suggest charts.\"\n",
              "            style=\"display:none;\">\n",
              "\n",
              "<svg xmlns=\"http://www.w3.org/2000/svg\" height=\"24px\"viewBox=\"0 0 24 24\"\n",
              "     width=\"24px\">\n",
              "    <g>\n",
              "        <path d=\"M19 3H5c-1.1 0-2 .9-2 2v14c0 1.1.9 2 2 2h14c1.1 0 2-.9 2-2V5c0-1.1-.9-2-2-2zM9 17H7v-7h2v7zm4 0h-2V7h2v10zm4 0h-2v-4h2v4z\"/>\n",
              "    </g>\n",
              "</svg>\n",
              "  </button>\n",
              "\n",
              "<style>\n",
              "  .colab-df-quickchart {\n",
              "      --bg-color: #E8F0FE;\n",
              "      --fill-color: #1967D2;\n",
              "      --hover-bg-color: #E2EBFA;\n",
              "      --hover-fill-color: #174EA6;\n",
              "      --disabled-fill-color: #AAA;\n",
              "      --disabled-bg-color: #DDD;\n",
              "  }\n",
              "\n",
              "  [theme=dark] .colab-df-quickchart {\n",
              "      --bg-color: #3B4455;\n",
              "      --fill-color: #D2E3FC;\n",
              "      --hover-bg-color: #434B5C;\n",
              "      --hover-fill-color: #FFFFFF;\n",
              "      --disabled-bg-color: #3B4455;\n",
              "      --disabled-fill-color: #666;\n",
              "  }\n",
              "\n",
              "  .colab-df-quickchart {\n",
              "    background-color: var(--bg-color);\n",
              "    border: none;\n",
              "    border-radius: 50%;\n",
              "    cursor: pointer;\n",
              "    display: none;\n",
              "    fill: var(--fill-color);\n",
              "    height: 32px;\n",
              "    padding: 0;\n",
              "    width: 32px;\n",
              "  }\n",
              "\n",
              "  .colab-df-quickchart:hover {\n",
              "    background-color: var(--hover-bg-color);\n",
              "    box-shadow: 0 1px 2px rgba(60, 64, 67, 0.3), 0 1px 3px 1px rgba(60, 64, 67, 0.15);\n",
              "    fill: var(--button-hover-fill-color);\n",
              "  }\n",
              "\n",
              "  .colab-df-quickchart-complete:disabled,\n",
              "  .colab-df-quickchart-complete:disabled:hover {\n",
              "    background-color: var(--disabled-bg-color);\n",
              "    fill: var(--disabled-fill-color);\n",
              "    box-shadow: none;\n",
              "  }\n",
              "\n",
              "  .colab-df-spinner {\n",
              "    border: 2px solid var(--fill-color);\n",
              "    border-color: transparent;\n",
              "    border-bottom-color: var(--fill-color);\n",
              "    animation:\n",
              "      spin 1s steps(1) infinite;\n",
              "  }\n",
              "\n",
              "  @keyframes spin {\n",
              "    0% {\n",
              "      border-color: transparent;\n",
              "      border-bottom-color: var(--fill-color);\n",
              "      border-left-color: var(--fill-color);\n",
              "    }\n",
              "    20% {\n",
              "      border-color: transparent;\n",
              "      border-left-color: var(--fill-color);\n",
              "      border-top-color: var(--fill-color);\n",
              "    }\n",
              "    30% {\n",
              "      border-color: transparent;\n",
              "      border-left-color: var(--fill-color);\n",
              "      border-top-color: var(--fill-color);\n",
              "      border-right-color: var(--fill-color);\n",
              "    }\n",
              "    40% {\n",
              "      border-color: transparent;\n",
              "      border-right-color: var(--fill-color);\n",
              "      border-top-color: var(--fill-color);\n",
              "    }\n",
              "    60% {\n",
              "      border-color: transparent;\n",
              "      border-right-color: var(--fill-color);\n",
              "    }\n",
              "    80% {\n",
              "      border-color: transparent;\n",
              "      border-right-color: var(--fill-color);\n",
              "      border-bottom-color: var(--fill-color);\n",
              "    }\n",
              "    90% {\n",
              "      border-color: transparent;\n",
              "      border-bottom-color: var(--fill-color);\n",
              "    }\n",
              "  }\n",
              "</style>\n",
              "\n",
              "  <script>\n",
              "    async function quickchart(key) {\n",
              "      const quickchartButtonEl =\n",
              "        document.querySelector('#' + key + ' button');\n",
              "      quickchartButtonEl.disabled = true;  // To prevent multiple clicks.\n",
              "      quickchartButtonEl.classList.add('colab-df-spinner');\n",
              "      try {\n",
              "        const charts = await google.colab.kernel.invokeFunction(\n",
              "            'suggestCharts', [key], {});\n",
              "      } catch (error) {\n",
              "        console.error('Error during call to suggestCharts:', error);\n",
              "      }\n",
              "      quickchartButtonEl.classList.remove('colab-df-spinner');\n",
              "      quickchartButtonEl.classList.add('colab-df-quickchart-complete');\n",
              "    }\n",
              "    (() => {\n",
              "      let quickchartButtonEl =\n",
              "        document.querySelector('#df-3296ff1a-fd24-4381-9c30-db1500b53581 button');\n",
              "      quickchartButtonEl.style.display =\n",
              "        google.colab.kernel.accessAllowed ? 'block' : 'none';\n",
              "    })();\n",
              "  </script>\n",
              "</div>\n",
              "    </div>\n",
              "  </div>\n"
            ]
          },
          "metadata": {},
          "execution_count": 7
        }
      ]
    },
    {
      "cell_type": "markdown",
      "source": [
        "Если бы в нашем датасете лейблы были заданы в виде строк-названий, было бы необходимо перевести их в числовой формат, для этого можно воспользоваться LabelEncoder. В нашем случае метки классов уже представлены в виде 1 и 2, поэтому просто будут переведены в 0 и 1.\n",
        "\n",
        "from sklearn.preprocessing import LabelEncoder\n",
        "создадим инстанс LabelEncoder с дефолтными параметрами\n",
        "le = LabelEncoder()\n",
        "обучим наш le, используя метод fit, на всех метках датасета df[\"label\"]\n",
        "le.fit(df[\"label\"])\n",
        "присвоим в новый столбец encoded_label датафрейма df обработанные метки классов.\n",
        "метки классов df[\"label\"] обрабатываются с помощью метода transform,\n",
        "применяемого к le\n",
        "df['encoded_label'] = le.transform(df[\"label\"])\n",
        "распечатаем полученные уникальные значения в столбце encoded_label\n",
        "c помощью метода unique()"
      ],
      "metadata": {
        "id": "ZN_FR4_Q4IVM"
      }
    },
    {
      "cell_type": "code",
      "source": [
        "data_train['label'].replace({1:0,2:1}, inplace=True)\n",
        "data_train.rename(columns={\"label\": 'encoded_label'}, inplace=True)\n",
        "data_train['encoded_label'].unique()"
      ],
      "metadata": {
        "colab": {
          "base_uri": "https://localhost:8080/"
        },
        "id": "LOxWQn_J4r5t",
        "outputId": "bfe91ef3-a980-4294-8187-493647fdbbee"
      },
      "execution_count": 8,
      "outputs": [
        {
          "output_type": "execute_result",
          "data": {
            "text/plain": [
              "array([0, 1])"
            ]
          },
          "metadata": {},
          "execution_count": 8
        }
      ]
    },
    {
      "cell_type": "code",
      "source": [
        "#Разделим датасет на обучающую и тестовую выборки (20%)  передадим также наши метки классов в качестве параметра stratify\n",
        "# для сбалансированного разделения на обучающую и тестовую выборки,\n",
        "# зафиксируем random_state\n",
        "from sklearn.model_selection import train_test_split\n",
        "df=data_train.copy()\n",
        "x_train,x_test,y_train,y_test = train_test_split(\n",
        "    df['text'], df['encoded_label'], test_size=0.2,\n",
        "    stratify=df['encoded_label'], random_state=42)"
      ],
      "metadata": {
        "id": "oAbfkNqd6VG-"
      },
      "execution_count": 9,
      "outputs": []
    },
    {
      "cell_type": "code",
      "source": [
        "x_train.head(5)"
      ],
      "metadata": {
        "colab": {
          "base_uri": "https://localhost:8080/"
        },
        "id": "IvTkheqQuyFP",
        "outputId": "6316eb2d-3aba-4fba-9f74-ab5abeb596df"
      },
      "execution_count": 55,
      "outputs": [
        {
          "output_type": "execute_result",
          "data": {
            "text/plain": [
              "20022    I have always been a huge James Bond fanatic! ...\n",
              "4993     I am a Christian and I say this movie had terr...\n",
              "24760    Neatly sandwiched between THE STRANGER, a smal...\n",
              "13775    Years ago I did follow a soap on TV. So I was ...\n",
              "20504    Here's a gritty, get-the-bad guys revenge stor...\n",
              "Name: text, dtype: object"
            ]
          },
          "metadata": {},
          "execution_count": 55
        }
      ]
    },
    {
      "cell_type": "markdown",
      "source": [
        "# SGD  Stochastic Gradient Decent  Стохастический градиентный спуск\n"
      ],
      "metadata": {
        "id": "D6-SlWfXbvhg"
      }
    },
    {
      "cell_type": "markdown",
      "source": [
        "# \"Ручная if-idf векторизация\""
      ],
      "metadata": {
        "id": "yT-gFLAOTSJu"
      }
    },
    {
      "cell_type": "markdown",
      "source": [
        "Произведем TF-IDF векторизацию текста.\n",
        "Создадим инстанс TfidfVectorizer, используя следующие параметры:\n",
        "используем униграммы, задав значение (1,1)(отдельные слова) для аргумента ngram_range,\n",
        "текст будем делить на слова, задав значение 'word' аргумента analyzer,\n",
        "зададим значение min_df равное 2, чтобы в словарь добавлялись все ngrams, встретившиеся больше 2 раз,\n",
        "зададим стоп-слова \"english\" с помощью аргумента stop_words.\n",
        "То есть создадим словарь слов встречающихся более 2 раз."
      ],
      "metadata": {
        "id": "jzgaaYtUA08y"
      }
    },
    {
      "cell_type": "code",
      "source": [
        "from sklearn.feature_extraction.text import TfidfVectorizer\n",
        "vectorizer = TfidfVectorizer(ngram_range=(1,1),\n",
        "                             analyzer='word',\n",
        "                             min_df=2,\n",
        "                             stop_words=\"english\")\n",
        "# обучаем словарь и сразу преобразуем обучающую выборку x_train с помощью метода fit_transform\n",
        "tfidf_train = vectorizer.fit_transform(x_train)\n",
        "# преобразуем тестовую выборку x_test с помощью метода transform\n",
        "tfidf_test = vectorizer.transform(x_test)"
      ],
      "metadata": {
        "id": "PbAH0dksBINi"
      },
      "execution_count": 10,
      "outputs": []
    },
    {
      "cell_type": "code",
      "source": [
        "# Размер словаря\n",
        "print(tfidf_train.shape[1])"
      ],
      "metadata": {
        "colab": {
          "base_uri": "https://localhost:8080/"
        },
        "id": "m1Q3o7DOCADx",
        "outputId": "9fa173e7-f917-48a6-8617-fe9f160141b5"
      },
      "execution_count": 46,
      "outputs": [
        {
          "output_type": "stream",
          "name": "stdout",
          "text": [
            "40525\n"
          ]
        }
      ]
    },
    {
      "cell_type": "code",
      "source": [
        "# Что представляет собой один пример данных после TFIDF\n",
        "tfidf_train[0].data"
      ],
      "metadata": {
        "colab": {
          "base_uri": "https://localhost:8080/"
        },
        "id": "xha_72vOCPls",
        "outputId": "f1e494ac-aa8b-4691-81b0-978945f89fa8"
      },
      "execution_count": 31,
      "outputs": [
        {
          "output_type": "execute_result",
          "data": {
            "text/plain": [
              "array([0.07019251, 0.07937233, 0.07525749, 0.09475886, 0.10671608,\n",
              "       0.10671608, 0.10358497, 0.10671608, 0.09475886, 0.10115629,\n",
              "       0.09917191, 0.09475886, 0.07340832, 0.18325551, 0.10358497,\n",
              "       0.09917191, 0.07676857, 0.08553694, 0.05685072, 0.10671608,\n",
              "       0.09917191, 0.10671608, 0.10358497, 0.10115629, 0.17213593,\n",
              "       0.09749415, 0.0872147 , 0.09361213, 0.10671608, 0.10358497,\n",
              "       0.10671608, 0.06197363, 0.07139564, 0.0960408 , 0.10358497,\n",
              "       0.10671608, 0.0960408 , 0.09075657, 0.08553694, 0.06877085,\n",
              "       0.10671608, 0.07111655, 0.10671608, 0.08606796, 0.10671608,\n",
              "       0.10671608, 0.10671608, 0.10115629, 0.09917191, 0.10115629,\n",
              "       0.07486166, 0.06922441, 0.10115629, 0.10671608, 0.09361213,\n",
              "       0.07466902, 0.09917191, 0.07879936, 0.07525749, 0.10671608,\n",
              "       0.15721615, 0.10671608, 0.10671608, 0.10671608, 0.20716993,\n",
              "       0.10671608, 0.10671608, 0.08202389, 0.0960408 , 0.10671608,\n",
              "       0.10671608, 0.10671608, 0.14647914, 0.31748932, 0.10358497,\n",
              "       0.09162775, 0.10358497, 0.10358497, 0.09749415, 0.07631501,\n",
              "       0.10671608, 0.10671608, 0.2192202 ])"
            ]
          },
          "metadata": {},
          "execution_count": 31
        }
      ]
    },
    {
      "cell_type": "code",
      "source": [
        "#Векторизованные тексты хранятся в виде разреженной матрицы.\n",
        "tfidf_train"
      ],
      "metadata": {
        "id": "8wcI1_2KCkTG"
      },
      "execution_count": null,
      "outputs": []
    },
    {
      "cell_type": "markdown",
      "source": [
        "Для обучения векторные представления необходимо преобразовать в плотную матрицу. Реализуем  с помощью метода scipy.sparse.csr_matrix.todense"
      ],
      "metadata": {
        "id": "UTNEF1o4D7q6"
      }
    },
    {
      "cell_type": "code",
      "source": [
        "import scipy\n",
        "\n",
        "train_tfidf_dense = scipy.sparse.csr_matrix.todense(tfidf_train)#[:3, :])\n",
        "print(train_tfidf_dense[0]) # [train_tfidf_dense[0] != 0][0]\n",
        "print(len(train_tfidf_dense))\n",
        "print(train_tfidf_dense[0][train_tfidf_dense[0] != 0][0])"
      ],
      "metadata": {
        "colab": {
          "base_uri": "https://localhost:8080/"
        },
        "id": "eGeyGi3TEYkN",
        "outputId": "8a4cf5a5-8074-42d2-fe64-a5d52f3b2265"
      },
      "execution_count": 11,
      "outputs": [
        {
          "output_type": "stream",
          "name": "stdout",
          "text": [
            "[[0. 0. 0. ... 0. 0. 0.]]\n",
            "20000\n",
            "[[0.15294496 0.09187453 0.06404302 0.03773019 0.04907279 0.08645197\n",
            "  0.07330856 0.05847762 0.05570911 0.09219234 0.02388042 0.02451574\n",
            "  0.30800698 0.10994039 0.03797819 0.38215483 0.05970551 0.07444551\n",
            "  0.0240369  0.22333652 0.03490929 0.05013343 0.13961062 0.03094719\n",
            "  0.07010147 0.07229822 0.02421292 0.04161227 0.04776302 0.02458804\n",
            "  0.06624411 0.13755173 0.05402733 0.03703425 0.04520614 0.02845448\n",
            "  0.03368561 0.06531163 0.03749915 0.0244194  0.0709112  0.04822389\n",
            "  0.02789725 0.07096651 0.08242689 0.05128706 0.15817141 0.03548581\n",
            "  0.02829875 0.08645197 0.05182299 0.06523855 0.05228628 0.05223362\n",
            "  0.08382133 0.03921774 0.0678513  0.07970681 0.12054531 0.06058324\n",
            "  0.05797002 0.03229802 0.06817942 0.05563246 0.01698921 0.17290393\n",
            "  0.13691421 0.02410548 0.03201017 0.0443074  0.05923957 0.02862854\n",
            "  0.02465335 0.05073637 0.02190686 0.0258912  0.03795636 0.06949401\n",
            "  0.04273943 0.05005048 0.05244611 0.01353336 0.04603478 0.19253527\n",
            "  0.0573039  0.08442499 0.07138909 0.07574539 0.08906519 0.08136857\n",
            "  0.0363421  0.03739604 0.11037126 0.03553043 0.07726287 0.2533163\n",
            "  0.03325963 0.0457811  0.04503814 0.04492002 0.04202941 0.02913857\n",
            "  0.05462212 0.05651351 0.03016983 0.02498455 0.03965405 0.03895836\n",
            "  0.1619376  0.13889808 0.05021715 0.05676941 0.06264319 0.04506195\n",
            "  0.05096178 0.04292596 0.03433523 0.0464503  0.05051641 0.03895836\n",
            "  0.10328849 0.07111103 0.03968038 0.04540203 0.05621736 0.03234493\n",
            "  0.0219817  0.1455787  0.13961062 0.05202598 0.07647248 0.0268727\n",
            "  0.05765187 0.03863541 0.09392922 0.06019664 0.04598993 0.03585337]]\n"
          ]
        }
      ]
    },
    {
      "cell_type": "code",
      "source": [
        "test_tfidf_dense = scipy.sparse.csr_matrix.todense(tfidf_test)"
      ],
      "metadata": {
        "id": "KZLRMPxhSIek"
      },
      "execution_count": 19,
      "outputs": []
    },
    {
      "cell_type": "markdown",
      "source": [
        "Создаем пайплайн с классификатором."
      ],
      "metadata": {
        "id": "aug8GgqdTKT-"
      }
    },
    {
      "cell_type": "code",
      "source": [
        "pipeline_1 = Pipeline([\n",
        "        (\"classifier\", SGDClassifier(\n",
        "        loss=\"log\",\n",
        "        penalty=\"l2\",\n",
        "        class_weight=\"balanced\",\n",
        "        tol=0.001))])"
      ],
      "metadata": {
        "id": "LIxqRW9IRJkf"
      },
      "execution_count": 16,
      "outputs": []
    },
    {
      "cell_type": "code",
      "source": [
        "pipeline_1.fit(train_tfidf_dense, y_train)"
      ],
      "metadata": {
        "colab": {
          "base_uri": "https://localhost:8080/"
        },
        "id": "RKM9DmfGRaX9",
        "outputId": "c167b22c-1fd2-4d1f-d1a7-b8120fa674d2"
      },
      "execution_count": 17,
      "outputs": [
        {
          "output_type": "stream",
          "name": "stderr",
          "text": [
            "/usr/local/lib/python3.10/dist-packages/sklearn/utils/validation.py:593: FutureWarning: np.matrix usage is deprecated in 1.0 and will raise a TypeError in 1.2. Please convert to a numpy array with np.asarray. For more information see: https://numpy.org/doc/stable/reference/generated/numpy.matrix.html\n",
            "  warnings.warn(\n"
          ]
        },
        {
          "output_type": "execute_result",
          "data": {
            "text/plain": [
              "Pipeline(steps=[('classifier',\n",
              "                 SGDClassifier(class_weight='balanced', loss='log'))])"
            ]
          },
          "metadata": {},
          "execution_count": 17
        }
      ]
    },
    {
      "cell_type": "code",
      "source": [
        "y_test_pred = pipeline_1.predict(test_tfidf_dense)"
      ],
      "metadata": {
        "colab": {
          "base_uri": "https://localhost:8080/"
        },
        "id": "MD_od4oKRzWf",
        "outputId": "bb962728-26b9-455a-889f-a841d47a1662"
      },
      "execution_count": 20,
      "outputs": [
        {
          "output_type": "stream",
          "name": "stderr",
          "text": [
            "/usr/local/lib/python3.10/dist-packages/sklearn/utils/validation.py:593: FutureWarning: np.matrix usage is deprecated in 1.0 and will raise a TypeError in 1.2. Please convert to a numpy array with np.asarray. For more information see: https://numpy.org/doc/stable/reference/generated/numpy.matrix.html\n",
            "  warnings.warn(\n"
          ]
        }
      ]
    },
    {
      "cell_type": "markdown",
      "source": [
        "# Результаты"
      ],
      "metadata": {
        "id": "J8wZUTjjUEb8"
      }
    },
    {
      "cell_type": "code",
      "source": [
        "# распечатаем метрики с помощью функции classification_report,\n",
        "# в которую в качестве аргументов передаются y_test и y_test_pred\n",
        "print(classification_report(y_test, y_test_pred))\n",
        "# распечатаем confusion matrix с помощью функции confusion_matrix,\n",
        "# в которую в качестве аргументов передаются y_test и y_test_pred\n",
        "print(f\"Confusion matrix:\\n{confusion_matrix(y_test, y_test_pred)}\")"
      ],
      "metadata": {
        "colab": {
          "base_uri": "https://localhost:8080/"
        },
        "id": "mFrqsrwfSnUp",
        "outputId": "4bdb86b2-1018-4c24-a140-27eb249f99ad"
      },
      "execution_count": 23,
      "outputs": [
        {
          "output_type": "stream",
          "name": "stdout",
          "text": [
            "              precision    recall  f1-score   support\n",
            "\n",
            "           0       0.90      0.87      0.88      2500\n",
            "           1       0.87      0.90      0.89      2500\n",
            "\n",
            "    accuracy                           0.88      5000\n",
            "   macro avg       0.88      0.88      0.88      5000\n",
            "weighted avg       0.88      0.88      0.88      5000\n",
            "\n",
            "Confusion matrix:\n",
            "[[2166  334]\n",
            " [ 247 2253]]\n"
          ]
        }
      ]
    },
    {
      "cell_type": "markdown",
      "source": [
        "# \"Векторизация из коробки\""
      ],
      "metadata": {
        "id": "BKA4XXa8ToF7"
      }
    },
    {
      "cell_type": "markdown",
      "source": [
        "\n",
        "\n",
        "Строим и обучим классификатор.\n",
        "Две модели: Stochastic Gradient Decent и Support Vector Machine. (СГД и метод опорных векторов). Cоздадим инстанс Pipeline, передав в качестве аргумента лист из двух моделей(tuple из двух элементов: строка-название и сам инстанс модели)\n"
      ],
      "metadata": {
        "id": "mJ0VfhUeFM5H"
      }
    },
    {
      "cell_type": "code",
      "source": [
        "pipeline = Pipeline([\n",
        "    (\"feature_extractor\", TfidfVectorizer(\n",
        "        input=\"array\",\n",
        "        norm=\"l2\",\n",
        "        max_features=None,\n",
        "        sublinear_tf=True,\n",
        "        stop_words=\"english\")),\n",
        "    (\"classifier\", SGDClassifier(\n",
        "        loss=\"log\",\n",
        "        penalty=\"l2\",\n",
        "        class_weight=\"balanced\",\n",
        "        tol=0.001))])"
      ],
      "metadata": {
        "id": "W8ygLCZhF6io"
      },
      "execution_count": 24,
      "outputs": []
    },
    {
      "cell_type": "code",
      "source": [
        "pipeline.fit(x_train, y_train)"
      ],
      "metadata": {
        "colab": {
          "base_uri": "https://localhost:8080/"
        },
        "id": "YQOgDQYbHPAw",
        "outputId": "b1fa1312-7a0c-4b43-efc6-eb1bfd0ce246"
      },
      "execution_count": 25,
      "outputs": [
        {
          "output_type": "execute_result",
          "data": {
            "text/plain": [
              "Pipeline(steps=[('feature_extractor',\n",
              "                 TfidfVectorizer(input='array', stop_words='english',\n",
              "                                 sublinear_tf=True)),\n",
              "                ('classifier',\n",
              "                 SGDClassifier(class_weight='balanced', loss='log'))])"
            ]
          },
          "metadata": {},
          "execution_count": 25
        }
      ]
    },
    {
      "cell_type": "code",
      "source": [
        "y_test_pred = pipeline.predict(x_test)"
      ],
      "metadata": {
        "id": "wNRDx4THHP0f"
      },
      "execution_count": 26,
      "outputs": []
    },
    {
      "cell_type": "code",
      "source": [
        "y_test_pred[:10]"
      ],
      "metadata": {
        "colab": {
          "base_uri": "https://localhost:8080/"
        },
        "id": "FmRKDWt0HTog",
        "outputId": "3203d79b-6aa0-4b2b-c92b-4b5755a3d9a6"
      },
      "execution_count": 27,
      "outputs": [
        {
          "output_type": "execute_result",
          "data": {
            "text/plain": [
              "array([1, 0, 0, 0, 1, 0, 1, 0, 0, 0])"
            ]
          },
          "metadata": {},
          "execution_count": 27
        }
      ]
    },
    {
      "cell_type": "code",
      "source": [
        "print(classification_report(y_test, y_test_pred))\n",
        "print(f\"Confusion matrix:\\n{confusion_matrix(y_test, y_test_pred)}\")"
      ],
      "metadata": {
        "colab": {
          "base_uri": "https://localhost:8080/"
        },
        "id": "ClXALXl7HdFB",
        "outputId": "94833714-0b7e-4a4b-db3f-0b8c623e5707"
      },
      "execution_count": 28,
      "outputs": [
        {
          "output_type": "stream",
          "name": "stdout",
          "text": [
            "              precision    recall  f1-score   support\n",
            "\n",
            "           0       0.90      0.86      0.88      2500\n",
            "           1       0.87      0.91      0.89      2500\n",
            "\n",
            "    accuracy                           0.88      5000\n",
            "   macro avg       0.89      0.88      0.88      5000\n",
            "weighted avg       0.89      0.88      0.88      5000\n",
            "\n",
            "Confusion matrix:\n",
            "[[2150  350]\n",
            " [ 229 2271]]\n"
          ]
        }
      ]
    },
    {
      "cell_type": "markdown",
      "source": [
        "#SVC  Support Vector Machine. Метод опорных векторов"
      ],
      "metadata": {
        "id": "iyLiDZy1YisO"
      }
    },
    {
      "cell_type": "code",
      "source": [
        "from sklearn.svm import SVC\n",
        "pipeline_2 = Pipeline([\n",
        "    (\"feature_extractor\", TfidfVectorizer(\n",
        "        input=\"array\",\n",
        "        norm=\"l2\",\n",
        "        # для ускорения обучения ограничим максимальное число признаков\n",
        "        max_features=1000,\n",
        "        sublinear_tf=True,\n",
        "        stop_words=\"english\")),\n",
        "    (\"classifier\", SVC(\n",
        "        C=10,\n",
        "        kernel=\"rbf\",\n",
        "        gamma=0.1,\n",
        "        probability=True,\n",
        "        class_weight=None)),\n",
        "        ]\n",
        ")"
      ],
      "metadata": {
        "id": "IFr3pTF7HtJ9"
      },
      "execution_count": 29,
      "outputs": []
    },
    {
      "cell_type": "code",
      "source": [
        "pipeline_2.fit(x_train, y_train)\n",
        "\n",
        "y_test_pred = pipeline.predict(x_test)\n"
      ],
      "metadata": {
        "id": "4fJs_SLbYsQe"
      },
      "execution_count": 31,
      "outputs": []
    },
    {
      "cell_type": "markdown",
      "source": [
        "#Результаты"
      ],
      "metadata": {
        "id": "RAYVrneJZB6h"
      }
    },
    {
      "cell_type": "code",
      "source": [
        "\n",
        "print(classification_report(y_test, y_test_pred))\n",
        "\n",
        "print(f\"Confusion matrix:\\n{confusion_matrix(y_test, y_test_pred)}\")"
      ],
      "metadata": {
        "colab": {
          "base_uri": "https://localhost:8080/"
        },
        "id": "M9IrgkliY_fn",
        "outputId": "7649baef-60ae-4656-e325-d51259ce8eb1"
      },
      "execution_count": 32,
      "outputs": [
        {
          "output_type": "stream",
          "name": "stdout",
          "text": [
            "              precision    recall  f1-score   support\n",
            "\n",
            "           0       0.90      0.86      0.88      2500\n",
            "           1       0.87      0.91      0.89      2500\n",
            "\n",
            "    accuracy                           0.88      5000\n",
            "   macro avg       0.89      0.88      0.88      5000\n",
            "weighted avg       0.89      0.88      0.88      5000\n",
            "\n",
            "Confusion matrix:\n",
            "[[2150  350]\n",
            " [ 229 2271]]\n"
          ]
        }
      ]
    }
  ]
}
