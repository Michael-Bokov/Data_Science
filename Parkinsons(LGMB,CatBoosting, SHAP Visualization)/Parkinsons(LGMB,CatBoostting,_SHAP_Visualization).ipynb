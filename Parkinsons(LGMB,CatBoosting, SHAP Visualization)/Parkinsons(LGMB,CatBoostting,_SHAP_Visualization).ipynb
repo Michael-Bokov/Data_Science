{
  "metadata": {
    "colab": {
      "provenance": [],
      "gpuType": "T4"
    },
    "kernelspec": {
      "name": "python3",
      "display_name": "Python 3"
    },
    "language_info": {
      "name": "python",
      "version": "3.10.12",
      "mimetype": "text/x-python",
      "codemirror_mode": {
        "name": "ipython",
        "version": 3
      },
      "pygments_lexer": "ipython3",
      "nbconvert_exporter": "python",
      "file_extension": ".py"
    },
    "accelerator": "GPU"
  },
  "nbformat_minor": 0,
  "nbformat": 4,
  "cells": [
    {
      "cell_type": "markdown",
      "source": [
        "Классификация на датасете [Parkinsons] https://archive.ics.uci.edu/ml/datasets/parkinsons. Он состоит из ряда биомедицинских измерений голоса 31 человека, 23 из которых страдают болезнью Паркинсона. Каждый столбец в таблице представляет собой конкретный показатель голоса, а каждая строка соответствует одной из 195 записей голоса пациентов.\n",
        "Датасет имеет 23 биологических измерения голоса:\n",
        "\n",
        "    1 -- name - id пациент-запись;\n",
        "    2 -- MDVP:Fo(Hz) - Средняя основная частота вокала;\n",
        "    3 -- MDVP:Fhi(Hz) - Максимальная основная частота вокала;\n",
        "    4 -- MDVP:Flo(Hz) - Минимальная основная частота вокала;\n",
        "    5-9 -- MDVP:Jitter(%), MDVP:Jitter(Abs), MDVP:RAP, MDVP:PPQ, Jitter:DDP - Несколько показателей изменения основной частоты;\n",
        "    10-16 -- MDVP:Shimmer, MDVP:Shimmer(dB), Shimmer:APQ3, Shimmer:APQ5, MDVP:APQ, Shimmer:DDA - Несколько показателей вариации амплитуды;\n",
        "    17-18 -- NHR, HNR - Две меры отношения шума к тональным компонентам в голосе;\n",
        "    20-21 -- RPDE, D2 - Две нелинейные меры динамической сложности;\n",
        "    22 -- DFA - экспонента масштабирования фрактала сигнала;\n",
        "    23-25 -- spread1, spread2, PPE - три нелинейные меры изменения основной частоты.\n",
        "\n",
        "Статус\n",
        "\n",
        "    19 -- status - Состояние здоровья субъекта (единица) - болезнь Паркинсона, (ноль) - здоров.\n",
        "\n"
      ],
      "metadata": {
        "id": "u_W9K-ZM6-wo"
      }
    },
    {
      "cell_type": "code",
      "source": [
        "# Импортируем наши стандартные библиотеки\n",
        "from copy import deepcopy\n",
        "\n",
        "import numpy as np\n",
        "import pandas as pd\n",
        "import seaborn as sns\n",
        "import matplotlib.pyplot as plt\n",
        "\n",
        "%matplotlib inline\n",
        "sns.set()"
      ],
      "metadata": {
        "id": "2N0jdArpW7DP",
        "execution": {
          "iopub.status.busy": "2023-11-11T17:28:11.889828Z",
          "iopub.execute_input": "2023-11-11T17:28:11.890192Z",
          "iopub.status.idle": "2023-11-11T17:28:11.898724Z",
          "shell.execute_reply.started": "2023-11-11T17:28:11.890161Z",
          "shell.execute_reply": "2023-11-11T17:28:11.897088Z"
        },
        "trusted": true
      },
      "execution_count": 3,
      "outputs": []
    },
    {
      "cell_type": "markdown",
      "source": [
        "### Подготовка данных"
      ],
      "metadata": {
        "id": "ZbGrvmIjanvg"
      }
    },
    {
      "cell_type": "code",
      "source": [
        "!pip install gdown"
      ],
      "metadata": {
        "execution": {
          "iopub.status.busy": "2023-11-11T17:28:11.907270Z",
          "iopub.execute_input": "2023-11-11T17:28:11.908650Z",
          "iopub.status.idle": "2023-11-11T17:28:21.746265Z",
          "shell.execute_reply.started": "2023-11-11T17:28:11.908599Z",
          "shell.execute_reply": "2023-11-11T17:28:21.744603Z"
        },
        "trusted": true,
        "colab": {
          "base_uri": "https://localhost:8080/"
        },
        "id": "u5ddcLv2eOPC",
        "outputId": "087ebfe3-4e82-46c9-8762-752c0b088654"
      },
      "execution_count": 4,
      "outputs": [
        {
          "output_type": "stream",
          "name": "stdout",
          "text": [
            "Requirement already satisfied: gdown in /usr/local/lib/python3.10/dist-packages (4.6.6)\n",
            "Requirement already satisfied: filelock in /usr/local/lib/python3.10/dist-packages (from gdown) (3.13.1)\n",
            "Requirement already satisfied: requests[socks] in /usr/local/lib/python3.10/dist-packages (from gdown) (2.31.0)\n",
            "Requirement already satisfied: six in /usr/local/lib/python3.10/dist-packages (from gdown) (1.16.0)\n",
            "Requirement already satisfied: tqdm in /usr/local/lib/python3.10/dist-packages (from gdown) (4.66.1)\n",
            "Requirement already satisfied: beautifulsoup4 in /usr/local/lib/python3.10/dist-packages (from gdown) (4.11.2)\n",
            "Requirement already satisfied: soupsieve>1.2 in /usr/local/lib/python3.10/dist-packages (from beautifulsoup4->gdown) (2.5)\n",
            "Requirement already satisfied: charset-normalizer<4,>=2 in /usr/local/lib/python3.10/dist-packages (from requests[socks]->gdown) (3.3.2)\n",
            "Requirement already satisfied: idna<4,>=2.5 in /usr/local/lib/python3.10/dist-packages (from requests[socks]->gdown) (3.4)\n",
            "Requirement already satisfied: urllib3<3,>=1.21.1 in /usr/local/lib/python3.10/dist-packages (from requests[socks]->gdown) (2.0.7)\n",
            "Requirement already satisfied: certifi>=2017.4.17 in /usr/local/lib/python3.10/dist-packages (from requests[socks]->gdown) (2023.7.22)\n",
            "Requirement already satisfied: PySocks!=1.5.7,>=1.5.6 in /usr/local/lib/python3.10/dist-packages (from requests[socks]->gdown) (1.7.1)\n"
          ]
        }
      ]
    },
    {
      "cell_type": "code",
      "source": [
        "# Команда gdown для скачивания файла по ID\n",
        "# file_id = 13iZSrbgIzYemEQiRqLWUsOpDeTiEpsU9\n",
        "! gdown https://drive.google.com/uc?id=13iZSrbgIzYemEQiRqLWUsOpDeTiEpsU9"
      ],
      "metadata": {
        "colab": {
          "base_uri": "https://localhost:8080/"
        },
        "id": "Zj6pyKCYPhua",
        "outputId": "2a0a7bc5-3500-440e-f79c-5755b0014c91",
        "execution": {
          "iopub.status.busy": "2023-11-11T17:28:21.749067Z",
          "iopub.execute_input": "2023-11-11T17:28:21.749488Z",
          "iopub.status.idle": "2023-11-11T17:28:23.674757Z",
          "shell.execute_reply.started": "2023-11-11T17:28:21.749453Z",
          "shell.execute_reply": "2023-11-11T17:28:23.673836Z"
        },
        "trusted": true
      },
      "execution_count": 5,
      "outputs": [
        {
          "output_type": "stream",
          "name": "stdout",
          "text": [
            "Downloading...\n",
            "From: https://drive.google.com/uc?id=13iZSrbgIzYemEQiRqLWUsOpDeTiEpsU9\n",
            "To: /content/parkinsons.csv\n",
            "\r  0% 0.00/1.79M [00:00<?, ?B/s]\r100% 1.79M/1.79M [00:00<00:00, 123MB/s]\n"
          ]
        }
      ]
    },
    {
      "cell_type": "code",
      "source": [
        "df = pd.read_csv(\"parkinsons.csv\")\n",
        "df.sample(10)"
      ],
      "metadata": {
        "id": "SVKDQ32lXUuA",
        "execution": {
          "iopub.status.busy": "2023-11-11T17:28:23.675924Z",
          "iopub.execute_input": "2023-11-11T17:28:23.676343Z",
          "iopub.status.idle": "2023-11-11T17:28:23.724802Z",
          "shell.execute_reply.started": "2023-11-11T17:28:23.676310Z",
          "shell.execute_reply": "2023-11-11T17:28:23.723161Z"
        },
        "trusted": true,
        "colab": {
          "base_uri": "https://localhost:8080/",
          "height": 412
        },
        "outputId": "62fbda23-d38e-4281-db40-c259540bf1ee"
      },
      "execution_count": 6,
      "outputs": [
        {
          "output_type": "execute_result",
          "data": {
            "text/plain": [
              "      MDVP:Fo(Hz)  MDVP:Fhi(Hz)  MDVP:Flo(Hz)  MDVP:Jitter(%)  \\\n",
              "2128   147.210363    252.370191    113.738859        0.005722   \n",
              "3863   129.051825    205.369320     72.112257        0.010312   \n",
              "2628   152.716501    241.537812     85.044020        0.006657   \n",
              "999    211.121072    247.720663    158.890943        0.004122   \n",
              "626    216.746344    237.913112    154.494380        0.004530   \n",
              "699    226.667026    263.547057    202.116671        0.003691   \n",
              "2671   147.708509    253.583653     66.931109        0.007638   \n",
              "2175   174.999327    228.471202    131.626893        0.002167   \n",
              "239    124.457999    219.270175    118.878472        0.003210   \n",
              "1216   125.298364    113.204835    125.376657        0.009100   \n",
              "\n",
              "      MDVP:Jitter(Abs)  MDVP:RAP  MDVP:PPQ  Jitter:DDP  MDVP:Shimmer  \\\n",
              "2128          0.000033  0.002774  0.003561    0.008305      0.034837   \n",
              "3863          0.000078  0.005317  0.006733    0.015956      0.052872   \n",
              "2628          0.000045  0.003493  0.003842    0.010507      0.047328   \n",
              "999           0.000015  0.002398  0.002287    0.007178      0.016830   \n",
              "626           0.000020  0.002264  0.002169    0.006773      0.019298   \n",
              "699           0.000013  0.002121  0.002027    0.006373      0.018732   \n",
              "2671          0.000048  0.004339  0.003827    0.013025      0.040721   \n",
              "2175          0.000007  0.000869  0.001350    0.002613      0.012178   \n",
              "239           0.000029  0.001311  0.001841    0.003930      0.014751   \n",
              "1216          0.000064  0.004471  0.005589    0.013415      0.040372   \n",
              "\n",
              "      MDVP:Shimmer(dB)  ...       NHR        HNR      RPDE       DFA  \\\n",
              "2128          0.356315  ...  0.016959  19.611821  0.575778  0.686846   \n",
              "3863          0.524277  ...  0.050070  17.698407  0.489257  0.790415   \n",
              "2628          0.431331  ...  0.047352  19.875080  0.499402  0.728139   \n",
              "999           0.154599  ...  0.011495  26.471899  0.473493  0.721438   \n",
              "626           0.179250  ...  0.013865  22.817055  0.412564  0.667925   \n",
              "699           0.180040  ...  0.017055  21.543435  0.397605  0.642246   \n",
              "2671          0.421715  ...  0.032524  20.446374  0.517993  0.696044   \n",
              "2175          0.136371  ... -0.002100  24.124615  0.338409  0.739377   \n",
              "239           0.124758  ... -0.003514  24.041059  0.588684  0.671184   \n",
              "1216          0.392582  ...  0.029950  20.294919  0.586659  0.780296   \n",
              "\n",
              "       spread1   spread2        D2       PPE  status  name  \n",
              "2128 -5.058770  0.297273  2.660984  0.234306     1.0  2128  \n",
              "3863 -4.671477  0.312469  2.635955  0.308910     0.0  3863  \n",
              "2628 -5.733736  0.283153  2.675798  0.217646     1.0  2628  \n",
              "999  -7.373918  0.171477  2.035566  0.085022     0.0   999  \n",
              "626  -6.672055  0.176674  2.281800  0.117383     0.0   626  \n",
              "699  -7.102585  0.081846  2.078354  0.106450     0.0   699  \n",
              "2671 -5.032926  0.220713  2.273636  0.232975     1.0  2671  \n",
              "2175 -6.477195  0.199388  2.641002  0.148064     1.0  2175  \n",
              "239  -5.776568  0.134605  2.346044  0.187910     0.0   239  \n",
              "1216 -4.263039  0.256108  2.115735  0.329105     1.0  1216  \n",
              "\n",
              "[10 rows x 24 columns]"
            ],
            "text/html": [
              "\n",
              "  <div id=\"df-d35a1d01-730c-45cc-b626-c4db6580cfe9\" class=\"colab-df-container\">\n",
              "    <div>\n",
              "<style scoped>\n",
              "    .dataframe tbody tr th:only-of-type {\n",
              "        vertical-align: middle;\n",
              "    }\n",
              "\n",
              "    .dataframe tbody tr th {\n",
              "        vertical-align: top;\n",
              "    }\n",
              "\n",
              "    .dataframe thead th {\n",
              "        text-align: right;\n",
              "    }\n",
              "</style>\n",
              "<table border=\"1\" class=\"dataframe\">\n",
              "  <thead>\n",
              "    <tr style=\"text-align: right;\">\n",
              "      <th></th>\n",
              "      <th>MDVP:Fo(Hz)</th>\n",
              "      <th>MDVP:Fhi(Hz)</th>\n",
              "      <th>MDVP:Flo(Hz)</th>\n",
              "      <th>MDVP:Jitter(%)</th>\n",
              "      <th>MDVP:Jitter(Abs)</th>\n",
              "      <th>MDVP:RAP</th>\n",
              "      <th>MDVP:PPQ</th>\n",
              "      <th>Jitter:DDP</th>\n",
              "      <th>MDVP:Shimmer</th>\n",
              "      <th>MDVP:Shimmer(dB)</th>\n",
              "      <th>...</th>\n",
              "      <th>NHR</th>\n",
              "      <th>HNR</th>\n",
              "      <th>RPDE</th>\n",
              "      <th>DFA</th>\n",
              "      <th>spread1</th>\n",
              "      <th>spread2</th>\n",
              "      <th>D2</th>\n",
              "      <th>PPE</th>\n",
              "      <th>status</th>\n",
              "      <th>name</th>\n",
              "    </tr>\n",
              "  </thead>\n",
              "  <tbody>\n",
              "    <tr>\n",
              "      <th>2128</th>\n",
              "      <td>147.210363</td>\n",
              "      <td>252.370191</td>\n",
              "      <td>113.738859</td>\n",
              "      <td>0.005722</td>\n",
              "      <td>0.000033</td>\n",
              "      <td>0.002774</td>\n",
              "      <td>0.003561</td>\n",
              "      <td>0.008305</td>\n",
              "      <td>0.034837</td>\n",
              "      <td>0.356315</td>\n",
              "      <td>...</td>\n",
              "      <td>0.016959</td>\n",
              "      <td>19.611821</td>\n",
              "      <td>0.575778</td>\n",
              "      <td>0.686846</td>\n",
              "      <td>-5.058770</td>\n",
              "      <td>0.297273</td>\n",
              "      <td>2.660984</td>\n",
              "      <td>0.234306</td>\n",
              "      <td>1.0</td>\n",
              "      <td>2128</td>\n",
              "    </tr>\n",
              "    <tr>\n",
              "      <th>3863</th>\n",
              "      <td>129.051825</td>\n",
              "      <td>205.369320</td>\n",
              "      <td>72.112257</td>\n",
              "      <td>0.010312</td>\n",
              "      <td>0.000078</td>\n",
              "      <td>0.005317</td>\n",
              "      <td>0.006733</td>\n",
              "      <td>0.015956</td>\n",
              "      <td>0.052872</td>\n",
              "      <td>0.524277</td>\n",
              "      <td>...</td>\n",
              "      <td>0.050070</td>\n",
              "      <td>17.698407</td>\n",
              "      <td>0.489257</td>\n",
              "      <td>0.790415</td>\n",
              "      <td>-4.671477</td>\n",
              "      <td>0.312469</td>\n",
              "      <td>2.635955</td>\n",
              "      <td>0.308910</td>\n",
              "      <td>0.0</td>\n",
              "      <td>3863</td>\n",
              "    </tr>\n",
              "    <tr>\n",
              "      <th>2628</th>\n",
              "      <td>152.716501</td>\n",
              "      <td>241.537812</td>\n",
              "      <td>85.044020</td>\n",
              "      <td>0.006657</td>\n",
              "      <td>0.000045</td>\n",
              "      <td>0.003493</td>\n",
              "      <td>0.003842</td>\n",
              "      <td>0.010507</td>\n",
              "      <td>0.047328</td>\n",
              "      <td>0.431331</td>\n",
              "      <td>...</td>\n",
              "      <td>0.047352</td>\n",
              "      <td>19.875080</td>\n",
              "      <td>0.499402</td>\n",
              "      <td>0.728139</td>\n",
              "      <td>-5.733736</td>\n",
              "      <td>0.283153</td>\n",
              "      <td>2.675798</td>\n",
              "      <td>0.217646</td>\n",
              "      <td>1.0</td>\n",
              "      <td>2628</td>\n",
              "    </tr>\n",
              "    <tr>\n",
              "      <th>999</th>\n",
              "      <td>211.121072</td>\n",
              "      <td>247.720663</td>\n",
              "      <td>158.890943</td>\n",
              "      <td>0.004122</td>\n",
              "      <td>0.000015</td>\n",
              "      <td>0.002398</td>\n",
              "      <td>0.002287</td>\n",
              "      <td>0.007178</td>\n",
              "      <td>0.016830</td>\n",
              "      <td>0.154599</td>\n",
              "      <td>...</td>\n",
              "      <td>0.011495</td>\n",
              "      <td>26.471899</td>\n",
              "      <td>0.473493</td>\n",
              "      <td>0.721438</td>\n",
              "      <td>-7.373918</td>\n",
              "      <td>0.171477</td>\n",
              "      <td>2.035566</td>\n",
              "      <td>0.085022</td>\n",
              "      <td>0.0</td>\n",
              "      <td>999</td>\n",
              "    </tr>\n",
              "    <tr>\n",
              "      <th>626</th>\n",
              "      <td>216.746344</td>\n",
              "      <td>237.913112</td>\n",
              "      <td>154.494380</td>\n",
              "      <td>0.004530</td>\n",
              "      <td>0.000020</td>\n",
              "      <td>0.002264</td>\n",
              "      <td>0.002169</td>\n",
              "      <td>0.006773</td>\n",
              "      <td>0.019298</td>\n",
              "      <td>0.179250</td>\n",
              "      <td>...</td>\n",
              "      <td>0.013865</td>\n",
              "      <td>22.817055</td>\n",
              "      <td>0.412564</td>\n",
              "      <td>0.667925</td>\n",
              "      <td>-6.672055</td>\n",
              "      <td>0.176674</td>\n",
              "      <td>2.281800</td>\n",
              "      <td>0.117383</td>\n",
              "      <td>0.0</td>\n",
              "      <td>626</td>\n",
              "    </tr>\n",
              "    <tr>\n",
              "      <th>699</th>\n",
              "      <td>226.667026</td>\n",
              "      <td>263.547057</td>\n",
              "      <td>202.116671</td>\n",
              "      <td>0.003691</td>\n",
              "      <td>0.000013</td>\n",
              "      <td>0.002121</td>\n",
              "      <td>0.002027</td>\n",
              "      <td>0.006373</td>\n",
              "      <td>0.018732</td>\n",
              "      <td>0.180040</td>\n",
              "      <td>...</td>\n",
              "      <td>0.017055</td>\n",
              "      <td>21.543435</td>\n",
              "      <td>0.397605</td>\n",
              "      <td>0.642246</td>\n",
              "      <td>-7.102585</td>\n",
              "      <td>0.081846</td>\n",
              "      <td>2.078354</td>\n",
              "      <td>0.106450</td>\n",
              "      <td>0.0</td>\n",
              "      <td>699</td>\n",
              "    </tr>\n",
              "    <tr>\n",
              "      <th>2671</th>\n",
              "      <td>147.708509</td>\n",
              "      <td>253.583653</td>\n",
              "      <td>66.931109</td>\n",
              "      <td>0.007638</td>\n",
              "      <td>0.000048</td>\n",
              "      <td>0.004339</td>\n",
              "      <td>0.003827</td>\n",
              "      <td>0.013025</td>\n",
              "      <td>0.040721</td>\n",
              "      <td>0.421715</td>\n",
              "      <td>...</td>\n",
              "      <td>0.032524</td>\n",
              "      <td>20.446374</td>\n",
              "      <td>0.517993</td>\n",
              "      <td>0.696044</td>\n",
              "      <td>-5.032926</td>\n",
              "      <td>0.220713</td>\n",
              "      <td>2.273636</td>\n",
              "      <td>0.232975</td>\n",
              "      <td>1.0</td>\n",
              "      <td>2671</td>\n",
              "    </tr>\n",
              "    <tr>\n",
              "      <th>2175</th>\n",
              "      <td>174.999327</td>\n",
              "      <td>228.471202</td>\n",
              "      <td>131.626893</td>\n",
              "      <td>0.002167</td>\n",
              "      <td>0.000007</td>\n",
              "      <td>0.000869</td>\n",
              "      <td>0.001350</td>\n",
              "      <td>0.002613</td>\n",
              "      <td>0.012178</td>\n",
              "      <td>0.136371</td>\n",
              "      <td>...</td>\n",
              "      <td>-0.002100</td>\n",
              "      <td>24.124615</td>\n",
              "      <td>0.338409</td>\n",
              "      <td>0.739377</td>\n",
              "      <td>-6.477195</td>\n",
              "      <td>0.199388</td>\n",
              "      <td>2.641002</td>\n",
              "      <td>0.148064</td>\n",
              "      <td>1.0</td>\n",
              "      <td>2175</td>\n",
              "    </tr>\n",
              "    <tr>\n",
              "      <th>239</th>\n",
              "      <td>124.457999</td>\n",
              "      <td>219.270175</td>\n",
              "      <td>118.878472</td>\n",
              "      <td>0.003210</td>\n",
              "      <td>0.000029</td>\n",
              "      <td>0.001311</td>\n",
              "      <td>0.001841</td>\n",
              "      <td>0.003930</td>\n",
              "      <td>0.014751</td>\n",
              "      <td>0.124758</td>\n",
              "      <td>...</td>\n",
              "      <td>-0.003514</td>\n",
              "      <td>24.041059</td>\n",
              "      <td>0.588684</td>\n",
              "      <td>0.671184</td>\n",
              "      <td>-5.776568</td>\n",
              "      <td>0.134605</td>\n",
              "      <td>2.346044</td>\n",
              "      <td>0.187910</td>\n",
              "      <td>0.0</td>\n",
              "      <td>239</td>\n",
              "    </tr>\n",
              "    <tr>\n",
              "      <th>1216</th>\n",
              "      <td>125.298364</td>\n",
              "      <td>113.204835</td>\n",
              "      <td>125.376657</td>\n",
              "      <td>0.009100</td>\n",
              "      <td>0.000064</td>\n",
              "      <td>0.004471</td>\n",
              "      <td>0.005589</td>\n",
              "      <td>0.013415</td>\n",
              "      <td>0.040372</td>\n",
              "      <td>0.392582</td>\n",
              "      <td>...</td>\n",
              "      <td>0.029950</td>\n",
              "      <td>20.294919</td>\n",
              "      <td>0.586659</td>\n",
              "      <td>0.780296</td>\n",
              "      <td>-4.263039</td>\n",
              "      <td>0.256108</td>\n",
              "      <td>2.115735</td>\n",
              "      <td>0.329105</td>\n",
              "      <td>1.0</td>\n",
              "      <td>1216</td>\n",
              "    </tr>\n",
              "  </tbody>\n",
              "</table>\n",
              "<p>10 rows × 24 columns</p>\n",
              "</div>\n",
              "    <div class=\"colab-df-buttons\">\n",
              "\n",
              "  <div class=\"colab-df-container\">\n",
              "    <button class=\"colab-df-convert\" onclick=\"convertToInteractive('df-d35a1d01-730c-45cc-b626-c4db6580cfe9')\"\n",
              "            title=\"Convert this dataframe to an interactive table.\"\n",
              "            style=\"display:none;\">\n",
              "\n",
              "  <svg xmlns=\"http://www.w3.org/2000/svg\" height=\"24px\" viewBox=\"0 -960 960 960\">\n",
              "    <path d=\"M120-120v-720h720v720H120Zm60-500h600v-160H180v160Zm220 220h160v-160H400v160Zm0 220h160v-160H400v160ZM180-400h160v-160H180v160Zm440 0h160v-160H620v160ZM180-180h160v-160H180v160Zm440 0h160v-160H620v160Z\"/>\n",
              "  </svg>\n",
              "    </button>\n",
              "\n",
              "  <style>\n",
              "    .colab-df-container {\n",
              "      display:flex;\n",
              "      gap: 12px;\n",
              "    }\n",
              "\n",
              "    .colab-df-convert {\n",
              "      background-color: #E8F0FE;\n",
              "      border: none;\n",
              "      border-radius: 50%;\n",
              "      cursor: pointer;\n",
              "      display: none;\n",
              "      fill: #1967D2;\n",
              "      height: 32px;\n",
              "      padding: 0 0 0 0;\n",
              "      width: 32px;\n",
              "    }\n",
              "\n",
              "    .colab-df-convert:hover {\n",
              "      background-color: #E2EBFA;\n",
              "      box-shadow: 0px 1px 2px rgba(60, 64, 67, 0.3), 0px 1px 3px 1px rgba(60, 64, 67, 0.15);\n",
              "      fill: #174EA6;\n",
              "    }\n",
              "\n",
              "    .colab-df-buttons div {\n",
              "      margin-bottom: 4px;\n",
              "    }\n",
              "\n",
              "    [theme=dark] .colab-df-convert {\n",
              "      background-color: #3B4455;\n",
              "      fill: #D2E3FC;\n",
              "    }\n",
              "\n",
              "    [theme=dark] .colab-df-convert:hover {\n",
              "      background-color: #434B5C;\n",
              "      box-shadow: 0px 1px 3px 1px rgba(0, 0, 0, 0.15);\n",
              "      filter: drop-shadow(0px 1px 2px rgba(0, 0, 0, 0.3));\n",
              "      fill: #FFFFFF;\n",
              "    }\n",
              "  </style>\n",
              "\n",
              "    <script>\n",
              "      const buttonEl =\n",
              "        document.querySelector('#df-d35a1d01-730c-45cc-b626-c4db6580cfe9 button.colab-df-convert');\n",
              "      buttonEl.style.display =\n",
              "        google.colab.kernel.accessAllowed ? 'block' : 'none';\n",
              "\n",
              "      async function convertToInteractive(key) {\n",
              "        const element = document.querySelector('#df-d35a1d01-730c-45cc-b626-c4db6580cfe9');\n",
              "        const dataTable =\n",
              "          await google.colab.kernel.invokeFunction('convertToInteractive',\n",
              "                                                    [key], {});\n",
              "        if (!dataTable) return;\n",
              "\n",
              "        const docLinkHtml = 'Like what you see? Visit the ' +\n",
              "          '<a target=\"_blank\" href=https://colab.research.google.com/notebooks/data_table.ipynb>data table notebook</a>'\n",
              "          + ' to learn more about interactive tables.';\n",
              "        element.innerHTML = '';\n",
              "        dataTable['output_type'] = 'display_data';\n",
              "        await google.colab.output.renderOutput(dataTable, element);\n",
              "        const docLink = document.createElement('div');\n",
              "        docLink.innerHTML = docLinkHtml;\n",
              "        element.appendChild(docLink);\n",
              "      }\n",
              "    </script>\n",
              "  </div>\n",
              "\n",
              "\n",
              "<div id=\"df-4ad64edd-8e11-442f-b230-6a32f64ad05d\">\n",
              "  <button class=\"colab-df-quickchart\" onclick=\"quickchart('df-4ad64edd-8e11-442f-b230-6a32f64ad05d')\"\n",
              "            title=\"Suggest charts\"\n",
              "            style=\"display:none;\">\n",
              "\n",
              "<svg xmlns=\"http://www.w3.org/2000/svg\" height=\"24px\"viewBox=\"0 0 24 24\"\n",
              "     width=\"24px\">\n",
              "    <g>\n",
              "        <path d=\"M19 3H5c-1.1 0-2 .9-2 2v14c0 1.1.9 2 2 2h14c1.1 0 2-.9 2-2V5c0-1.1-.9-2-2-2zM9 17H7v-7h2v7zm4 0h-2V7h2v10zm4 0h-2v-4h2v4z\"/>\n",
              "    </g>\n",
              "</svg>\n",
              "  </button>\n",
              "\n",
              "<style>\n",
              "  .colab-df-quickchart {\n",
              "      --bg-color: #E8F0FE;\n",
              "      --fill-color: #1967D2;\n",
              "      --hover-bg-color: #E2EBFA;\n",
              "      --hover-fill-color: #174EA6;\n",
              "      --disabled-fill-color: #AAA;\n",
              "      --disabled-bg-color: #DDD;\n",
              "  }\n",
              "\n",
              "  [theme=dark] .colab-df-quickchart {\n",
              "      --bg-color: #3B4455;\n",
              "      --fill-color: #D2E3FC;\n",
              "      --hover-bg-color: #434B5C;\n",
              "      --hover-fill-color: #FFFFFF;\n",
              "      --disabled-bg-color: #3B4455;\n",
              "      --disabled-fill-color: #666;\n",
              "  }\n",
              "\n",
              "  .colab-df-quickchart {\n",
              "    background-color: var(--bg-color);\n",
              "    border: none;\n",
              "    border-radius: 50%;\n",
              "    cursor: pointer;\n",
              "    display: none;\n",
              "    fill: var(--fill-color);\n",
              "    height: 32px;\n",
              "    padding: 0;\n",
              "    width: 32px;\n",
              "  }\n",
              "\n",
              "  .colab-df-quickchart:hover {\n",
              "    background-color: var(--hover-bg-color);\n",
              "    box-shadow: 0 1px 2px rgba(60, 64, 67, 0.3), 0 1px 3px 1px rgba(60, 64, 67, 0.15);\n",
              "    fill: var(--button-hover-fill-color);\n",
              "  }\n",
              "\n",
              "  .colab-df-quickchart-complete:disabled,\n",
              "  .colab-df-quickchart-complete:disabled:hover {\n",
              "    background-color: var(--disabled-bg-color);\n",
              "    fill: var(--disabled-fill-color);\n",
              "    box-shadow: none;\n",
              "  }\n",
              "\n",
              "  .colab-df-spinner {\n",
              "    border: 2px solid var(--fill-color);\n",
              "    border-color: transparent;\n",
              "    border-bottom-color: var(--fill-color);\n",
              "    animation:\n",
              "      spin 1s steps(1) infinite;\n",
              "  }\n",
              "\n",
              "  @keyframes spin {\n",
              "    0% {\n",
              "      border-color: transparent;\n",
              "      border-bottom-color: var(--fill-color);\n",
              "      border-left-color: var(--fill-color);\n",
              "    }\n",
              "    20% {\n",
              "      border-color: transparent;\n",
              "      border-left-color: var(--fill-color);\n",
              "      border-top-color: var(--fill-color);\n",
              "    }\n",
              "    30% {\n",
              "      border-color: transparent;\n",
              "      border-left-color: var(--fill-color);\n",
              "      border-top-color: var(--fill-color);\n",
              "      border-right-color: var(--fill-color);\n",
              "    }\n",
              "    40% {\n",
              "      border-color: transparent;\n",
              "      border-right-color: var(--fill-color);\n",
              "      border-top-color: var(--fill-color);\n",
              "    }\n",
              "    60% {\n",
              "      border-color: transparent;\n",
              "      border-right-color: var(--fill-color);\n",
              "    }\n",
              "    80% {\n",
              "      border-color: transparent;\n",
              "      border-right-color: var(--fill-color);\n",
              "      border-bottom-color: var(--fill-color);\n",
              "    }\n",
              "    90% {\n",
              "      border-color: transparent;\n",
              "      border-bottom-color: var(--fill-color);\n",
              "    }\n",
              "  }\n",
              "</style>\n",
              "\n",
              "  <script>\n",
              "    async function quickchart(key) {\n",
              "      const quickchartButtonEl =\n",
              "        document.querySelector('#' + key + ' button');\n",
              "      quickchartButtonEl.disabled = true;  // To prevent multiple clicks.\n",
              "      quickchartButtonEl.classList.add('colab-df-spinner');\n",
              "      try {\n",
              "        const charts = await google.colab.kernel.invokeFunction(\n",
              "            'suggestCharts', [key], {});\n",
              "      } catch (error) {\n",
              "        console.error('Error during call to suggestCharts:', error);\n",
              "      }\n",
              "      quickchartButtonEl.classList.remove('colab-df-spinner');\n",
              "      quickchartButtonEl.classList.add('colab-df-quickchart-complete');\n",
              "    }\n",
              "    (() => {\n",
              "      let quickchartButtonEl =\n",
              "        document.querySelector('#df-4ad64edd-8e11-442f-b230-6a32f64ad05d button');\n",
              "      quickchartButtonEl.style.display =\n",
              "        google.colab.kernel.accessAllowed ? 'block' : 'none';\n",
              "    })();\n",
              "  </script>\n",
              "</div>\n",
              "    </div>\n",
              "  </div>\n"
            ]
          },
          "metadata": {},
          "execution_count": 6
        }
      ]
    },
    {
      "cell_type": "code",
      "source": [
        "# Пропуски типы данных\n",
        "\n",
        "df.info()"
      ],
      "metadata": {
        "colab": {
          "base_uri": "https://localhost:8080/"
        },
        "id": "Kh_r8xVBa2zB",
        "outputId": "af3a04b8-863b-4317-f124-8346abc2600d",
        "execution": {
          "iopub.status.busy": "2023-11-11T17:28:23.729112Z",
          "iopub.execute_input": "2023-11-11T17:28:23.729448Z",
          "iopub.status.idle": "2023-11-11T17:28:23.742061Z",
          "shell.execute_reply.started": "2023-11-11T17:28:23.729424Z",
          "shell.execute_reply": "2023-11-11T17:28:23.740885Z"
        },
        "trusted": true
      },
      "execution_count": 7,
      "outputs": [
        {
          "output_type": "stream",
          "name": "stdout",
          "text": [
            "<class 'pandas.core.frame.DataFrame'>\n",
            "RangeIndex: 4000 entries, 0 to 3999\n",
            "Data columns (total 24 columns):\n",
            " #   Column            Non-Null Count  Dtype  \n",
            "---  ------            --------------  -----  \n",
            " 0   MDVP:Fo(Hz)       4000 non-null   float64\n",
            " 1   MDVP:Fhi(Hz)      4000 non-null   float64\n",
            " 2   MDVP:Flo(Hz)      4000 non-null   float64\n",
            " 3   MDVP:Jitter(%)    4000 non-null   float64\n",
            " 4   MDVP:Jitter(Abs)  4000 non-null   float64\n",
            " 5   MDVP:RAP          4000 non-null   float64\n",
            " 6   MDVP:PPQ          4000 non-null   float64\n",
            " 7   Jitter:DDP        4000 non-null   float64\n",
            " 8   MDVP:Shimmer      4000 non-null   float64\n",
            " 9   MDVP:Shimmer(dB)  4000 non-null   float64\n",
            " 10  Shimmer:APQ3      4000 non-null   float64\n",
            " 11  Shimmer:APQ5      4000 non-null   float64\n",
            " 12  MDVP:APQ          4000 non-null   float64\n",
            " 13  Shimmer:DDA       4000 non-null   float64\n",
            " 14  NHR               4000 non-null   float64\n",
            " 15  HNR               4000 non-null   float64\n",
            " 16  RPDE              4000 non-null   float64\n",
            " 17  DFA               4000 non-null   float64\n",
            " 18  spread1           4000 non-null   float64\n",
            " 19  spread2           4000 non-null   float64\n",
            " 20  D2                4000 non-null   float64\n",
            " 21  PPE               4000 non-null   float64\n",
            " 22  status            4000 non-null   float64\n",
            " 23  name              4000 non-null   int64  \n",
            "dtypes: float64(23), int64(1)\n",
            "memory usage: 750.1 KB\n"
          ]
        }
      ]
    },
    {
      "cell_type": "code",
      "source": [
        "# Статистики каждого признака\n",
        "df.describe()"
      ],
      "metadata": {
        "colab": {
          "base_uri": "https://localhost:8080/",
          "height": 350
        },
        "id": "105U8b9qa21Z",
        "outputId": "91386a63-dc64-49e1-e3ac-2135f3965279",
        "execution": {
          "iopub.status.busy": "2023-11-11T17:28:23.742914Z",
          "iopub.execute_input": "2023-11-11T17:28:23.743141Z",
          "iopub.status.idle": "2023-11-11T17:28:23.806905Z",
          "shell.execute_reply.started": "2023-11-11T17:28:23.743120Z",
          "shell.execute_reply": "2023-11-11T17:28:23.806118Z"
        },
        "trusted": true
      },
      "execution_count": 8,
      "outputs": [
        {
          "output_type": "execute_result",
          "data": {
            "text/plain": [
              "       MDVP:Fo(Hz)  MDVP:Fhi(Hz)  MDVP:Flo(Hz)  MDVP:Jitter(%)  \\\n",
              "count  4000.000000   4000.000000   4000.000000     4000.000000   \n",
              "mean    154.066451    196.497430    116.430862        0.006147   \n",
              "std      31.684268     64.826518     33.434512        0.003534   \n",
              "min      64.845446      3.810054     29.313386       -0.002290   \n",
              "25%     132.597006    153.271882     93.782711        0.003697   \n",
              "50%     149.769369    189.146050    110.711593        0.005540   \n",
              "75%     171.528004    230.131756    132.531355        0.007947   \n",
              "max     311.480923    543.607861    271.022682        0.024855   \n",
              "\n",
              "       MDVP:Jitter(Abs)     MDVP:RAP     MDVP:PPQ   Jitter:DDP  MDVP:Shimmer  \\\n",
              "count       4000.000000  4000.000000  4000.000000  4000.000000   4000.000000   \n",
              "mean           0.000043     0.003261     0.003412     0.009784      0.029549   \n",
              "std            0.000026     0.002154     0.002029     0.006462      0.014124   \n",
              "min           -0.000013    -0.001959    -0.001997    -0.005887     -0.006255   \n",
              "25%            0.000025     0.001788     0.001970     0.005361      0.018477   \n",
              "50%            0.000040     0.002865     0.003031     0.008594      0.027119   \n",
              "75%            0.000058     0.004341     0.004454     0.013005      0.038345   \n",
              "max            0.000185     0.015691     0.014328     0.047060      0.091909   \n",
              "\n",
              "       MDVP:Shimmer(dB)  ...          NHR          HNR         RPDE  \\\n",
              "count       4000.000000  ...  4000.000000  4000.000000  4000.000000   \n",
              "mean           0.280437  ...     0.024310    21.882981     0.499643   \n",
              "std            0.145843  ...     0.028795     3.331937     0.076340   \n",
              "min           -0.097950  ...    -0.042461    10.734641     0.245591   \n",
              "25%            0.169647  ...     0.005831    19.725926     0.446157   \n",
              "50%            0.254111  ...     0.019541    22.005644     0.500779   \n",
              "75%            0.364116  ...     0.037823    24.166649     0.554109   \n",
              "max            0.910901  ...     0.209710    32.739197     0.741927   \n",
              "\n",
              "               DFA      spread1      spread2           D2          PPE  \\\n",
              "count  4000.000000  4000.000000  4000.000000  4000.000000  4000.000000   \n",
              "mean      0.718363    -5.701410     0.226435     2.375166     0.205393   \n",
              "std       0.039846     0.883783     0.063590     0.284840     0.071868   \n",
              "min       0.596168    -8.098224     0.033613     1.427841     0.031184   \n",
              "25%       0.690808    -6.361474     0.181697     2.177314     0.148182   \n",
              "50%       0.717595    -5.652116     0.226965     2.361430     0.206103   \n",
              "75%       0.746250    -5.071574     0.270018     2.567220     0.255103   \n",
              "max       0.835685    -2.852659     0.425241     3.573618     0.464673   \n",
              "\n",
              "            status         name  \n",
              "count  4000.000000  4000.000000  \n",
              "mean      0.701250  1999.500000  \n",
              "std       0.457767  1154.844867  \n",
              "min       0.000000     0.000000  \n",
              "25%       0.000000   999.750000  \n",
              "50%       1.000000  1999.500000  \n",
              "75%       1.000000  2999.250000  \n",
              "max       1.000000  3999.000000  \n",
              "\n",
              "[8 rows x 24 columns]"
            ],
            "text/html": [
              "\n",
              "  <div id=\"df-ec539e6f-cb6d-43c7-b72c-04aedfc507c1\" class=\"colab-df-container\">\n",
              "    <div>\n",
              "<style scoped>\n",
              "    .dataframe tbody tr th:only-of-type {\n",
              "        vertical-align: middle;\n",
              "    }\n",
              "\n",
              "    .dataframe tbody tr th {\n",
              "        vertical-align: top;\n",
              "    }\n",
              "\n",
              "    .dataframe thead th {\n",
              "        text-align: right;\n",
              "    }\n",
              "</style>\n",
              "<table border=\"1\" class=\"dataframe\">\n",
              "  <thead>\n",
              "    <tr style=\"text-align: right;\">\n",
              "      <th></th>\n",
              "      <th>MDVP:Fo(Hz)</th>\n",
              "      <th>MDVP:Fhi(Hz)</th>\n",
              "      <th>MDVP:Flo(Hz)</th>\n",
              "      <th>MDVP:Jitter(%)</th>\n",
              "      <th>MDVP:Jitter(Abs)</th>\n",
              "      <th>MDVP:RAP</th>\n",
              "      <th>MDVP:PPQ</th>\n",
              "      <th>Jitter:DDP</th>\n",
              "      <th>MDVP:Shimmer</th>\n",
              "      <th>MDVP:Shimmer(dB)</th>\n",
              "      <th>...</th>\n",
              "      <th>NHR</th>\n",
              "      <th>HNR</th>\n",
              "      <th>RPDE</th>\n",
              "      <th>DFA</th>\n",
              "      <th>spread1</th>\n",
              "      <th>spread2</th>\n",
              "      <th>D2</th>\n",
              "      <th>PPE</th>\n",
              "      <th>status</th>\n",
              "      <th>name</th>\n",
              "    </tr>\n",
              "  </thead>\n",
              "  <tbody>\n",
              "    <tr>\n",
              "      <th>count</th>\n",
              "      <td>4000.000000</td>\n",
              "      <td>4000.000000</td>\n",
              "      <td>4000.000000</td>\n",
              "      <td>4000.000000</td>\n",
              "      <td>4000.000000</td>\n",
              "      <td>4000.000000</td>\n",
              "      <td>4000.000000</td>\n",
              "      <td>4000.000000</td>\n",
              "      <td>4000.000000</td>\n",
              "      <td>4000.000000</td>\n",
              "      <td>...</td>\n",
              "      <td>4000.000000</td>\n",
              "      <td>4000.000000</td>\n",
              "      <td>4000.000000</td>\n",
              "      <td>4000.000000</td>\n",
              "      <td>4000.000000</td>\n",
              "      <td>4000.000000</td>\n",
              "      <td>4000.000000</td>\n",
              "      <td>4000.000000</td>\n",
              "      <td>4000.000000</td>\n",
              "      <td>4000.000000</td>\n",
              "    </tr>\n",
              "    <tr>\n",
              "      <th>mean</th>\n",
              "      <td>154.066451</td>\n",
              "      <td>196.497430</td>\n",
              "      <td>116.430862</td>\n",
              "      <td>0.006147</td>\n",
              "      <td>0.000043</td>\n",
              "      <td>0.003261</td>\n",
              "      <td>0.003412</td>\n",
              "      <td>0.009784</td>\n",
              "      <td>0.029549</td>\n",
              "      <td>0.280437</td>\n",
              "      <td>...</td>\n",
              "      <td>0.024310</td>\n",
              "      <td>21.882981</td>\n",
              "      <td>0.499643</td>\n",
              "      <td>0.718363</td>\n",
              "      <td>-5.701410</td>\n",
              "      <td>0.226435</td>\n",
              "      <td>2.375166</td>\n",
              "      <td>0.205393</td>\n",
              "      <td>0.701250</td>\n",
              "      <td>1999.500000</td>\n",
              "    </tr>\n",
              "    <tr>\n",
              "      <th>std</th>\n",
              "      <td>31.684268</td>\n",
              "      <td>64.826518</td>\n",
              "      <td>33.434512</td>\n",
              "      <td>0.003534</td>\n",
              "      <td>0.000026</td>\n",
              "      <td>0.002154</td>\n",
              "      <td>0.002029</td>\n",
              "      <td>0.006462</td>\n",
              "      <td>0.014124</td>\n",
              "      <td>0.145843</td>\n",
              "      <td>...</td>\n",
              "      <td>0.028795</td>\n",
              "      <td>3.331937</td>\n",
              "      <td>0.076340</td>\n",
              "      <td>0.039846</td>\n",
              "      <td>0.883783</td>\n",
              "      <td>0.063590</td>\n",
              "      <td>0.284840</td>\n",
              "      <td>0.071868</td>\n",
              "      <td>0.457767</td>\n",
              "      <td>1154.844867</td>\n",
              "    </tr>\n",
              "    <tr>\n",
              "      <th>min</th>\n",
              "      <td>64.845446</td>\n",
              "      <td>3.810054</td>\n",
              "      <td>29.313386</td>\n",
              "      <td>-0.002290</td>\n",
              "      <td>-0.000013</td>\n",
              "      <td>-0.001959</td>\n",
              "      <td>-0.001997</td>\n",
              "      <td>-0.005887</td>\n",
              "      <td>-0.006255</td>\n",
              "      <td>-0.097950</td>\n",
              "      <td>...</td>\n",
              "      <td>-0.042461</td>\n",
              "      <td>10.734641</td>\n",
              "      <td>0.245591</td>\n",
              "      <td>0.596168</td>\n",
              "      <td>-8.098224</td>\n",
              "      <td>0.033613</td>\n",
              "      <td>1.427841</td>\n",
              "      <td>0.031184</td>\n",
              "      <td>0.000000</td>\n",
              "      <td>0.000000</td>\n",
              "    </tr>\n",
              "    <tr>\n",
              "      <th>25%</th>\n",
              "      <td>132.597006</td>\n",
              "      <td>153.271882</td>\n",
              "      <td>93.782711</td>\n",
              "      <td>0.003697</td>\n",
              "      <td>0.000025</td>\n",
              "      <td>0.001788</td>\n",
              "      <td>0.001970</td>\n",
              "      <td>0.005361</td>\n",
              "      <td>0.018477</td>\n",
              "      <td>0.169647</td>\n",
              "      <td>...</td>\n",
              "      <td>0.005831</td>\n",
              "      <td>19.725926</td>\n",
              "      <td>0.446157</td>\n",
              "      <td>0.690808</td>\n",
              "      <td>-6.361474</td>\n",
              "      <td>0.181697</td>\n",
              "      <td>2.177314</td>\n",
              "      <td>0.148182</td>\n",
              "      <td>0.000000</td>\n",
              "      <td>999.750000</td>\n",
              "    </tr>\n",
              "    <tr>\n",
              "      <th>50%</th>\n",
              "      <td>149.769369</td>\n",
              "      <td>189.146050</td>\n",
              "      <td>110.711593</td>\n",
              "      <td>0.005540</td>\n",
              "      <td>0.000040</td>\n",
              "      <td>0.002865</td>\n",
              "      <td>0.003031</td>\n",
              "      <td>0.008594</td>\n",
              "      <td>0.027119</td>\n",
              "      <td>0.254111</td>\n",
              "      <td>...</td>\n",
              "      <td>0.019541</td>\n",
              "      <td>22.005644</td>\n",
              "      <td>0.500779</td>\n",
              "      <td>0.717595</td>\n",
              "      <td>-5.652116</td>\n",
              "      <td>0.226965</td>\n",
              "      <td>2.361430</td>\n",
              "      <td>0.206103</td>\n",
              "      <td>1.000000</td>\n",
              "      <td>1999.500000</td>\n",
              "    </tr>\n",
              "    <tr>\n",
              "      <th>75%</th>\n",
              "      <td>171.528004</td>\n",
              "      <td>230.131756</td>\n",
              "      <td>132.531355</td>\n",
              "      <td>0.007947</td>\n",
              "      <td>0.000058</td>\n",
              "      <td>0.004341</td>\n",
              "      <td>0.004454</td>\n",
              "      <td>0.013005</td>\n",
              "      <td>0.038345</td>\n",
              "      <td>0.364116</td>\n",
              "      <td>...</td>\n",
              "      <td>0.037823</td>\n",
              "      <td>24.166649</td>\n",
              "      <td>0.554109</td>\n",
              "      <td>0.746250</td>\n",
              "      <td>-5.071574</td>\n",
              "      <td>0.270018</td>\n",
              "      <td>2.567220</td>\n",
              "      <td>0.255103</td>\n",
              "      <td>1.000000</td>\n",
              "      <td>2999.250000</td>\n",
              "    </tr>\n",
              "    <tr>\n",
              "      <th>max</th>\n",
              "      <td>311.480923</td>\n",
              "      <td>543.607861</td>\n",
              "      <td>271.022682</td>\n",
              "      <td>0.024855</td>\n",
              "      <td>0.000185</td>\n",
              "      <td>0.015691</td>\n",
              "      <td>0.014328</td>\n",
              "      <td>0.047060</td>\n",
              "      <td>0.091909</td>\n",
              "      <td>0.910901</td>\n",
              "      <td>...</td>\n",
              "      <td>0.209710</td>\n",
              "      <td>32.739197</td>\n",
              "      <td>0.741927</td>\n",
              "      <td>0.835685</td>\n",
              "      <td>-2.852659</td>\n",
              "      <td>0.425241</td>\n",
              "      <td>3.573618</td>\n",
              "      <td>0.464673</td>\n",
              "      <td>1.000000</td>\n",
              "      <td>3999.000000</td>\n",
              "    </tr>\n",
              "  </tbody>\n",
              "</table>\n",
              "<p>8 rows × 24 columns</p>\n",
              "</div>\n",
              "    <div class=\"colab-df-buttons\">\n",
              "\n",
              "  <div class=\"colab-df-container\">\n",
              "    <button class=\"colab-df-convert\" onclick=\"convertToInteractive('df-ec539e6f-cb6d-43c7-b72c-04aedfc507c1')\"\n",
              "            title=\"Convert this dataframe to an interactive table.\"\n",
              "            style=\"display:none;\">\n",
              "\n",
              "  <svg xmlns=\"http://www.w3.org/2000/svg\" height=\"24px\" viewBox=\"0 -960 960 960\">\n",
              "    <path d=\"M120-120v-720h720v720H120Zm60-500h600v-160H180v160Zm220 220h160v-160H400v160Zm0 220h160v-160H400v160ZM180-400h160v-160H180v160Zm440 0h160v-160H620v160ZM180-180h160v-160H180v160Zm440 0h160v-160H620v160Z\"/>\n",
              "  </svg>\n",
              "    </button>\n",
              "\n",
              "  <style>\n",
              "    .colab-df-container {\n",
              "      display:flex;\n",
              "      gap: 12px;\n",
              "    }\n",
              "\n",
              "    .colab-df-convert {\n",
              "      background-color: #E8F0FE;\n",
              "      border: none;\n",
              "      border-radius: 50%;\n",
              "      cursor: pointer;\n",
              "      display: none;\n",
              "      fill: #1967D2;\n",
              "      height: 32px;\n",
              "      padding: 0 0 0 0;\n",
              "      width: 32px;\n",
              "    }\n",
              "\n",
              "    .colab-df-convert:hover {\n",
              "      background-color: #E2EBFA;\n",
              "      box-shadow: 0px 1px 2px rgba(60, 64, 67, 0.3), 0px 1px 3px 1px rgba(60, 64, 67, 0.15);\n",
              "      fill: #174EA6;\n",
              "    }\n",
              "\n",
              "    .colab-df-buttons div {\n",
              "      margin-bottom: 4px;\n",
              "    }\n",
              "\n",
              "    [theme=dark] .colab-df-convert {\n",
              "      background-color: #3B4455;\n",
              "      fill: #D2E3FC;\n",
              "    }\n",
              "\n",
              "    [theme=dark] .colab-df-convert:hover {\n",
              "      background-color: #434B5C;\n",
              "      box-shadow: 0px 1px 3px 1px rgba(0, 0, 0, 0.15);\n",
              "      filter: drop-shadow(0px 1px 2px rgba(0, 0, 0, 0.3));\n",
              "      fill: #FFFFFF;\n",
              "    }\n",
              "  </style>\n",
              "\n",
              "    <script>\n",
              "      const buttonEl =\n",
              "        document.querySelector('#df-ec539e6f-cb6d-43c7-b72c-04aedfc507c1 button.colab-df-convert');\n",
              "      buttonEl.style.display =\n",
              "        google.colab.kernel.accessAllowed ? 'block' : 'none';\n",
              "\n",
              "      async function convertToInteractive(key) {\n",
              "        const element = document.querySelector('#df-ec539e6f-cb6d-43c7-b72c-04aedfc507c1');\n",
              "        const dataTable =\n",
              "          await google.colab.kernel.invokeFunction('convertToInteractive',\n",
              "                                                    [key], {});\n",
              "        if (!dataTable) return;\n",
              "\n",
              "        const docLinkHtml = 'Like what you see? Visit the ' +\n",
              "          '<a target=\"_blank\" href=https://colab.research.google.com/notebooks/data_table.ipynb>data table notebook</a>'\n",
              "          + ' to learn more about interactive tables.';\n",
              "        element.innerHTML = '';\n",
              "        dataTable['output_type'] = 'display_data';\n",
              "        await google.colab.output.renderOutput(dataTable, element);\n",
              "        const docLink = document.createElement('div');\n",
              "        docLink.innerHTML = docLinkHtml;\n",
              "        element.appendChild(docLink);\n",
              "      }\n",
              "    </script>\n",
              "  </div>\n",
              "\n",
              "\n",
              "<div id=\"df-279204e3-3c67-4f96-864c-3c1249a4708b\">\n",
              "  <button class=\"colab-df-quickchart\" onclick=\"quickchart('df-279204e3-3c67-4f96-864c-3c1249a4708b')\"\n",
              "            title=\"Suggest charts\"\n",
              "            style=\"display:none;\">\n",
              "\n",
              "<svg xmlns=\"http://www.w3.org/2000/svg\" height=\"24px\"viewBox=\"0 0 24 24\"\n",
              "     width=\"24px\">\n",
              "    <g>\n",
              "        <path d=\"M19 3H5c-1.1 0-2 .9-2 2v14c0 1.1.9 2 2 2h14c1.1 0 2-.9 2-2V5c0-1.1-.9-2-2-2zM9 17H7v-7h2v7zm4 0h-2V7h2v10zm4 0h-2v-4h2v4z\"/>\n",
              "    </g>\n",
              "</svg>\n",
              "  </button>\n",
              "\n",
              "<style>\n",
              "  .colab-df-quickchart {\n",
              "      --bg-color: #E8F0FE;\n",
              "      --fill-color: #1967D2;\n",
              "      --hover-bg-color: #E2EBFA;\n",
              "      --hover-fill-color: #174EA6;\n",
              "      --disabled-fill-color: #AAA;\n",
              "      --disabled-bg-color: #DDD;\n",
              "  }\n",
              "\n",
              "  [theme=dark] .colab-df-quickchart {\n",
              "      --bg-color: #3B4455;\n",
              "      --fill-color: #D2E3FC;\n",
              "      --hover-bg-color: #434B5C;\n",
              "      --hover-fill-color: #FFFFFF;\n",
              "      --disabled-bg-color: #3B4455;\n",
              "      --disabled-fill-color: #666;\n",
              "  }\n",
              "\n",
              "  .colab-df-quickchart {\n",
              "    background-color: var(--bg-color);\n",
              "    border: none;\n",
              "    border-radius: 50%;\n",
              "    cursor: pointer;\n",
              "    display: none;\n",
              "    fill: var(--fill-color);\n",
              "    height: 32px;\n",
              "    padding: 0;\n",
              "    width: 32px;\n",
              "  }\n",
              "\n",
              "  .colab-df-quickchart:hover {\n",
              "    background-color: var(--hover-bg-color);\n",
              "    box-shadow: 0 1px 2px rgba(60, 64, 67, 0.3), 0 1px 3px 1px rgba(60, 64, 67, 0.15);\n",
              "    fill: var(--button-hover-fill-color);\n",
              "  }\n",
              "\n",
              "  .colab-df-quickchart-complete:disabled,\n",
              "  .colab-df-quickchart-complete:disabled:hover {\n",
              "    background-color: var(--disabled-bg-color);\n",
              "    fill: var(--disabled-fill-color);\n",
              "    box-shadow: none;\n",
              "  }\n",
              "\n",
              "  .colab-df-spinner {\n",
              "    border: 2px solid var(--fill-color);\n",
              "    border-color: transparent;\n",
              "    border-bottom-color: var(--fill-color);\n",
              "    animation:\n",
              "      spin 1s steps(1) infinite;\n",
              "  }\n",
              "\n",
              "  @keyframes spin {\n",
              "    0% {\n",
              "      border-color: transparent;\n",
              "      border-bottom-color: var(--fill-color);\n",
              "      border-left-color: var(--fill-color);\n",
              "    }\n",
              "    20% {\n",
              "      border-color: transparent;\n",
              "      border-left-color: var(--fill-color);\n",
              "      border-top-color: var(--fill-color);\n",
              "    }\n",
              "    30% {\n",
              "      border-color: transparent;\n",
              "      border-left-color: var(--fill-color);\n",
              "      border-top-color: var(--fill-color);\n",
              "      border-right-color: var(--fill-color);\n",
              "    }\n",
              "    40% {\n",
              "      border-color: transparent;\n",
              "      border-right-color: var(--fill-color);\n",
              "      border-top-color: var(--fill-color);\n",
              "    }\n",
              "    60% {\n",
              "      border-color: transparent;\n",
              "      border-right-color: var(--fill-color);\n",
              "    }\n",
              "    80% {\n",
              "      border-color: transparent;\n",
              "      border-right-color: var(--fill-color);\n",
              "      border-bottom-color: var(--fill-color);\n",
              "    }\n",
              "    90% {\n",
              "      border-color: transparent;\n",
              "      border-bottom-color: var(--fill-color);\n",
              "    }\n",
              "  }\n",
              "</style>\n",
              "\n",
              "  <script>\n",
              "    async function quickchart(key) {\n",
              "      const quickchartButtonEl =\n",
              "        document.querySelector('#' + key + ' button');\n",
              "      quickchartButtonEl.disabled = true;  // To prevent multiple clicks.\n",
              "      quickchartButtonEl.classList.add('colab-df-spinner');\n",
              "      try {\n",
              "        const charts = await google.colab.kernel.invokeFunction(\n",
              "            'suggestCharts', [key], {});\n",
              "      } catch (error) {\n",
              "        console.error('Error during call to suggestCharts:', error);\n",
              "      }\n",
              "      quickchartButtonEl.classList.remove('colab-df-spinner');\n",
              "      quickchartButtonEl.classList.add('colab-df-quickchart-complete');\n",
              "    }\n",
              "    (() => {\n",
              "      let quickchartButtonEl =\n",
              "        document.querySelector('#df-279204e3-3c67-4f96-864c-3c1249a4708b button');\n",
              "      quickchartButtonEl.style.display =\n",
              "        google.colab.kernel.accessAllowed ? 'block' : 'none';\n",
              "    })();\n",
              "  </script>\n",
              "</div>\n",
              "    </div>\n",
              "  </div>\n"
            ]
          },
          "metadata": {},
          "execution_count": 8
        }
      ]
    },
    {
      "cell_type": "code",
      "source": [
        "# Посмотрим на соотношение классов в данных\n",
        "\n",
        "print(f\"В датасете {len(df)} объектов\")\n",
        "print(f\"В данных {sum(df.status == 0)} объектов класса 0\")\n",
        "print(f\"В данных {sum(df.status == 1)} объектов класса 1\")"
      ],
      "metadata": {
        "colab": {
          "base_uri": "https://localhost:8080/"
        },
        "id": "ExOHLfEOfBuY",
        "outputId": "141b0c44-6fe8-4874-d0e6-981585dd839c",
        "execution": {
          "iopub.status.busy": "2023-11-11T17:28:23.808090Z",
          "iopub.execute_input": "2023-11-11T17:28:23.809142Z",
          "iopub.status.idle": "2023-11-11T17:28:23.818012Z",
          "shell.execute_reply.started": "2023-11-11T17:28:23.809092Z",
          "shell.execute_reply": "2023-11-11T17:28:23.816490Z"
        },
        "trusted": true
      },
      "execution_count": 9,
      "outputs": [
        {
          "output_type": "stream",
          "name": "stdout",
          "text": [
            "В датасете 4000 объектов\n",
            "В данных 1195 объектов класса 0\n",
            "В данных 2805 объектов класса 1\n"
          ]
        }
      ]
    },
    {
      "cell_type": "markdown",
      "source": [
        "Видим необычный датасет -- в нем доминирует таргетный класс.\n",
        "Поэтому нам надо быть осторожными при подсчете метрик, поскольку распределение классов в жизни будет диаметрально противоположным!\n",
        "\n",
        "Один из вариантов решения -- инвертировать классы, но в данном случае, мы будем просто аккуратны в подсчете метрик -- нам важно, чтобы нулевой класс был почти полностью распознан верно."
      ],
      "metadata": {
        "id": "bfCNMUzzfg5b"
      }
    },
    {
      "cell_type": "markdown",
      "source": [
        "Построим baseline модель, проведем простой отбор признаков."
      ],
      "metadata": {
        "id": "fP0pt_gYeju4"
      }
    },
    {
      "cell_type": "code",
      "source": [
        "!pip install -U scikit-learn"
      ],
      "metadata": {
        "colab": {
          "base_uri": "https://localhost:8080/"
        },
        "id": "CQJqrL9pRO7k",
        "outputId": "0cd943c2-acc0-41f9-cb42-34f58ea97b82",
        "execution": {
          "iopub.status.busy": "2023-11-11T17:28:23.819851Z",
          "iopub.execute_input": "2023-11-11T17:28:23.820485Z",
          "iopub.status.idle": "2023-11-11T17:28:33.682349Z",
          "shell.execute_reply.started": "2023-11-11T17:28:23.820451Z",
          "shell.execute_reply": "2023-11-11T17:28:33.681221Z"
        },
        "trusted": true
      },
      "execution_count": 10,
      "outputs": [
        {
          "output_type": "stream",
          "name": "stdout",
          "text": [
            "Requirement already satisfied: scikit-learn in /usr/local/lib/python3.10/dist-packages (1.2.2)\n",
            "Collecting scikit-learn\n",
            "  Downloading scikit_learn-1.3.2-cp310-cp310-manylinux_2_17_x86_64.manylinux2014_x86_64.whl (10.8 MB)\n",
            "\u001b[2K     \u001b[90m━━━━━━━━━━━━━━━━━━━━━━━━━━━━━━━━━━━━━━━━\u001b[0m \u001b[32m10.8/10.8 MB\u001b[0m \u001b[31m24.2 MB/s\u001b[0m eta \u001b[36m0:00:00\u001b[0m\n",
            "\u001b[?25hRequirement already satisfied: numpy<2.0,>=1.17.3 in /usr/local/lib/python3.10/dist-packages (from scikit-learn) (1.23.5)\n",
            "Requirement already satisfied: scipy>=1.5.0 in /usr/local/lib/python3.10/dist-packages (from scikit-learn) (1.11.3)\n",
            "Requirement already satisfied: joblib>=1.1.1 in /usr/local/lib/python3.10/dist-packages (from scikit-learn) (1.3.2)\n",
            "Requirement already satisfied: threadpoolctl>=2.0.0 in /usr/local/lib/python3.10/dist-packages (from scikit-learn) (3.2.0)\n",
            "Installing collected packages: scikit-learn\n",
            "  Attempting uninstall: scikit-learn\n",
            "    Found existing installation: scikit-learn 1.2.2\n",
            "    Uninstalling scikit-learn-1.2.2:\n",
            "      Successfully uninstalled scikit-learn-1.2.2\n",
            "Successfully installed scikit-learn-1.3.2\n"
          ]
        }
      ]
    },
    {
      "cell_type": "code",
      "source": [
        "import sklearn\n",
        "print(sklearn.__version__)"
      ],
      "metadata": {
        "execution": {
          "iopub.status.busy": "2023-11-11T17:28:33.683743Z",
          "iopub.execute_input": "2023-11-11T17:28:33.684153Z",
          "iopub.status.idle": "2023-11-11T17:28:33.691090Z",
          "shell.execute_reply.started": "2023-11-11T17:28:33.684113Z",
          "shell.execute_reply": "2023-11-11T17:28:33.689753Z"
        },
        "trusted": true,
        "colab": {
          "base_uri": "https://localhost:8080/"
        },
        "id": "yYHHDgSbeOPO",
        "outputId": "13876664-e5c7-4892-d7c7-4f60dcd04432"
      },
      "execution_count": 11,
      "outputs": [
        {
          "output_type": "stream",
          "name": "stdout",
          "text": [
            "1.3.2\n"
          ]
        }
      ]
    },
    {
      "cell_type": "code",
      "source": [
        "from sklearn.metrics import classification_report#считает все популярные метрики классификации\n",
        "from sklearn.metrics import confusion_matrix,ConfusionMatrixDisplay  #отслеживать ошибки на каждый класс"
      ],
      "metadata": {
        "id": "I3j_M_GPgtPX",
        "execution": {
          "iopub.status.busy": "2023-11-11T17:28:33.692744Z",
          "iopub.execute_input": "2023-11-11T17:28:33.693151Z",
          "iopub.status.idle": "2023-11-11T17:28:33.703064Z",
          "shell.execute_reply.started": "2023-11-11T17:28:33.693115Z",
          "shell.execute_reply": "2023-11-11T17:28:33.702151Z"
        },
        "trusted": true
      },
      "execution_count": 12,
      "outputs": []
    },
    {
      "cell_type": "code",
      "source": [
        "import re\n",
        "df = df.rename(columns = lambda x:re.sub('[^A-Za-z0-9_]+', '', x))"
      ],
      "metadata": {
        "id": "7QKjZri-TS-i",
        "execution": {
          "iopub.status.busy": "2023-11-11T17:28:33.708575Z",
          "iopub.execute_input": "2023-11-11T17:28:33.708894Z",
          "iopub.status.idle": "2023-11-11T17:28:33.718214Z",
          "shell.execute_reply.started": "2023-11-11T17:28:33.708872Z",
          "shell.execute_reply": "2023-11-11T17:28:33.716371Z"
        },
        "trusted": true
      },
      "execution_count": 13,
      "outputs": []
    },
    {
      "cell_type": "code",
      "source": [
        "# Разделим данные на признаки и таргет не забыв удалить столбце с id\n",
        "\n",
        "X = df.drop(columns=[\"status\", \"name\"])\n",
        "y = df[\"status\"]"
      ],
      "metadata": {
        "id": "Gwn6-Njoa23d",
        "execution": {
          "iopub.status.busy": "2023-11-11T17:28:33.722132Z",
          "iopub.execute_input": "2023-11-11T17:28:33.722477Z",
          "iopub.status.idle": "2023-11-11T17:28:33.731639Z",
          "shell.execute_reply.started": "2023-11-11T17:28:33.722447Z",
          "shell.execute_reply": "2023-11-11T17:28:33.730926Z"
        },
        "trusted": true
      },
      "execution_count": 14,
      "outputs": []
    },
    {
      "cell_type": "code",
      "source": [
        "# Разобьем данные на обучение и тест при помощи функции train_test_split\n",
        "\n",
        "from sklearn.model_selection import train_test_split\n",
        "\n",
        "X_train, X_test, y_train, y_test = train_test_split(X, y, stratify=y, test_size=0.2, random_state=13)"
      ],
      "metadata": {
        "id": "BN4qoZ1ZiSYA",
        "execution": {
          "iopub.status.busy": "2023-11-11T17:28:33.732397Z",
          "iopub.execute_input": "2023-11-11T17:28:33.732637Z",
          "iopub.status.idle": "2023-11-11T17:28:33.751667Z",
          "shell.execute_reply.started": "2023-11-11T17:28:33.732616Z",
          "shell.execute_reply": "2023-11-11T17:28:33.750670Z"
        },
        "trusted": true
      },
      "execution_count": 15,
      "outputs": []
    },
    {
      "cell_type": "markdown",
      "source": [
        "### Обучим baseline модель"
      ],
      "metadata": {
        "id": "ds3dwvurhWft"
      }
    },
    {
      "cell_type": "markdown",
      "source": [
        "## Бустинги с параметрами по умолчанию"
      ],
      "metadata": {
        "id": "wGGmmOqBhksE"
      }
    },
    {
      "cell_type": "code",
      "source": [
        "# Установим catboost\n",
        "\n",
        "!pip install catboost"
      ],
      "metadata": {
        "colab": {
          "base_uri": "https://localhost:8080/"
        },
        "id": "MJZNUvmwh0rP",
        "outputId": "95879422-393b-4b4f-d608-442213217e14",
        "execution": {
          "iopub.status.busy": "2023-11-11T17:28:33.752567Z",
          "iopub.execute_input": "2023-11-11T17:28:33.752839Z",
          "iopub.status.idle": "2023-11-11T17:28:43.583603Z",
          "shell.execute_reply.started": "2023-11-11T17:28:33.752815Z",
          "shell.execute_reply": "2023-11-11T17:28:43.582855Z"
        },
        "trusted": true
      },
      "execution_count": 16,
      "outputs": [
        {
          "output_type": "stream",
          "name": "stdout",
          "text": [
            "Collecting catboost\n",
            "  Downloading catboost-1.2.2-cp310-cp310-manylinux2014_x86_64.whl (98.7 MB)\n",
            "\u001b[2K     \u001b[90m━━━━━━━━━━━━━━━━━━━━━━━━━━━━━━━━━━━━━━━━\u001b[0m \u001b[32m98.7/98.7 MB\u001b[0m \u001b[31m8.7 MB/s\u001b[0m eta \u001b[36m0:00:00\u001b[0m\n",
            "\u001b[?25hRequirement already satisfied: graphviz in /usr/local/lib/python3.10/dist-packages (from catboost) (0.20.1)\n",
            "Requirement already satisfied: matplotlib in /usr/local/lib/python3.10/dist-packages (from catboost) (3.7.1)\n",
            "Requirement already satisfied: numpy>=1.16.0 in /usr/local/lib/python3.10/dist-packages (from catboost) (1.23.5)\n",
            "Requirement already satisfied: pandas>=0.24 in /usr/local/lib/python3.10/dist-packages (from catboost) (1.5.3)\n",
            "Requirement already satisfied: scipy in /usr/local/lib/python3.10/dist-packages (from catboost) (1.11.3)\n",
            "Requirement already satisfied: plotly in /usr/local/lib/python3.10/dist-packages (from catboost) (5.15.0)\n",
            "Requirement already satisfied: six in /usr/local/lib/python3.10/dist-packages (from catboost) (1.16.0)\n",
            "Requirement already satisfied: python-dateutil>=2.8.1 in /usr/local/lib/python3.10/dist-packages (from pandas>=0.24->catboost) (2.8.2)\n",
            "Requirement already satisfied: pytz>=2020.1 in /usr/local/lib/python3.10/dist-packages (from pandas>=0.24->catboost) (2023.3.post1)\n",
            "Requirement already satisfied: contourpy>=1.0.1 in /usr/local/lib/python3.10/dist-packages (from matplotlib->catboost) (1.2.0)\n",
            "Requirement already satisfied: cycler>=0.10 in /usr/local/lib/python3.10/dist-packages (from matplotlib->catboost) (0.12.1)\n",
            "Requirement already satisfied: fonttools>=4.22.0 in /usr/local/lib/python3.10/dist-packages (from matplotlib->catboost) (4.44.0)\n",
            "Requirement already satisfied: kiwisolver>=1.0.1 in /usr/local/lib/python3.10/dist-packages (from matplotlib->catboost) (1.4.5)\n",
            "Requirement already satisfied: packaging>=20.0 in /usr/local/lib/python3.10/dist-packages (from matplotlib->catboost) (23.2)\n",
            "Requirement already satisfied: pillow>=6.2.0 in /usr/local/lib/python3.10/dist-packages (from matplotlib->catboost) (9.4.0)\n",
            "Requirement already satisfied: pyparsing>=2.3.1 in /usr/local/lib/python3.10/dist-packages (from matplotlib->catboost) (3.1.1)\n",
            "Requirement already satisfied: tenacity>=6.2.0 in /usr/local/lib/python3.10/dist-packages (from plotly->catboost) (8.2.3)\n",
            "Installing collected packages: catboost\n",
            "Successfully installed catboost-1.2.2\n"
          ]
        }
      ]
    },
    {
      "cell_type": "code",
      "source": [
        "# Импортируем CatBoost и LightGBM\n",
        "import catboost as cb\n",
        "import lightgbm as lgb\n",
        "import warnings\n",
        "# Отключение предупреждений\n",
        "warnings.filterwarnings(\"ignore\", category=UserWarning, module=\"lightgbm\")\n"
      ],
      "metadata": {
        "id": "SIDhiPnuhY67",
        "execution": {
          "iopub.status.busy": "2023-11-11T17:28:43.584598Z",
          "iopub.execute_input": "2023-11-11T17:28:43.584864Z",
          "iopub.status.idle": "2023-11-11T17:28:43.591668Z",
          "shell.execute_reply.started": "2023-11-11T17:28:43.584840Z",
          "shell.execute_reply": "2023-11-11T17:28:43.590570Z"
        },
        "trusted": true
      },
      "execution_count": 17,
      "outputs": []
    },
    {
      "cell_type": "code",
      "source": [
        "# Создадим экземпляры классов бустингов-классификаторо (CatBoostClassifier и LGBMClassifier)\n",
        "\n",
        "CB_model = cb.CatBoostClassifier(verbose=0)\n",
        "LGB_model = lgb.LGBMClassifier(verbose=0)\n",
        "\n",
        "CB_model.fit(X_train, y_train)\n",
        "LGB_model.fit(X_train, y_train)"
      ],
      "metadata": {
        "colab": {
          "base_uri": "https://localhost:8080/",
          "height": 75
        },
        "id": "t3OY3L16iCzo",
        "outputId": "12e55c00-e923-48f7-ef67-4e71bf5380ff",
        "execution": {
          "iopub.status.busy": "2023-11-11T17:28:43.592854Z",
          "iopub.execute_input": "2023-11-11T17:28:43.593129Z",
          "iopub.status.idle": "2023-11-11T17:28:48.148921Z",
          "shell.execute_reply.started": "2023-11-11T17:28:43.593105Z",
          "shell.execute_reply": "2023-11-11T17:28:48.147654Z"
        },
        "trusted": true
      },
      "execution_count": 18,
      "outputs": [
        {
          "output_type": "execute_result",
          "data": {
            "text/plain": [
              "LGBMClassifier(verbose=0)"
            ],
            "text/html": [
              "<style>#sk-container-id-1 {color: black;}#sk-container-id-1 pre{padding: 0;}#sk-container-id-1 div.sk-toggleable {background-color: white;}#sk-container-id-1 label.sk-toggleable__label {cursor: pointer;display: block;width: 100%;margin-bottom: 0;padding: 0.3em;box-sizing: border-box;text-align: center;}#sk-container-id-1 label.sk-toggleable__label-arrow:before {content: \"▸\";float: left;margin-right: 0.25em;color: #696969;}#sk-container-id-1 label.sk-toggleable__label-arrow:hover:before {color: black;}#sk-container-id-1 div.sk-estimator:hover label.sk-toggleable__label-arrow:before {color: black;}#sk-container-id-1 div.sk-toggleable__content {max-height: 0;max-width: 0;overflow: hidden;text-align: left;background-color: #f0f8ff;}#sk-container-id-1 div.sk-toggleable__content pre {margin: 0.2em;color: black;border-radius: 0.25em;background-color: #f0f8ff;}#sk-container-id-1 input.sk-toggleable__control:checked~div.sk-toggleable__content {max-height: 200px;max-width: 100%;overflow: auto;}#sk-container-id-1 input.sk-toggleable__control:checked~label.sk-toggleable__label-arrow:before {content: \"▾\";}#sk-container-id-1 div.sk-estimator input.sk-toggleable__control:checked~label.sk-toggleable__label {background-color: #d4ebff;}#sk-container-id-1 div.sk-label input.sk-toggleable__control:checked~label.sk-toggleable__label {background-color: #d4ebff;}#sk-container-id-1 input.sk-hidden--visually {border: 0;clip: rect(1px 1px 1px 1px);clip: rect(1px, 1px, 1px, 1px);height: 1px;margin: -1px;overflow: hidden;padding: 0;position: absolute;width: 1px;}#sk-container-id-1 div.sk-estimator {font-family: monospace;background-color: #f0f8ff;border: 1px dotted black;border-radius: 0.25em;box-sizing: border-box;margin-bottom: 0.5em;}#sk-container-id-1 div.sk-estimator:hover {background-color: #d4ebff;}#sk-container-id-1 div.sk-parallel-item::after {content: \"\";width: 100%;border-bottom: 1px solid gray;flex-grow: 1;}#sk-container-id-1 div.sk-label:hover label.sk-toggleable__label {background-color: #d4ebff;}#sk-container-id-1 div.sk-serial::before {content: \"\";position: absolute;border-left: 1px solid gray;box-sizing: border-box;top: 0;bottom: 0;left: 50%;z-index: 0;}#sk-container-id-1 div.sk-serial {display: flex;flex-direction: column;align-items: center;background-color: white;padding-right: 0.2em;padding-left: 0.2em;position: relative;}#sk-container-id-1 div.sk-item {position: relative;z-index: 1;}#sk-container-id-1 div.sk-parallel {display: flex;align-items: stretch;justify-content: center;background-color: white;position: relative;}#sk-container-id-1 div.sk-item::before, #sk-container-id-1 div.sk-parallel-item::before {content: \"\";position: absolute;border-left: 1px solid gray;box-sizing: border-box;top: 0;bottom: 0;left: 50%;z-index: -1;}#sk-container-id-1 div.sk-parallel-item {display: flex;flex-direction: column;z-index: 1;position: relative;background-color: white;}#sk-container-id-1 div.sk-parallel-item:first-child::after {align-self: flex-end;width: 50%;}#sk-container-id-1 div.sk-parallel-item:last-child::after {align-self: flex-start;width: 50%;}#sk-container-id-1 div.sk-parallel-item:only-child::after {width: 0;}#sk-container-id-1 div.sk-dashed-wrapped {border: 1px dashed gray;margin: 0 0.4em 0.5em 0.4em;box-sizing: border-box;padding-bottom: 0.4em;background-color: white;}#sk-container-id-1 div.sk-label label {font-family: monospace;font-weight: bold;display: inline-block;line-height: 1.2em;}#sk-container-id-1 div.sk-label-container {text-align: center;}#sk-container-id-1 div.sk-container {/* jupyter's `normalize.less` sets `[hidden] { display: none; }` but bootstrap.min.css set `[hidden] { display: none !important; }` so we also need the `!important` here to be able to override the default hidden behavior on the sphinx rendered scikit-learn.org. See: https://github.com/scikit-learn/scikit-learn/issues/21755 */display: inline-block !important;position: relative;}#sk-container-id-1 div.sk-text-repr-fallback {display: none;}</style><div id=\"sk-container-id-1\" class=\"sk-top-container\"><div class=\"sk-text-repr-fallback\"><pre>LGBMClassifier(verbose=0)</pre><b>In a Jupyter environment, please rerun this cell to show the HTML representation or trust the notebook. <br />On GitHub, the HTML representation is unable to render, please try loading this page with nbviewer.org.</b></div><div class=\"sk-container\" hidden><div class=\"sk-item\"><div class=\"sk-estimator sk-toggleable\"><input class=\"sk-toggleable__control sk-hidden--visually\" id=\"sk-estimator-id-1\" type=\"checkbox\" checked><label for=\"sk-estimator-id-1\" class=\"sk-toggleable__label sk-toggleable__label-arrow\">LGBMClassifier</label><div class=\"sk-toggleable__content\"><pre>LGBMClassifier(verbose=0)</pre></div></div></div></div></div>"
            ]
          },
          "metadata": {},
          "execution_count": 18
        }
      ]
    },
    {
      "cell_type": "code",
      "source": [
        "# Посмотрим как с работой справился LGBM\n",
        "\n",
        "# Получить отчет классификации передав в classification_report реальные метки и предсказанные\n",
        "print(\"TEST\")\n",
        "print(classification_report(y_test, LGB_model.predict(X_test)))\n",
        "print(\"TRAIN\")\n",
        "print(classification_report(y_train, LGB_model.predict(X_train)))\n",
        "\n",
        "# Посмотреть на матрицу ошибок, передав в plot_confusion_matrix модель, тестовые данные и тестовые метки\n",
        "conf_matrix=confusion_matrix(y_test,LGB_model.predict(X_test))#=confusion_matrix(LGB_model, X_test, y_test)\n",
        "class_labels = LGB_model.classes_\n",
        "disp=ConfusionMatrixDisplay(conf_matrix,display_labels=[class_labels[0],class_labels[1]])\n",
        "disp.plot()#cmap=plt.cm.Blues)\n",
        "plt.grid(False)\n",
        "plt.show()"
      ],
      "metadata": {
        "colab": {
          "base_uri": "https://localhost:8080/",
          "height": 815
        },
        "id": "QZtryo-viC18",
        "outputId": "bdc2d5a9-0718-4481-d5fc-9b3a877e7383",
        "execution": {
          "iopub.status.busy": "2023-11-11T17:28:48.150590Z",
          "iopub.execute_input": "2023-11-11T17:28:48.150895Z",
          "iopub.status.idle": "2023-11-11T17:28:48.496107Z",
          "shell.execute_reply.started": "2023-11-11T17:28:48.150869Z",
          "shell.execute_reply": "2023-11-11T17:28:48.494168Z"
        },
        "trusted": true
      },
      "execution_count": 19,
      "outputs": [
        {
          "output_type": "stream",
          "name": "stdout",
          "text": [
            "TEST\n",
            "              precision    recall  f1-score   support\n",
            "\n",
            "         0.0       0.81      0.72      0.77       239\n",
            "         1.0       0.89      0.93      0.91       561\n",
            "\n",
            "    accuracy                           0.87       800\n",
            "   macro avg       0.85      0.83      0.84       800\n",
            "weighted avg       0.87      0.87      0.87       800\n",
            "\n",
            "TRAIN\n",
            "              precision    recall  f1-score   support\n",
            "\n",
            "         0.0       1.00      0.97      0.98       956\n",
            "         1.0       0.99      1.00      0.99      2244\n",
            "\n",
            "    accuracy                           0.99      3200\n",
            "   macro avg       0.99      0.98      0.99      3200\n",
            "weighted avg       0.99      0.99      0.99      3200\n",
            "\n"
          ]
        },
        {
          "output_type": "display_data",
          "data": {
            "text/plain": [
              "<Figure size 640x480 with 2 Axes>"
            ],
            "image/png": "[encoded data removed]"
          },
          "metadata": {}
        }
      ]
    },
    {
      "cell_type": "code",
      "source": [
        "# Посмотрим как с работой справился CatBoost\n",
        "\n",
        "# Получить отчет классификации передав в classification_report реальные метки и предсказанные\n",
        "print(\"TEST\")\n",
        "print(classification_report(y_test, CB_model.predict(X_test)))\n",
        "print(\"TRAIN\")\n",
        "print(classification_report(y_train, CB_model.predict(X_train)))\n",
        "\n",
        "# Посмотреть на матрицу ошибок, передав в plot_confusion_matrix модель, тестовые данные и тестовые метки\n",
        "conf_matrix=confusion_matrix(y_test,CB_model.predict(X_test))#=confusion_matrix(LGB_model, X_test, y_test)\n",
        "class_labels = LGB_model.classes_\n",
        "disp=ConfusionMatrixDisplay(conf_matrix,display_labels=class_labels)#[1],class_labels[0]])\n",
        "disp.plot()#cmap=plt.cm.Blues)\n",
        "plt.grid(False)\n",
        "plt.show()"
      ],
      "metadata": {
        "colab": {
          "base_uri": "https://localhost:8080/",
          "height": 815
        },
        "id": "I5-MfjIziC4S",
        "outputId": "12d7c54e-af0b-4d94-9302-7bb8d4317040",
        "execution": {
          "iopub.status.busy": "2023-11-11T17:28:48.498494Z",
          "iopub.execute_input": "2023-11-11T17:28:48.498894Z",
          "iopub.status.idle": "2023-11-11T17:28:48.824381Z",
          "shell.execute_reply.started": "2023-11-11T17:28:48.498863Z",
          "shell.execute_reply": "2023-11-11T17:28:48.823099Z"
        },
        "trusted": true
      },
      "execution_count": 20,
      "outputs": [
        {
          "output_type": "stream",
          "name": "stdout",
          "text": [
            "TEST\n",
            "              precision    recall  f1-score   support\n",
            "\n",
            "         0.0       0.84      0.71      0.77       239\n",
            "         1.0       0.88      0.94      0.91       561\n",
            "\n",
            "    accuracy                           0.87       800\n",
            "   macro avg       0.86      0.83      0.84       800\n",
            "weighted avg       0.87      0.87      0.87       800\n",
            "\n",
            "TRAIN\n",
            "              precision    recall  f1-score   support\n",
            "\n",
            "         0.0       0.95      0.83      0.89       956\n",
            "         1.0       0.93      0.98      0.96      2244\n",
            "\n",
            "    accuracy                           0.94      3200\n",
            "   macro avg       0.94      0.91      0.92      3200\n",
            "weighted avg       0.94      0.94      0.94      3200\n",
            "\n"
          ]
        },
        {
          "output_type": "display_data",
          "data": {
            "text/plain": [
              "<Figure size 640x480 with 2 Axes>"
            ],
            "image/png": "[encoded data removed]"
          },
          "metadata": {}
        }
      ]
    },
    {
      "cell_type": "markdown",
      "source": [
        "## Оба алгоритма хорошо справились, но судя по метрикам на обучении -- бустинги переобучились"
      ],
      "metadata": {
        "id": "QHlLZAP9mEaL"
      }
    },
    {
      "cell_type": "code",
      "source": [
        "# Посмотрим какие признаки какой бустинг выбрал важными при помощи метода feature_importances_\n",
        "# Чтобы понять какому признаку какой вес соответствует, мы соединим названия признаков и feature_importances при помощи функции zip\n",
        "# Кроме того отсортируем их по важности\n",
        "\n",
        "print(f\"Важность признаков в LGBM: {sorted(zip(X_train.columns, LGB_model.feature_importances_), key=lambda x: -x[1])}\")\n",
        "print(f\"Важность признаков в CatB: {sorted(zip(X_train.columns, CB_model.feature_importances_), key=lambda x: -x[1])}\")"
      ],
      "metadata": {
        "colab": {
          "base_uri": "https://localhost:8080/"
        },
        "id": "IBhHVt2YlM66",
        "outputId": "f64e8b8b-40a2-4a28-c8a2-d48efa692958",
        "execution": {
          "iopub.status.busy": "2023-11-11T17:28:48.826020Z",
          "iopub.execute_input": "2023-11-11T17:28:48.826456Z",
          "iopub.status.idle": "2023-11-11T17:28:48.835193Z",
          "shell.execute_reply.started": "2023-11-11T17:28:48.826418Z",
          "shell.execute_reply": "2023-11-11T17:28:48.833846Z"
        },
        "trusted": true
      },
      "execution_count": 21,
      "outputs": [
        {
          "output_type": "stream",
          "name": "stdout",
          "text": [
            "Важность признаков в LGBM: [('MDVPFloHz', 218), ('HNR', 214), ('spread2', 209), ('MDVPAPQ', 194), ('spread1', 193), ('RPDE', 180), ('NHR', 161), ('DFA', 160), ('PPE', 155), ('MDVPFhiHz', 147), ('MDVPFoHz', 141), ('MDVPPPQ', 138), ('D2', 127), ('MDVPJitterAbs', 122), ('MDVPRAP', 111), ('ShimmerAPQ3', 106), ('MDVPShimmer', 104), ('ShimmerAPQ5', 104), ('MDVPJitter', 84), ('MDVPShimmerdB', 75), ('JitterDDP', 38), ('ShimmerDDA', 19)]\n",
            "Важность признаков в CatB: [('spread1', 9.549684957500666), ('MDVPFloHz', 8.161351479272943), ('spread2', 7.225157902670086), ('MDVPAPQ', 7.15795519149575), ('PPE', 6.853579102170101), ('NHR', 5.988414108050262), ('DFA', 4.920428726904642), ('MDVPFoHz', 4.830613552346698), ('RPDE', 4.732779400780111), ('MDVPPPQ', 4.611114026554469), ('HNR', 4.575815063314581), ('MDVPFhiHz', 4.084576888698187), ('MDVPJitterAbs', 3.6459979272767518), ('D2', 3.546519246381408), ('ShimmerAPQ5', 3.1047083617654097), ('MDVPRAP', 2.8061874278896046), ('MDVPShimmer', 2.601164381708798), ('JitterDDP', 2.4763720546484382), ('MDVPJitter', 2.472183894688424), ('MDVPShimmerdB', 2.3465778038058542), ('ShimmerAPQ3', 2.2644975212604748), ('ShimmerDDA', 2.0443209808163183)]\n"
          ]
        }
      ]
    },
    {
      "cell_type": "code",
      "source": [
        "# Выберем все признаки, которые для LGBM имели важность больше 1 и для CatBoost важность больше 2\n",
        "# Так отбирать признаки стоит только если хотите отсеять совсем шумовые -- не стоит с этим увлекаться\n",
        "\n",
        "LGBM_cols = X_train.columns[LGB_model.feature_importances_ > 1]\n",
        "CB_cols = X_train.columns[CB_model.feature_importances_ > 2]\n",
        "\n",
        "selected_features = list(set(LGBM_cols) & set(CB_cols))\n",
        "print(selected_features)"
      ],
      "metadata": {
        "colab": {
          "base_uri": "https://localhost:8080/"
        },
        "id": "jJuN_DbRmnZU",
        "outputId": "4717395b-c887-4068-9c07-8e42ef00ebe1",
        "execution": {
          "iopub.status.busy": "2023-11-11T17:28:48.836742Z",
          "iopub.execute_input": "2023-11-11T17:28:48.837108Z",
          "iopub.status.idle": "2023-11-11T17:28:48.851520Z",
          "shell.execute_reply.started": "2023-11-11T17:28:48.837079Z",
          "shell.execute_reply": "2023-11-11T17:28:48.849895Z"
        },
        "trusted": true
      },
      "execution_count": 22,
      "outputs": [
        {
          "output_type": "stream",
          "name": "stdout",
          "text": [
            "['PPE', 'D2', 'spread2', 'MDVPPPQ', 'ShimmerAPQ3', 'MDVPJitterAbs', 'RPDE', 'MDVPShimmer', 'MDVPFoHz', 'NHR', 'ShimmerAPQ5', 'MDVPAPQ', 'ShimmerDDA', 'MDVPRAP', 'spread1', 'MDVPJitter', 'DFA', 'MDVPFloHz', 'MDVPFhiHz', 'JitterDDP', 'MDVPShimmerdB', 'HNR']\n"
          ]
        }
      ]
    },
    {
      "cell_type": "code",
      "source": [
        "# Выберем только эти признаки у обучающего и тестового датасетов\n",
        "\n",
        "X_test = X_test[selected_features]\n",
        "X_train = X_train[selected_features]"
      ],
      "metadata": {
        "id": "8VhF7hPJnF-8",
        "execution": {
          "iopub.status.busy": "2023-11-11T17:28:48.853334Z",
          "iopub.execute_input": "2023-11-11T17:28:48.853641Z",
          "iopub.status.idle": "2023-11-11T17:28:48.868264Z",
          "shell.execute_reply.started": "2023-11-11T17:28:48.853616Z",
          "shell.execute_reply": "2023-11-11T17:28:48.867071Z"
        },
        "trusted": true
      },
      "execution_count": 23,
      "outputs": []
    },
    {
      "cell_type": "markdown",
      "source": [
        "### Подбор параметров"
      ],
      "metadata": {
        "id": "ow02blVDqa9f"
      }
    },
    {
      "cell_type": "markdown",
      "source": [
        "Для поиска оптимальных параметров, мы воспользуем `RandomizedSearchCV`, поскольку, как вы уже заметили, даже на маленьком датасете бустинги считаются достаточно долго.\n",
        "\n",
        "У бустингов есть два основных параметра с которых стоит начинать настройку -- `learning_rate`/`lr` и `max_depth`. Параметр `n_estimators` (число деревьев) также стараются зафиксировать на достаточном уровне -- поскольку у нас мало данных, этот параметр вы оставим без изменения)"
      ],
      "metadata": {
        "id": "_ScxeOWBqdJS"
      }
    },
    {
      "cell_type": "code",
      "source": [
        "# Импортируем RandomizedSearchCV из модуля model_selection библиотеки sklearn\n",
        "from sklearn.model_selection import RandomizedSearchCV"
      ],
      "metadata": {
        "id": "sD9a120zqJoG",
        "execution": {
          "iopub.status.busy": "2023-11-11T17:28:48.869821Z",
          "iopub.execute_input": "2023-11-11T17:28:48.870117Z",
          "iopub.status.idle": "2023-11-11T17:28:48.881122Z",
          "shell.execute_reply.started": "2023-11-11T17:28:48.870091Z",
          "shell.execute_reply": "2023-11-11T17:28:48.880020Z"
        },
        "trusted": true
      },
      "execution_count": 24,
      "outputs": []
    },
    {
      "cell_type": "code",
      "source": [
        "%%time\n",
        "\n",
        "# Воспользуем функцией RandomizedSearchCV\n",
        "# В качестве определения \"лучшей\" модели выберем f1_score\n",
        "\n",
        "grid_LGBM = RandomizedSearchCV(\n",
        "            lgb.LGBMClassifier(verbose=0),          # Алгоритм, в котором будем подбирать параметры\n",
        "            param_distributions = {                 # Сетка параметров в виде словаря\n",
        "                'max_depth': range(2, 7),\n",
        "                'learning_rate': np.linspace(0.001, 0.3, 100),\n",
        "            },\n",
        "            scoring = 'f1',\n",
        "            cv = 3,                                 # CV для кросс-валидации (число или индексы)\n",
        "            n_jobs = -1,                            # Число используемых ядер для работы\n",
        "            return_train_score = True,              # Считать ли метрики на обучающей части\n",
        "            n_iter=10,                              # Число итераций (сколько будем брать случайных наборов)\n",
        "            verbose = 0,                            # Чем больше, тем алгоритм разговорчивее\n",
        "        )\n",
        "\n",
        "# Обучим сетку на обучающем датасете при помощи метода fit\n",
        "grid_LGBM.fit(X_train, y_train)"
      ],
      "metadata": {
        "colab": {
          "base_uri": "https://localhost:8080/",
          "height": 1000
        },
        "id": "2Nl3hFjeqJrt",
        "outputId": "60bc97d1-0c69-4209-fc6e-d452058d2942",
        "_kg_hide-output": true,
        "execution": {
          "iopub.status.busy": "2023-11-11T17:28:48.882453Z",
          "iopub.execute_input": "2023-11-11T17:28:48.882933Z",
          "iopub.status.idle": "2023-11-11T17:29:04.555032Z",
          "shell.execute_reply.started": "2023-11-11T17:28:48.882906Z",
          "shell.execute_reply": "2023-11-11T17:29:04.554055Z"
        },
        "trusted": true
      },
      "execution_count": 25,
      "outputs": [
        {
          "output_type": "stream",
          "name": "stdout",
          "text": [
            "[LightGBM] [Warning] No further splits with positive gain, best gain: -inf\n",
            "[LightGBM] [Warning] No further splits with positive gain, best gain: -inf\n",
            "[LightGBM] [Warning] No further splits with positive gain, best gain: -inf\n",
            "[LightGBM] [Warning] No further splits with positive gain, best gain: -inf\n",
            "[LightGBM] [Warning] No further splits with positive gain, best gain: -inf\n",
            "[LightGBM] [Warning] No further splits with positive gain, best gain: -inf\n",
            "[LightGBM] [Warning] No further splits with positive gain, best gain: -inf\n",
            "[LightGBM] [Warning] No further splits with positive gain, best gain: -inf\n",
            "[LightGBM] [Warning] No further splits with positive gain, best gain: -inf\n",
            "[LightGBM] [Warning] No further splits with positive gain, best gain: -inf\n",
            "[LightGBM] [Warning] No further splits with positive gain, best gain: -inf\n",
            "[LightGBM] [Warning] No further splits with positive gain, best gain: -inf\n",
            "[LightGBM] [Warning] No further splits with positive gain, best gain: -inf\n",
            "[LightGBM] [Warning] No further splits with positive gain, best gain: -inf\n",
            "[LightGBM] [Warning] No further splits with positive gain, best gain: -inf\n",
            "[LightGBM] [Warning] No further splits with positive gain, best gain: -inf\n",
            "[LightGBM] [Warning] No further splits with positive gain, best gain: -inf\n",
            "[LightGBM] [Warning] No further splits with positive gain, best gain: -inf\n",
            "[LightGBM] [Warning] No further splits with positive gain, best gain: -inf\n",
            "[LightGBM] [Warning] No further splits with positive gain, best gain: -inf\n",
            "[LightGBM] [Warning] No further splits with positive gain, best gain: -inf\n",
            "[LightGBM] [Warning] No further splits with positive gain, best gain: -inf\n",
            "[LightGBM] [Warning] No further splits with positive gain, best gain: -inf\n",
            "[LightGBM] [Warning] No further splits with positive gain, best gain: -inf\n",
            "[LightGBM] [Warning] No further splits with positive gain, best gain: -inf\n",
            "[LightGBM] [Warning] No further splits with positive gain, best gain: -inf\n",
            "[LightGBM] [Warning] No further splits with positive gain, best gain: -inf\n",
            "[LightGBM] [Warning] No further splits with positive gain, best gain: -inf\n",
            "[LightGBM] [Warning] No further splits with positive gain, best gain: -inf\n",
            "[LightGBM] [Warning] No further splits with positive gain, best gain: -inf\n",
            "[LightGBM] [Warning] No further splits with positive gain, best gain: -inf\n",
            "[LightGBM] [Warning] No further splits with positive gain, best gain: -inf\n",
            "[LightGBM] [Warning] No further splits with positive gain, best gain: -inf\n",
            "[LightGBM] [Warning] No further splits with positive gain, best gain: -inf\n",
            "[LightGBM] [Warning] No further splits with positive gain, best gain: -inf\n",
            "[LightGBM] [Warning] No further splits with positive gain, best gain: -inf\n",
            "[LightGBM] [Warning] No further splits with positive gain, best gain: -inf\n",
            "[LightGBM] [Warning] No further splits with positive gain, best gain: -inf\n",
            "[LightGBM] [Warning] No further splits with positive gain, best gain: -inf\n",
            "[LightGBM] [Warning] No further splits with positive gain, best gain: -inf\n",
            "[LightGBM] [Warning] No further splits with positive gain, best gain: -inf\n",
            "[LightGBM] [Warning] No further splits with positive gain, best gain: -inf\n",
            "[LightGBM] [Warning] No further splits with positive gain, best gain: -inf\n",
            "[LightGBM] [Warning] No further splits with positive gain, best gain: -inf\n",
            "[LightGBM] [Warning] No further splits with positive gain, best gain: -inf\n",
            "[LightGBM] [Warning] No further splits with positive gain, best gain: -inf\n",
            "[LightGBM] [Warning] No further splits with positive gain, best gain: -inf\n",
            "[LightGBM] [Warning] No further splits with positive gain, best gain: -inf\n",
            "[LightGBM] [Warning] No further splits with positive gain, best gain: -inf\n",
            "[LightGBM] [Warning] No further splits with positive gain, best gain: -inf\n",
            "[LightGBM] [Warning] No further splits with positive gain, best gain: -inf\n",
            "[LightGBM] [Warning] No further splits with positive gain, best gain: -inf\n",
            "[LightGBM] [Warning] No further splits with positive gain, best gain: -inf\n",
            "[LightGBM] [Warning] No further splits with positive gain, best gain: -inf\n",
            "[LightGBM] [Warning] No further splits with positive gain, best gain: -inf\n",
            "[LightGBM] [Warning] No further splits with positive gain, best gain: -inf\n",
            "[LightGBM] [Warning] No further splits with positive gain, best gain: -inf\n",
            "[LightGBM] [Warning] No further splits with positive gain, best gain: -inf\n",
            "[LightGBM] [Warning] No further splits with positive gain, best gain: -inf\n",
            "[LightGBM] [Warning] No further splits with positive gain, best gain: -inf\n",
            "[LightGBM] [Warning] No further splits with positive gain, best gain: -inf\n",
            "[LightGBM] [Warning] No further splits with positive gain, best gain: -inf\n",
            "[LightGBM] [Warning] No further splits with positive gain, best gain: -inf\n",
            "[LightGBM] [Warning] No further splits with positive gain, best gain: -inf\n",
            "[LightGBM] [Warning] No further splits with positive gain, best gain: -inf\n",
            "[LightGBM] [Warning] No further splits with positive gain, best gain: -inf\n",
            "[LightGBM] [Warning] No further splits with positive gain, best gain: -inf\n",
            "[LightGBM] [Warning] No further splits with positive gain, best gain: -inf\n",
            "[LightGBM] [Warning] No further splits with positive gain, best gain: -inf\n",
            "[LightGBM] [Warning] No further splits with positive gain, best gain: -inf\n",
            "[LightGBM] [Warning] No further splits with positive gain, best gain: -inf\n",
            "[LightGBM] [Warning] No further splits with positive gain, best gain: -inf\n",
            "[LightGBM] [Warning] No further splits with positive gain, best gain: -inf\n",
            "[LightGBM] [Warning] No further splits with positive gain, best gain: -inf\n",
            "[LightGBM] [Warning] No further splits with positive gain, best gain: -inf\n",
            "[LightGBM] [Warning] No further splits with positive gain, best gain: -inf\n",
            "[LightGBM] [Warning] No further splits with positive gain, best gain: -inf\n",
            "[LightGBM] [Warning] No further splits with positive gain, best gain: -inf\n",
            "[LightGBM] [Warning] No further splits with positive gain, best gain: -inf\n",
            "[LightGBM] [Warning] No further splits with positive gain, best gain: -inf\n",
            "[LightGBM] [Warning] No further splits with positive gain, best gain: -inf\n",
            "[LightGBM] [Warning] No further splits with positive gain, best gain: -inf\n",
            "[LightGBM] [Warning] No further splits with positive gain, best gain: -inf\n",
            "[LightGBM] [Warning] No further splits with positive gain, best gain: -inf\n",
            "[LightGBM] [Warning] No further splits with positive gain, best gain: -inf\n",
            "[LightGBM] [Warning] No further splits with positive gain, best gain: -inf\n",
            "[LightGBM] [Warning] No further splits with positive gain, best gain: -inf\n",
            "[LightGBM] [Warning] No further splits with positive gain, best gain: -inf\n",
            "[LightGBM] [Warning] No further splits with positive gain, best gain: -inf\n",
            "[LightGBM] [Warning] No further splits with positive gain, best gain: -inf\n",
            "[LightGBM] [Warning] No further splits with positive gain, best gain: -inf\n",
            "[LightGBM] [Warning] No further splits with positive gain, best gain: -inf\n",
            "[LightGBM] [Warning] No further splits with positive gain, best gain: -inf\n",
            "[LightGBM] [Warning] No further splits with positive gain, best gain: -inf\n",
            "[LightGBM] [Warning] No further splits with positive gain, best gain: -inf\n",
            "CPU times: user 481 ms, sys: 86 ms, total: 567 ms\n",
            "Wall time: 17.3 s\n"
          ]
        },
        {
          "output_type": "execute_result",
          "data": {
            "text/plain": [
              "RandomizedSearchCV(cv=3, estimator=LGBMClassifier(verbose=0), n_jobs=-1,\n",
              "                   param_distributions={'learning_rate': array([0.001     , 0.0040202 , 0.0070404 , 0.01006061, 0.01308081,\n",
              "       0.01610101, 0.01912121, 0.02214141, 0.02516162, 0.02818182,\n",
              "       0.03120202, 0.03422222, 0.03724242, 0.04026263, 0.04328283,\n",
              "       0.04630303, 0.04932323, 0.05234343, 0.05536364, 0.05838384,\n",
              "       0.06140404, 0.06442424, 0...\n",
              "       0.21241414, 0.21543434, 0.21845455, 0.22147475, 0.22449495,\n",
              "       0.22751515, 0.23053535, 0.23355556, 0.23657576, 0.23959596,\n",
              "       0.24261616, 0.24563636, 0.24865657, 0.25167677, 0.25469697,\n",
              "       0.25771717, 0.26073737, 0.26375758, 0.26677778, 0.26979798,\n",
              "       0.27281818, 0.27583838, 0.27885859, 0.28187879, 0.28489899,\n",
              "       0.28791919, 0.29093939, 0.2939596 , 0.2969798 , 0.3       ]),\n",
              "                                        'max_depth': range(2, 7)},\n",
              "                   return_train_score=True, scoring='f1')"
            ],
            "text/html": [
              "<style>#sk-container-id-2 {color: black;}#sk-container-id-2 pre{padding: 0;}#sk-container-id-2 div.sk-toggleable {background-color: white;}#sk-container-id-2 label.sk-toggleable__label {cursor: pointer;display: block;width: 100%;margin-bottom: 0;padding: 0.3em;box-sizing: border-box;text-align: center;}#sk-container-id-2 label.sk-toggleable__label-arrow:before {content: \"▸\";float: left;margin-right: 0.25em;color: #696969;}#sk-container-id-2 label.sk-toggleable__label-arrow:hover:before {color: black;}#sk-container-id-2 div.sk-estimator:hover label.sk-toggleable__label-arrow:before {color: black;}#sk-container-id-2 div.sk-toggleable__content {max-height: 0;max-width: 0;overflow: hidden;text-align: left;background-color: #f0f8ff;}#sk-container-id-2 div.sk-toggleable__content pre {margin: 0.2em;color: black;border-radius: 0.25em;background-color: #f0f8ff;}#sk-container-id-2 input.sk-toggleable__control:checked~div.sk-toggleable__content {max-height: 200px;max-width: 100%;overflow: auto;}#sk-container-id-2 input.sk-toggleable__control:checked~label.sk-toggleable__label-arrow:before {content: \"▾\";}#sk-container-id-2 div.sk-estimator input.sk-toggleable__control:checked~label.sk-toggleable__label {background-color: #d4ebff;}#sk-container-id-2 div.sk-label input.sk-toggleable__control:checked~label.sk-toggleable__label {background-color: #d4ebff;}#sk-container-id-2 input.sk-hidden--visually {border: 0;clip: rect(1px 1px 1px 1px);clip: rect(1px, 1px, 1px, 1px);height: 1px;margin: -1px;overflow: hidden;padding: 0;position: absolute;width: 1px;}#sk-container-id-2 div.sk-estimator {font-family: monospace;background-color: #f0f8ff;border: 1px dotted black;border-radius: 0.25em;box-sizing: border-box;margin-bottom: 0.5em;}#sk-container-id-2 div.sk-estimator:hover {background-color: #d4ebff;}#sk-container-id-2 div.sk-parallel-item::after {content: \"\";width: 100%;border-bottom: 1px solid gray;flex-grow: 1;}#sk-container-id-2 div.sk-label:hover label.sk-toggleable__label {background-color: #d4ebff;}#sk-container-id-2 div.sk-serial::before {content: \"\";position: absolute;border-left: 1px solid gray;box-sizing: border-box;top: 0;bottom: 0;left: 50%;z-index: 0;}#sk-container-id-2 div.sk-serial {display: flex;flex-direction: column;align-items: center;background-color: white;padding-right: 0.2em;padding-left: 0.2em;position: relative;}#sk-container-id-2 div.sk-item {position: relative;z-index: 1;}#sk-container-id-2 div.sk-parallel {display: flex;align-items: stretch;justify-content: center;background-color: white;position: relative;}#sk-container-id-2 div.sk-item::before, #sk-container-id-2 div.sk-parallel-item::before {content: \"\";position: absolute;border-left: 1px solid gray;box-sizing: border-box;top: 0;bottom: 0;left: 50%;z-index: -1;}#sk-container-id-2 div.sk-parallel-item {display: flex;flex-direction: column;z-index: 1;position: relative;background-color: white;}#sk-container-id-2 div.sk-parallel-item:first-child::after {align-self: flex-end;width: 50%;}#sk-container-id-2 div.sk-parallel-item:last-child::after {align-self: flex-start;width: 50%;}#sk-container-id-2 div.sk-parallel-item:only-child::after {width: 0;}#sk-container-id-2 div.sk-dashed-wrapped {border: 1px dashed gray;margin: 0 0.4em 0.5em 0.4em;box-sizing: border-box;padding-bottom: 0.4em;background-color: white;}#sk-container-id-2 div.sk-label label {font-family: monospace;font-weight: bold;display: inline-block;line-height: 1.2em;}#sk-container-id-2 div.sk-label-container {text-align: center;}#sk-container-id-2 div.sk-container {/* jupyter's `normalize.less` sets `[hidden] { display: none; }` but bootstrap.min.css set `[hidden] { display: none !important; }` so we also need the `!important` here to be able to override the default hidden behavior on the sphinx rendered scikit-learn.org. See: https://github.com/scikit-learn/scikit-learn/issues/21755 */display: inline-block !important;position: relative;}#sk-container-id-2 div.sk-text-repr-fallback {display: none;}</style><div id=\"sk-container-id-2\" class=\"sk-top-container\"><div class=\"sk-text-repr-fallback\"><pre>RandomizedSearchCV(cv=3, estimator=LGBMClassifier(verbose=0), n_jobs=-1,\n",
              "                   param_distributions={&#x27;learning_rate&#x27;: array([0.001     , 0.0040202 , 0.0070404 , 0.01006061, 0.01308081,\n",
              "       0.01610101, 0.01912121, 0.02214141, 0.02516162, 0.02818182,\n",
              "       0.03120202, 0.03422222, 0.03724242, 0.04026263, 0.04328283,\n",
              "       0.04630303, 0.04932323, 0.05234343, 0.05536364, 0.05838384,\n",
              "       0.06140404, 0.06442424, 0...\n",
              "       0.21241414, 0.21543434, 0.21845455, 0.22147475, 0.22449495,\n",
              "       0.22751515, 0.23053535, 0.23355556, 0.23657576, 0.23959596,\n",
              "       0.24261616, 0.24563636, 0.24865657, 0.25167677, 0.25469697,\n",
              "       0.25771717, 0.26073737, 0.26375758, 0.26677778, 0.26979798,\n",
              "       0.27281818, 0.27583838, 0.27885859, 0.28187879, 0.28489899,\n",
              "       0.28791919, 0.29093939, 0.2939596 , 0.2969798 , 0.3       ]),\n",
              "                                        &#x27;max_depth&#x27;: range(2, 7)},\n",
              "                   return_train_score=True, scoring=&#x27;f1&#x27;)</pre><b>In a Jupyter environment, please rerun this cell to show the HTML representation or trust the notebook. <br />On GitHub, the HTML representation is unable to render, please try loading this page with nbviewer.org.</b></div><div class=\"sk-container\" hidden><div class=\"sk-item sk-dashed-wrapped\"><div class=\"sk-label-container\"><div class=\"sk-label sk-toggleable\"><input class=\"sk-toggleable__control sk-hidden--visually\" id=\"sk-estimator-id-2\" type=\"checkbox\" ><label for=\"sk-estimator-id-2\" class=\"sk-toggleable__label sk-toggleable__label-arrow\">RandomizedSearchCV</label><div class=\"sk-toggleable__content\"><pre>RandomizedSearchCV(cv=3, estimator=LGBMClassifier(verbose=0), n_jobs=-1,\n",
              "                   param_distributions={&#x27;learning_rate&#x27;: array([0.001     , 0.0040202 , 0.0070404 , 0.01006061, 0.01308081,\n",
              "       0.01610101, 0.01912121, 0.02214141, 0.02516162, 0.02818182,\n",
              "       0.03120202, 0.03422222, 0.03724242, 0.04026263, 0.04328283,\n",
              "       0.04630303, 0.04932323, 0.05234343, 0.05536364, 0.05838384,\n",
              "       0.06140404, 0.06442424, 0...\n",
              "       0.21241414, 0.21543434, 0.21845455, 0.22147475, 0.22449495,\n",
              "       0.22751515, 0.23053535, 0.23355556, 0.23657576, 0.23959596,\n",
              "       0.24261616, 0.24563636, 0.24865657, 0.25167677, 0.25469697,\n",
              "       0.25771717, 0.26073737, 0.26375758, 0.26677778, 0.26979798,\n",
              "       0.27281818, 0.27583838, 0.27885859, 0.28187879, 0.28489899,\n",
              "       0.28791919, 0.29093939, 0.2939596 , 0.2969798 , 0.3       ]),\n",
              "                                        &#x27;max_depth&#x27;: range(2, 7)},\n",
              "                   return_train_score=True, scoring=&#x27;f1&#x27;)</pre></div></div></div><div class=\"sk-parallel\"><div class=\"sk-parallel-item\"><div class=\"sk-item\"><div class=\"sk-label-container\"><div class=\"sk-label sk-toggleable\"><input class=\"sk-toggleable__control sk-hidden--visually\" id=\"sk-estimator-id-3\" type=\"checkbox\" ><label for=\"sk-estimator-id-3\" class=\"sk-toggleable__label sk-toggleable__label-arrow\">estimator: LGBMClassifier</label><div class=\"sk-toggleable__content\"><pre>LGBMClassifier(verbose=0)</pre></div></div></div><div class=\"sk-serial\"><div class=\"sk-item\"><div class=\"sk-estimator sk-toggleable\"><input class=\"sk-toggleable__control sk-hidden--visually\" id=\"sk-estimator-id-4\" type=\"checkbox\" ><label for=\"sk-estimator-id-4\" class=\"sk-toggleable__label sk-toggleable__label-arrow\">LGBMClassifier</label><div class=\"sk-toggleable__content\"><pre>LGBMClassifier(verbose=0)</pre></div></div></div></div></div></div></div></div></div></div>"
            ]
          },
          "metadata": {},
          "execution_count": 25
        }
      ]
    },
    {
      "cell_type": "code",
      "source": [
        "# Выведем набор лучших параметров (они хранятся в best_params_) и лучшую метрику\n",
        "\n",
        "print(f\"Лучшая метрика:   {grid_LGBM.best_score_}\")\n",
        "print(f\"Лучшие параметры: {grid_LGBM.best_params_}\")"
      ],
      "metadata": {
        "colab": {
          "base_uri": "https://localhost:8080/"
        },
        "id": "UwVVGsf1rv4N",
        "outputId": "8e1e88ef-51d9-487a-e773-50a0e58bef2c",
        "execution": {
          "iopub.status.busy": "2023-11-11T17:29:04.556441Z",
          "iopub.execute_input": "2023-11-11T17:29:04.556672Z",
          "iopub.status.idle": "2023-11-11T17:29:04.560949Z",
          "shell.execute_reply.started": "2023-11-11T17:29:04.556651Z",
          "shell.execute_reply": "2023-11-11T17:29:04.560397Z"
        },
        "trusted": true
      },
      "execution_count": 26,
      "outputs": [
        {
          "output_type": "stream",
          "name": "stdout",
          "text": [
            "Лучшая метрика:   0.9235321834876465\n",
            "Лучшие параметры: {'max_depth': 4, 'learning_rate': 0.1610707070707071}\n"
          ]
        }
      ]
    },
    {
      "cell_type": "code",
      "source": [
        "# Посмотрим как с работой теперь справится LGBM\n",
        "\n",
        "# Получить отчет классификации передав в classification_report реальные метки и предсказанные\n",
        "print(\"TEST\")\n",
        "print(classification_report(y_test, grid_LGBM.best_estimator_.predict(X_test)))\n",
        "print(\"TRAIN\")\n",
        "print(classification_report(y_train, grid_LGBM.best_estimator_.predict(X_train)))\n",
        "\n",
        "# Посмотреть на матрицу ошибок, передав в plot_confusion_matrix модель, тестовые данные и тестовые метки\n",
        "conf_matrix=confusion_matrix(y_test,grid_LGBM.best_estimator_.predict(X_test))#=confusion_matrix(LGB_model, X_test, y_test)\n",
        "class_labels = grid_LGBM.classes_\n",
        "disp=ConfusionMatrixDisplay(conf_matrix,display_labels=class_labels)#[1],class_labels[0]])\n",
        "disp.plot()\n",
        "#conf_matrix=confusion_matrix(grid_LGBM.best_estimator_(X_test), y_test)\n",
        "plt.grid(False)\n",
        "plt.show()"
      ],
      "metadata": {
        "colab": {
          "base_uri": "https://localhost:8080/",
          "height": 815
        },
        "id": "0k0hBcebsdyF",
        "outputId": "74c7eede-e51f-4042-8365-46e3c329e4ce",
        "execution": {
          "iopub.status.busy": "2023-11-11T17:29:04.561979Z",
          "iopub.execute_input": "2023-11-11T17:29:04.562401Z",
          "iopub.status.idle": "2023-11-11T17:29:04.888075Z",
          "shell.execute_reply.started": "2023-11-11T17:29:04.562369Z",
          "shell.execute_reply": "2023-11-11T17:29:04.887092Z"
        },
        "trusted": true
      },
      "execution_count": 27,
      "outputs": [
        {
          "output_type": "stream",
          "name": "stdout",
          "text": [
            "TEST\n",
            "              precision    recall  f1-score   support\n",
            "\n",
            "         0.0       0.82      0.71      0.76       239\n",
            "         1.0       0.88      0.93      0.91       561\n",
            "\n",
            "    accuracy                           0.87       800\n",
            "   macro avg       0.85      0.82      0.83       800\n",
            "weighted avg       0.86      0.87      0.86       800\n",
            "\n",
            "TRAIN\n",
            "              precision    recall  f1-score   support\n",
            "\n",
            "         0.0       0.95      0.82      0.88       956\n",
            "         1.0       0.93      0.98      0.96      2244\n",
            "\n",
            "    accuracy                           0.94      3200\n",
            "   macro avg       0.94      0.90      0.92      3200\n",
            "weighted avg       0.94      0.94      0.93      3200\n",
            "\n"
          ]
        },
        {
          "output_type": "display_data",
          "data": {
            "text/plain": [
              "<Figure size 640x480 with 2 Axes>"
            ],
            "image/png": "[encoded data removed]"
          },
          "metadata": {}
        }
      ]
    },
    {
      "cell_type": "code",
      "source": [
        "%%time\n",
        "\n",
        "# Воспользуем функцией RandomizedSearchCV\n",
        "# В качестве определения \"лучшей\" модели выберем f1_score\n",
        "\n",
        "grid_CB = RandomizedSearchCV(\n",
        "            cb.CatBoostClassifier(verbose=0),       # Алгоритм, в котором будем подбирать параметры\n",
        "            param_distributions = {                 # Сетка параметров в виде словаря\n",
        "                'max_depth': range(2, 7),\n",
        "                'learning_rate': np.linspace(0.001, 0.3, 100),\n",
        "            },\n",
        "            scoring = 'f1',\n",
        "            cv = 3,                                 # CV для кросс-валидации (число или индексы)\n",
        "            n_jobs = -1,                            # Число используемых ядер для работы\n",
        "            return_train_score = True,              # Считать ли метрики на обучающей части\n",
        "            n_iter=10,                              # Число итераций (сколько будем брать случайных наборов)\n",
        "            verbose = 5,                            # Чем больше, тем алгоритм разговорчивее\n",
        "        )\n",
        "\n",
        "# Обучим сетку на обучающем датасете при помощи метода fit\n",
        "grid_CB.fit(X_train, y_train)"
      ],
      "metadata": {
        "colab": {
          "base_uri": "https://localhost:8080/",
          "height": 171
        },
        "id": "dMqb_rUNsxxX",
        "outputId": "d5c94fe5-1eff-4eba-dfdf-6fe409c8f503",
        "execution": {
          "iopub.status.busy": "2023-11-11T17:29:04.889412Z",
          "iopub.execute_input": "2023-11-11T17:29:04.889674Z",
          "iopub.status.idle": "2023-11-11T17:30:14.938544Z",
          "shell.execute_reply.started": "2023-11-11T17:29:04.889652Z",
          "shell.execute_reply": "2023-11-11T17:30:14.936493Z"
        },
        "trusted": true
      },
      "execution_count": 28,
      "outputs": [
        {
          "output_type": "stream",
          "name": "stdout",
          "text": [
            "Fitting 3 folds for each of 10 candidates, totalling 30 fits\n",
            "CPU times: user 13.3 s, sys: 873 ms, total: 14.1 s\n",
            "Wall time: 2min 53s\n"
          ]
        },
        {
          "output_type": "execute_result",
          "data": {
            "text/plain": [
              "RandomizedSearchCV(cv=3,\n",
              "                   estimator=<catboost.core.CatBoostClassifier object at 0x7aaf74f99570>,\n",
              "                   n_jobs=-1,\n",
              "                   param_distributions={'learning_rate': array([0.001     , 0.0040202 , 0.0070404 , 0.01006061, 0.01308081,\n",
              "       0.01610101, 0.01912121, 0.02214141, 0.02516162, 0.02818182,\n",
              "       0.03120202, 0.03422222, 0.03724242, 0.04026263, 0.04328283,\n",
              "       0.04630303, 0.04932323, 0.05234343, 0.05536364, 0.0...\n",
              "       0.21241414, 0.21543434, 0.21845455, 0.22147475, 0.22449495,\n",
              "       0.22751515, 0.23053535, 0.23355556, 0.23657576, 0.23959596,\n",
              "       0.24261616, 0.24563636, 0.24865657, 0.25167677, 0.25469697,\n",
              "       0.25771717, 0.26073737, 0.26375758, 0.26677778, 0.26979798,\n",
              "       0.27281818, 0.27583838, 0.27885859, 0.28187879, 0.28489899,\n",
              "       0.28791919, 0.29093939, 0.2939596 , 0.2969798 , 0.3       ]),\n",
              "                                        'max_depth': range(2, 7)},\n",
              "                   return_train_score=True, scoring='f1', verbose=5)"
            ],
            "text/html": [
              "<style>#sk-container-id-3 {color: black;}#sk-container-id-3 pre{padding: 0;}#sk-container-id-3 div.sk-toggleable {background-color: white;}#sk-container-id-3 label.sk-toggleable__label {cursor: pointer;display: block;width: 100%;margin-bottom: 0;padding: 0.3em;box-sizing: border-box;text-align: center;}#sk-container-id-3 label.sk-toggleable__label-arrow:before {content: \"▸\";float: left;margin-right: 0.25em;color: #696969;}#sk-container-id-3 label.sk-toggleable__label-arrow:hover:before {color: black;}#sk-container-id-3 div.sk-estimator:hover label.sk-toggleable__label-arrow:before {color: black;}#sk-container-id-3 div.sk-toggleable__content {max-height: 0;max-width: 0;overflow: hidden;text-align: left;background-color: #f0f8ff;}#sk-container-id-3 div.sk-toggleable__content pre {margin: 0.2em;color: black;border-radius: 0.25em;background-color: #f0f8ff;}#sk-container-id-3 input.sk-toggleable__control:checked~div.sk-toggleable__content {max-height: 200px;max-width: 100%;overflow: auto;}#sk-container-id-3 input.sk-toggleable__control:checked~label.sk-toggleable__label-arrow:before {content: \"▾\";}#sk-container-id-3 div.sk-estimator input.sk-toggleable__control:checked~label.sk-toggleable__label {background-color: #d4ebff;}#sk-container-id-3 div.sk-label input.sk-toggleable__control:checked~label.sk-toggleable__label {background-color: #d4ebff;}#sk-container-id-3 input.sk-hidden--visually {border: 0;clip: rect(1px 1px 1px 1px);clip: rect(1px, 1px, 1px, 1px);height: 1px;margin: -1px;overflow: hidden;padding: 0;position: absolute;width: 1px;}#sk-container-id-3 div.sk-estimator {font-family: monospace;background-color: #f0f8ff;border: 1px dotted black;border-radius: 0.25em;box-sizing: border-box;margin-bottom: 0.5em;}#sk-container-id-3 div.sk-estimator:hover {background-color: #d4ebff;}#sk-container-id-3 div.sk-parallel-item::after {content: \"\";width: 100%;border-bottom: 1px solid gray;flex-grow: 1;}#sk-container-id-3 div.sk-label:hover label.sk-toggleable__label {background-color: #d4ebff;}#sk-container-id-3 div.sk-serial::before {content: \"\";position: absolute;border-left: 1px solid gray;box-sizing: border-box;top: 0;bottom: 0;left: 50%;z-index: 0;}#sk-container-id-3 div.sk-serial {display: flex;flex-direction: column;align-items: center;background-color: white;padding-right: 0.2em;padding-left: 0.2em;position: relative;}#sk-container-id-3 div.sk-item {position: relative;z-index: 1;}#sk-container-id-3 div.sk-parallel {display: flex;align-items: stretch;justify-content: center;background-color: white;position: relative;}#sk-container-id-3 div.sk-item::before, #sk-container-id-3 div.sk-parallel-item::before {content: \"\";position: absolute;border-left: 1px solid gray;box-sizing: border-box;top: 0;bottom: 0;left: 50%;z-index: -1;}#sk-container-id-3 div.sk-parallel-item {display: flex;flex-direction: column;z-index: 1;position: relative;background-color: white;}#sk-container-id-3 div.sk-parallel-item:first-child::after {align-self: flex-end;width: 50%;}#sk-container-id-3 div.sk-parallel-item:last-child::after {align-self: flex-start;width: 50%;}#sk-container-id-3 div.sk-parallel-item:only-child::after {width: 0;}#sk-container-id-3 div.sk-dashed-wrapped {border: 1px dashed gray;margin: 0 0.4em 0.5em 0.4em;box-sizing: border-box;padding-bottom: 0.4em;background-color: white;}#sk-container-id-3 div.sk-label label {font-family: monospace;font-weight: bold;display: inline-block;line-height: 1.2em;}#sk-container-id-3 div.sk-label-container {text-align: center;}#sk-container-id-3 div.sk-container {/* jupyter's `normalize.less` sets `[hidden] { display: none; }` but bootstrap.min.css set `[hidden] { display: none !important; }` so we also need the `!important` here to be able to override the default hidden behavior on the sphinx rendered scikit-learn.org. See: https://github.com/scikit-learn/scikit-learn/issues/21755 */display: inline-block !important;position: relative;}#sk-container-id-3 div.sk-text-repr-fallback {display: none;}</style><div id=\"sk-container-id-3\" class=\"sk-top-container\"><div class=\"sk-text-repr-fallback\"><pre>RandomizedSearchCV(cv=3,\n",
              "                   estimator=&lt;catboost.core.CatBoostClassifier object at 0x7aaf74f99570&gt;,\n",
              "                   n_jobs=-1,\n",
              "                   param_distributions={&#x27;learning_rate&#x27;: array([0.001     , 0.0040202 , 0.0070404 , 0.01006061, 0.01308081,\n",
              "       0.01610101, 0.01912121, 0.02214141, 0.02516162, 0.02818182,\n",
              "       0.03120202, 0.03422222, 0.03724242, 0.04026263, 0.04328283,\n",
              "       0.04630303, 0.04932323, 0.05234343, 0.05536364, 0.0...\n",
              "       0.21241414, 0.21543434, 0.21845455, 0.22147475, 0.22449495,\n",
              "       0.22751515, 0.23053535, 0.23355556, 0.23657576, 0.23959596,\n",
              "       0.24261616, 0.24563636, 0.24865657, 0.25167677, 0.25469697,\n",
              "       0.25771717, 0.26073737, 0.26375758, 0.26677778, 0.26979798,\n",
              "       0.27281818, 0.27583838, 0.27885859, 0.28187879, 0.28489899,\n",
              "       0.28791919, 0.29093939, 0.2939596 , 0.2969798 , 0.3       ]),\n",
              "                                        &#x27;max_depth&#x27;: range(2, 7)},\n",
              "                   return_train_score=True, scoring=&#x27;f1&#x27;, verbose=5)</pre><b>In a Jupyter environment, please rerun this cell to show the HTML representation or trust the notebook. <br />On GitHub, the HTML representation is unable to render, please try loading this page with nbviewer.org.</b></div><div class=\"sk-container\" hidden><div class=\"sk-item sk-dashed-wrapped\"><div class=\"sk-label-container\"><div class=\"sk-label sk-toggleable\"><input class=\"sk-toggleable__control sk-hidden--visually\" id=\"sk-estimator-id-5\" type=\"checkbox\" ><label for=\"sk-estimator-id-5\" class=\"sk-toggleable__label sk-toggleable__label-arrow\">RandomizedSearchCV</label><div class=\"sk-toggleable__content\"><pre>RandomizedSearchCV(cv=3,\n",
              "                   estimator=&lt;catboost.core.CatBoostClassifier object at 0x7aaf74f99570&gt;,\n",
              "                   n_jobs=-1,\n",
              "                   param_distributions={&#x27;learning_rate&#x27;: array([0.001     , 0.0040202 , 0.0070404 , 0.01006061, 0.01308081,\n",
              "       0.01610101, 0.01912121, 0.02214141, 0.02516162, 0.02818182,\n",
              "       0.03120202, 0.03422222, 0.03724242, 0.04026263, 0.04328283,\n",
              "       0.04630303, 0.04932323, 0.05234343, 0.05536364, 0.0...\n",
              "       0.21241414, 0.21543434, 0.21845455, 0.22147475, 0.22449495,\n",
              "       0.22751515, 0.23053535, 0.23355556, 0.23657576, 0.23959596,\n",
              "       0.24261616, 0.24563636, 0.24865657, 0.25167677, 0.25469697,\n",
              "       0.25771717, 0.26073737, 0.26375758, 0.26677778, 0.26979798,\n",
              "       0.27281818, 0.27583838, 0.27885859, 0.28187879, 0.28489899,\n",
              "       0.28791919, 0.29093939, 0.2939596 , 0.2969798 , 0.3       ]),\n",
              "                                        &#x27;max_depth&#x27;: range(2, 7)},\n",
              "                   return_train_score=True, scoring=&#x27;f1&#x27;, verbose=5)</pre></div></div></div><div class=\"sk-parallel\"><div class=\"sk-parallel-item\"><div class=\"sk-item\"><div class=\"sk-label-container\"><div class=\"sk-label sk-toggleable\"><input class=\"sk-toggleable__control sk-hidden--visually\" id=\"sk-estimator-id-6\" type=\"checkbox\" ><label for=\"sk-estimator-id-6\" class=\"sk-toggleable__label sk-toggleable__label-arrow\">estimator: CatBoostClassifier</label><div class=\"sk-toggleable__content\"><pre>&lt;catboost.core.CatBoostClassifier object at 0x7aaf74f99570&gt;</pre></div></div></div><div class=\"sk-serial\"><div class=\"sk-item\"><div class=\"sk-estimator sk-toggleable\"><input class=\"sk-toggleable__control sk-hidden--visually\" id=\"sk-estimator-id-7\" type=\"checkbox\" ><label for=\"sk-estimator-id-7\" class=\"sk-toggleable__label sk-toggleable__label-arrow\">CatBoostClassifier</label><div class=\"sk-toggleable__content\"><pre>&lt;catboost.core.CatBoostClassifier object at 0x7aaf74f99570&gt;</pre></div></div></div></div></div></div></div></div></div></div>"
            ]
          },
          "metadata": {},
          "execution_count": 28
        }
      ]
    },
    {
      "cell_type": "markdown",
      "source": [
        "Видно, что `CatBoost` работает в разы медленнее, однако он сходится быстрее, чем `LGBM` и потому суммарное время работы для нахождения оптимума у них примерно одинаковое"
      ],
      "metadata": {
        "id": "TvlSspu0tak9"
      }
    },
    {
      "cell_type": "code",
      "source": [
        "# Выведем набор лучших параметров (они хранятся в best_params_) и лучшую метрику\n",
        "\n",
        "print(f\"Лучшая метрика:   {grid_CB.best_score_}\")\n",
        "print(f\"Лучшие параметры: {grid_CB.best_params_}\")\n",
        "\n",
        "# Метрика выше!"
      ],
      "metadata": {
        "colab": {
          "base_uri": "https://localhost:8080/"
        },
        "id": "Sdk_O32ItPjG",
        "outputId": "4d6e7592-bf40-499b-bcde-e41187b128d8",
        "execution": {
          "iopub.status.busy": "2023-11-11T17:30:14.940727Z",
          "iopub.execute_input": "2023-11-11T17:30:14.941133Z",
          "iopub.status.idle": "2023-11-11T17:30:14.947009Z",
          "shell.execute_reply.started": "2023-11-11T17:30:14.941101Z",
          "shell.execute_reply": "2023-11-11T17:30:14.945847Z"
        },
        "trusted": true
      },
      "execution_count": 29,
      "outputs": [
        {
          "output_type": "stream",
          "name": "stdout",
          "text": [
            "Лучшая метрика:   0.926890640412021\n",
            "Лучшие параметры: {'max_depth': 6, 'learning_rate': 0.03422222222222222}\n"
          ]
        }
      ]
    },
    {
      "cell_type": "code",
      "source": [
        "# Посмотрим как с работой теперь справиться CB\n",
        "\n",
        "# Получить отчет классификации передав в classification_report реальные метки и предсказанные\n",
        "print(\"TEST\")\n",
        "print(classification_report(y_test, grid_CB.best_estimator_.predict(X_test)))\n",
        "print(\"TRAIN\")\n",
        "print(classification_report(y_train, grid_CB.best_estimator_.predict(X_train)))\n",
        "\n",
        "# Посмотреть на матрицу ошибок, передав в plot_confusion_matrix модель, тестовые данные и тестовые метки\n",
        "conf_matrix=confusion_matrix(y_test,grid_CB.best_estimator_.predict(X_test))\n",
        "class_labels=grid_CB.classes_\n",
        "disp=ConfusionMatrixDisplay(conf_matrix,display_labels=class_labels)\n",
        "disp.plot()\n",
        "plt.grid(False)\n",
        "plt.show()"
      ],
      "metadata": {
        "colab": {
          "base_uri": "https://localhost:8080/",
          "height": 815
        },
        "id": "Ro8OOOD0trFL",
        "outputId": "125e5836-53d2-4d19-e797-d2d609cf7d3f",
        "execution": {
          "iopub.status.busy": "2023-11-11T17:30:14.949561Z",
          "iopub.execute_input": "2023-11-11T17:30:14.950032Z",
          "iopub.status.idle": "2023-11-11T17:30:15.284314Z",
          "shell.execute_reply.started": "2023-11-11T17:30:14.949993Z",
          "shell.execute_reply": "2023-11-11T17:30:15.283091Z"
        },
        "trusted": true
      },
      "execution_count": 30,
      "outputs": [
        {
          "output_type": "stream",
          "name": "stdout",
          "text": [
            "TEST\n",
            "              precision    recall  f1-score   support\n",
            "\n",
            "         0.0       0.86      0.72      0.79       239\n",
            "         1.0       0.89      0.95      0.92       561\n",
            "\n",
            "    accuracy                           0.88       800\n",
            "   macro avg       0.88      0.84      0.85       800\n",
            "weighted avg       0.88      0.88      0.88       800\n",
            "\n",
            "TRAIN\n",
            "              precision    recall  f1-score   support\n",
            "\n",
            "         0.0       0.99      0.95      0.97       956\n",
            "         1.0       0.98      1.00      0.99      2244\n",
            "\n",
            "    accuracy                           0.98      3200\n",
            "   macro avg       0.99      0.97      0.98      3200\n",
            "weighted avg       0.98      0.98      0.98      3200\n",
            "\n"
          ]
        },
        {
          "output_type": "display_data",
          "data": {
            "text/plain": [
              "<Figure size 640x480 with 2 Axes>"
            ],
            "image/png": "[encoded data removed]"
          },
          "metadata": {}
        }
      ]
    },
    {
      "cell_type": "markdown",
      "source": [
        "Видим, что подбор параметров не дал прироста в качестве. Но ничего, такое тоже бывает, тогда давайте построим графики и составим отчет."
      ],
      "metadata": {
        "id": "IcHuhCcbt8zR"
      }
    },
    {
      "cell_type": "markdown",
      "source": [
        "### Визуализация"
      ],
      "metadata": {
        "id": "HpTUFU-euaJo"
      }
    },
    {
      "cell_type": "code",
      "source": [
        "# Отоберем еще признаки при помощи permutation importance, для перестановки признаков и оценки важности для качества\n",
        "# импортируем эту функцию из модуля inspection sklearn\n",
        "\n",
        "from sklearn.inspection import permutation_importance"
      ],
      "metadata": {
        "id": "TXS6yv4AtrHh",
        "execution": {
          "iopub.status.busy": "2023-11-11T17:30:15.290102Z",
          "iopub.execute_input": "2023-11-11T17:30:15.290446Z",
          "iopub.status.idle": "2023-11-11T17:30:15.296570Z",
          "shell.execute_reply.started": "2023-11-11T17:30:15.290422Z",
          "shell.execute_reply": "2023-11-11T17:30:15.294839Z"
        },
        "trusted": true
      },
      "execution_count": 31,
      "outputs": []
    },
    {
      "cell_type": "code",
      "source": [
        "%%time\n",
        "# Воспользуемся поиском важности перемешиванием, для лучшей модели LGBM\n",
        "\n",
        "result_LGBM = permutation_importance(grid_LGBM.best_estimator_, X_test, y_test,\n",
        "                                     n_repeats=30,\n",
        "                                     random_state=0)\n",
        "\n",
        "# Воспользуемся поиском важности перемешиванием, для лучшей модели CatBoost\n",
        "\n",
        "result_CB = permutation_importance(grid_CB.best_estimator_, X_test, y_test,\n",
        "                                     n_repeats=30,\n",
        "                                     random_state=0)"
      ],
      "metadata": {
        "colab": {
          "base_uri": "https://localhost:8080/"
        },
        "id": "XQaWI50jtrJ5",
        "outputId": "7bbaf26d-c8ba-41a3-d886-ad804bd48c93",
        "execution": {
          "iopub.status.busy": "2023-11-11T17:30:15.298426Z",
          "iopub.execute_input": "2023-11-11T17:30:15.298891Z",
          "iopub.status.idle": "2023-11-11T17:30:24.034889Z",
          "shell.execute_reply.started": "2023-11-11T17:30:15.298842Z",
          "shell.execute_reply": "2023-11-11T17:30:24.033322Z"
        },
        "trusted": true
      },
      "execution_count": 32,
      "outputs": [
        {
          "output_type": "stream",
          "name": "stdout",
          "text": [
            "CPU times: user 6.42 s, sys: 332 ms, total: 6.75 s\n",
            "Wall time: 5.95 s\n"
          ]
        }
      ]
    },
    {
      "cell_type": "code",
      "source": [
        "# Посмотрим, что возвращает эта функция\n",
        "\n",
        "result_LGBM"
      ],
      "metadata": {
        "colab": {
          "base_uri": "https://localhost:8080/"
        },
        "id": "JuxevFB3trLp",
        "outputId": "0c94b9fd-e0d1-4e94-f80e-554809293272",
        "execution": {
          "iopub.status.busy": "2023-11-11T17:30:24.036135Z",
          "iopub.execute_input": "2023-11-11T17:30:24.036627Z",
          "iopub.status.idle": "2023-11-11T17:30:24.050445Z",
          "shell.execute_reply.started": "2023-11-11T17:30:24.036589Z",
          "shell.execute_reply": "2023-11-11T17:30:24.048870Z"
        },
        "trusted": true
      },
      "execution_count": 33,
      "outputs": [
        {
          "output_type": "execute_result",
          "data": {
            "text/plain": [
              "{'importances_mean': array([0.00591667, 0.00645833, 0.01483333, 0.00979167, 0.005     ,\n",
              "        0.00404167, 0.00458333, 0.01341667, 0.00308333, 0.00520833,\n",
              "        0.00029167, 0.02625   , 0.0005    , 0.00191667, 0.10475   ,\n",
              "        0.00258333, 0.005     , 0.00758333, 0.00220833, 0.011125  ,\n",
              "        0.00579167, 0.01108333]),\n",
              " 'importances_std': array([0.00362189, 0.0033863 , 0.00457271, 0.00399327, 0.00317871,\n",
              "        0.00265525, 0.00231241, 0.00517338, 0.00305732, 0.00425837,\n",
              "        0.00261572, 0.00475438, 0.00142887, 0.00220637, 0.00915378,\n",
              "        0.00297443, 0.00176777, 0.00312805, 0.00288103, 0.00354069,\n",
              "        0.00231578, 0.00280872]),\n",
              " 'importances': array([[ 0.00625,  0.00375,  0.00125,  0.00375,  0.0025 ,  0.0075 ,\n",
              "          0.00875,  0.01125,  0.00125,  0.0025 ,  0.01   ,  0.00375,\n",
              "          0.01125,  0.0125 ,  0.005  ,  0.00875,  0.01   ,  0.0025 ,\n",
              "          0.01125,  0.0075 ,  0.0025 ,  0.005  ,  0.0125 ,  0.00375,\n",
              "          0.0075 ,  0.00375,  0.00125,  0.005  ,  0.00125,  0.00375],\n",
              "        [ 0.00625,  0.01375,  0.01125,  0.005  ,  0.01   ,  0.00625,\n",
              "          0.0075 ,  0.0075 ,  0.01   ,  0.005  ,  0.00375,  0.00375,\n",
              "          0.     ,  0.     ,  0.00375,  0.00875,  0.00375,  0.00375,\n",
              "          0.01125,  0.00875,  0.0075 ,  0.0075 ,  0.005  ,  0.00625,\n",
              "          0.01125,  0.01   ,  0.0025 ,  0.00625,  0.00625,  0.00125],\n",
              "        [ 0.01   ,  0.0125 ,  0.02375,  0.00625,  0.01   ,  0.01625,\n",
              "          0.015  ,  0.015  ,  0.01875,  0.00875,  0.01   ,  0.01   ,\n",
              "          0.01625,  0.015  ,  0.01875,  0.0175 ,  0.0125 ,  0.0225 ,\n",
              "          0.0125 ,  0.02375,  0.0125 ,  0.01375,  0.0125 ,  0.015  ,\n",
              "          0.0225 ,  0.01   ,  0.0175 ,  0.01   ,  0.0175 ,  0.01875],\n",
              "        [ 0.01125,  0.0075 ,  0.01125,  0.00875,  0.00625,  0.0025 ,\n",
              "          0.01   ,  0.0125 ,  0.0075 ,  0.00625,  0.01125,  0.0125 ,\n",
              "          0.005  ,  0.01   ,  0.0175 ,  0.0075 ,  0.01   ,  0.00375,\n",
              "          0.00875,  0.0075 ,  0.0125 ,  0.00875,  0.00625,  0.0175 ,\n",
              "          0.00875,  0.00625,  0.0175 ,  0.00875,  0.01125,  0.01875],\n",
              "        [ 0.00125,  0.0075 ,  0.0025 ,  0.01   ,  0.00625,  0.00375,\n",
              "          0.00375, -0.0025 ,  0.00375,  0.01   ,  0.0075 ,  0.0025 ,\n",
              "          0.00625,  0.01125,  0.00375,  0.005  ,  0.00125,  0.0075 ,\n",
              "          0.005  ,  0.005  ,  0.005  ,  0.00125,  0.005  ,  0.00875,\n",
              "          0.0075 ,  0.005  ,  0.00125,  0.00125,  0.01   ,  0.00375],\n",
              "        [ 0.005  , -0.0025 ,  0.00625,  0.00625,  0.005  ,  0.0025 ,\n",
              "          0.     ,  0.0075 ,  0.005  ,  0.00625,  0.0075 ,  0.0075 ,\n",
              "          0.00125,  0.005  ,  0.00375,  0.00625,  0.0025 , -0.0025 ,\n",
              "          0.00375,  0.00625,  0.00375,  0.005  ,  0.0025 ,  0.0025 ,\n",
              "          0.0025 ,  0.00375,  0.00375,  0.0025 ,  0.00375,  0.00875],\n",
              "        [ 0.0075 ,  0.00875,  0.00625,  0.0025 ,  0.00375,  0.005  ,\n",
              "          0.00625,  0.00375,  0.00375,  0.0025 ,  0.00375,  0.00375,\n",
              "          0.005  ,  0.0025 ,  0.00125,  0.00625,  0.00625,  0.00125,\n",
              "          0.00375,  0.00375,  0.0025 ,  0.00125,  0.00625,  0.0025 ,\n",
              "          0.00875,  0.00375,  0.01   ,  0.0025 ,  0.0075 ,  0.005  ],\n",
              "        [ 0.0075 ,  0.03   ,  0.01375,  0.01   ,  0.02   ,  0.01375,\n",
              "          0.01625,  0.00375,  0.015  ,  0.015  ,  0.0125 ,  0.0075 ,\n",
              "          0.01125,  0.01375,  0.00375,  0.01875,  0.01125,  0.015  ,\n",
              "          0.02   ,  0.0175 ,  0.01375,  0.015  ,  0.0125 ,  0.0175 ,\n",
              "          0.01   ,  0.01375,  0.0075 ,  0.01125,  0.01625,  0.00875],\n",
              "        [ 0.     ,  0.00375, -0.00125,  0.00625,  0.00625,  0.00625,\n",
              "          0.00625,  0.00125, -0.00375,  0.005  ,  0.00125,  0.     ,\n",
              "          0.00375,  0.     ,  0.005  ,  0.00375,  0.00125,  0.     ,\n",
              "          0.005  ,  0.005  ,  0.0025 ,  0.00625,  0.00125,  0.00375,\n",
              "          0.0075 ,  0.0025 ,  0.00875,  0.00125, -0.0025 ,  0.00625],\n",
              "        [ 0.00125,  0.00125,  0.01625,  0.0075 ,  0.0025 ,  0.00125,\n",
              "          0.01   ,  0.00375,  0.0025 , -0.00125,  0.01125,  0.005  ,\n",
              "          0.0025 ,  0.00625,  0.01   ,  0.0025 ,  0.0075 ,  0.00125,\n",
              "          0.00375,  0.01125,  0.0025 ,  0.00625, -0.00125,  0.00375,\n",
              "          0.01125,  0.0125 ,  0.00375,  0.005  ,  0.00375,  0.0025 ],\n",
              "        [ 0.0025 , -0.00125,  0.00375, -0.00125, -0.00375, -0.00625,\n",
              "          0.00125,  0.0025 ,  0.0025 , -0.00125, -0.00375,  0.     ,\n",
              "         -0.00375,  0.00125, -0.00125,  0.005  , -0.00125, -0.00125,\n",
              "          0.0025 ,  0.00125,  0.     ,  0.     ,  0.0025 ,  0.0025 ,\n",
              "          0.     ,  0.00125,  0.00125, -0.0025 ,  0.005  ,  0.00125],\n",
              "        [ 0.0125 ,  0.02625,  0.02375,  0.0225 ,  0.02625,  0.02375,\n",
              "          0.0275 ,  0.0225 ,  0.03   ,  0.03   ,  0.02375,  0.02375,\n",
              "          0.0225 ,  0.0225 ,  0.025  ,  0.03125,  0.0225 ,  0.03   ,\n",
              "          0.02875,  0.0325 ,  0.03875,  0.035  ,  0.0275 ,  0.0275 ,\n",
              "          0.0275 ,  0.02625,  0.0225 ,  0.02375,  0.0225 ,  0.02875],\n",
              "        [ 0.0025 ,  0.00125, -0.00125,  0.00125,  0.     ,  0.0025 ,\n",
              "         -0.00125,  0.00125,  0.00125,  0.     ,  0.     , -0.00125,\n",
              "         -0.00125,  0.     ,  0.00125,  0.     , -0.00125,  0.0025 ,\n",
              "          0.00125,  0.0025 , -0.00125, -0.00125,  0.0025 , -0.00125,\n",
              "         -0.00125,  0.     ,  0.0025 ,  0.     ,  0.00125,  0.0025 ],\n",
              "        [ 0.0025 , -0.0025 ,  0.00625,  0.00375,  0.0025 ,  0.00375,\n",
              "          0.00625,  0.00375,  0.00375,  0.0025 , -0.00125,  0.0025 ,\n",
              "          0.00125,  0.00125,  0.00125,  0.00125, -0.00125,  0.0025 ,\n",
              "         -0.00125, -0.0025 ,  0.00125,  0.0025 ,  0.0025 ,  0.     ,\n",
              "          0.00125,  0.0025 ,  0.00375,  0.005  ,  0.     ,  0.0025 ],\n",
              "        [ 0.10125,  0.115  ,  0.105  ,  0.10375,  0.09625,  0.10125,\n",
              "          0.10875,  0.11125,  0.10375,  0.105  ,  0.12625,  0.1    ,\n",
              "          0.10625,  0.10125,  0.09875,  0.1025 ,  0.11125,  0.1125 ,\n",
              "          0.1    ,  0.1125 ,  0.105  ,  0.1125 ,  0.09375,  0.1    ,\n",
              "          0.115  ,  0.09625,  0.105  ,  0.115  ,  0.0725 ,  0.105  ],\n",
              "        [ 0.0025 ,  0.005  ,  0.00875,  0.00375, -0.005  ,  0.005  ,\n",
              "          0.00125, -0.0025 ,  0.0025 ,  0.005  ,  0.0025 ,  0.0025 ,\n",
              "          0.00375,  0.005  ,  0.00375,  0.00375,  0.00375, -0.0025 ,\n",
              "          0.00375,  0.00375,  0.00125, -0.0025 , -0.00125,  0.0025 ,\n",
              "          0.0025 ,  0.00125,  0.00375,  0.0025 ,  0.00875,  0.0025 ],\n",
              "        [ 0.0025 ,  0.00625,  0.005  ,  0.005  ,  0.005  ,  0.00625,\n",
              "          0.005  ,  0.00375,  0.00125,  0.00375,  0.00875,  0.005  ,\n",
              "          0.005  ,  0.00375,  0.0075 ,  0.00625,  0.005  ,  0.00375,\n",
              "          0.005  ,  0.005  ,  0.00375,  0.0025 ,  0.00625,  0.00875,\n",
              "          0.00625,  0.005  ,  0.00125,  0.00625,  0.005  ,  0.00625],\n",
              "        [ 0.00625,  0.0125 ,  0.005  ,  0.00625,  0.01625,  0.0025 ,\n",
              "          0.0075 ,  0.00625,  0.0075 ,  0.00625,  0.01125,  0.0075 ,\n",
              "          0.01125,  0.00875,  0.01125,  0.0075 ,  0.005  ,  0.0075 ,\n",
              "          0.00375,  0.00125,  0.00625,  0.00875,  0.0125 ,  0.00625,\n",
              "          0.0075 ,  0.005  ,  0.01   ,  0.00875,  0.005  ,  0.00625],\n",
              "        [ 0.     ,  0.0025 ,  0.005  ,  0.00375,  0.00375,  0.     ,\n",
              "          0.0025 ,  0.00375,  0.00125, -0.00125,  0.0025 , -0.00125,\n",
              "          0.00125,  0.00375,  0.0025 ,  0.005  ,  0.00375,  0.00125,\n",
              "          0.00125,  0.     ,  0.00875,  0.     , -0.005  ,  0.00125,\n",
              "          0.00375, -0.0025 ,  0.005  ,  0.00375,  0.00125,  0.00875],\n",
              "        [ 0.005  ,  0.0125 ,  0.01   ,  0.015  ,  0.01125,  0.01   ,\n",
              "          0.01375,  0.01125,  0.00875,  0.02   ,  0.015  ,  0.00625,\n",
              "          0.0125 ,  0.01125,  0.005  ,  0.015  ,  0.0075 ,  0.01   ,\n",
              "          0.015  ,  0.01   ,  0.015  ,  0.01375,  0.0125 ,  0.015  ,\n",
              "          0.00875,  0.005  ,  0.00875,  0.01   ,  0.0125 ,  0.0075 ],\n",
              "        [ 0.01   ,  0.0075 ,  0.00375,  0.00625,  0.00375,  0.0075 ,\n",
              "          0.00625,  0.0075 ,  0.005  ,  0.00375,  0.005  ,  0.0075 ,\n",
              "          0.00875,  0.01   ,  0.0075 ,  0.005  ,  0.0075 ,  0.0075 ,\n",
              "          0.00625,  0.005  ,  0.00125,  0.0025 ,  0.0075 ,  0.005  ,\n",
              "          0.00125,  0.005  ,  0.0075 ,  0.005  ,  0.00625,  0.00125],\n",
              "        [ 0.01375,  0.01125,  0.0125 ,  0.0075 ,  0.015  ,  0.005  ,\n",
              "          0.01625,  0.00875,  0.0075 ,  0.0125 ,  0.0125 ,  0.01   ,\n",
              "          0.01375,  0.01125,  0.01125,  0.01125,  0.00875,  0.01   ,\n",
              "          0.01625,  0.00875,  0.0075 ,  0.00875,  0.0125 ,  0.015  ,\n",
              "          0.0125 ,  0.01125,  0.00625,  0.0125 ,  0.0125 ,  0.01   ]])}"
            ]
          },
          "metadata": {},
          "execution_count": 33
        }
      ]
    },
    {
      "cell_type": "code",
      "source": [],
      "metadata": {
        "id": "m9gTGlR0qV50"
      },
      "execution_count": 33,
      "outputs": []
    },
    {
      "cell_type": "code",
      "source": [
        "# Оставим только те признаки, которые дают положительный вклад (то есть importances_mean > 0) хотя бы для одной модели\n",
        "\n",
        "X_test.columns[(result_LGBM['importances_mean'] > 0) | (result_CB['importances_mean'] > 0)]"
      ],
      "metadata": {
        "colab": {
          "base_uri": "https://localhost:8080/"
        },
        "id": "xZeEcjR3vRNd",
        "outputId": "8af047a4-8465-4a09-f69a-d813c83a0072",
        "execution": {
          "iopub.status.busy": "2023-11-11T17:07:38.675486Z",
          "iopub.execute_input": "2023-11-11T17:07:38.675772Z",
          "iopub.status.idle": "2023-11-11T17:07:38.687485Z",
          "shell.execute_reply.started": "2023-11-11T17:07:38.675750Z",
          "shell.execute_reply": "2023-11-11T17:07:38.685664Z"
        },
        "trusted": true
      },
      "execution_count": 34,
      "outputs": [
        {
          "output_type": "execute_result",
          "data": {
            "text/plain": [
              "Index(['PPE', 'D2', 'spread2', 'MDVPPPQ', 'ShimmerAPQ3', 'MDVPJitterAbs',\n",
              "       'RPDE', 'MDVPShimmer', 'MDVPFoHz', 'NHR', 'ShimmerAPQ5', 'MDVPAPQ',\n",
              "       'ShimmerDDA', 'MDVPRAP', 'spread1', 'MDVPJitter', 'DFA', 'MDVPFloHz',\n",
              "       'MDVPFhiHz', 'JitterDDP', 'MDVPShimmerdB', 'HNR'],\n",
              "      dtype='object')"
            ]
          },
          "metadata": {},
          "execution_count": 34
        }
      ]
    },
    {
      "cell_type": "markdown",
      "source": [
        "Отберем лучшие признаки и прогоним  через catboosting лучший набор."
      ],
      "metadata": {
        "id": "L9pnWBdtTieO"
      }
    },
    {
      "cell_type": "code",
      "source": [
        "# Сохраним лучшие признаки\n",
        "\n",
        "Вest_feat_train = X_train.columns[(result_CB['importances_mean'] > 0)]"
      ],
      "metadata": {
        "id": "H1lCXN48wae2",
        "execution": {
          "iopub.status.busy": "2023-11-11T17:31:51.856986Z",
          "iopub.execute_input": "2023-11-11T17:31:51.857408Z",
          "iopub.status.idle": "2023-11-11T17:31:51.863319Z",
          "shell.execute_reply.started": "2023-11-11T17:31:51.857372Z",
          "shell.execute_reply": "2023-11-11T17:31:51.861775Z"
        },
        "trusted": true
      },
      "execution_count": 50,
      "outputs": []
    },
    {
      "cell_type": "code",
      "source": [
        "Вest_feat_train_df=X_train.loc[:,Вest_feat_train]"
      ],
      "metadata": {
        "id": "kG4EQwXzTTTW"
      },
      "execution_count": 51,
      "outputs": []
    },
    {
      "cell_type": "code",
      "source": [
        "grid_CB.best_params_"
      ],
      "metadata": {
        "colab": {
          "base_uri": "https://localhost:8080/"
        },
        "id": "Tec3NXL3VpjL",
        "outputId": "5043f604-d8ed-42b3-d4f5-477bbc493add"
      },
      "execution_count": 48,
      "outputs": [
        {
          "output_type": "execute_result",
          "data": {
            "text/plain": [
              "{'max_depth': 6, 'learning_rate': 0.03422222222222222}"
            ]
          },
          "metadata": {},
          "execution_count": 48
        }
      ]
    },
    {
      "cell_type": "markdown",
      "source": [
        "## Посмотрим метрики отобранных лучших призанаков на test -"
      ],
      "metadata": {
        "id": "r3gcPAsoeOPg"
      }
    },
    {
      "cell_type": "code",
      "source": [
        "CB_model_new = cb.CatBoostClassifier(max_depth=6,learning_rate= 0.034222, verbose=0)\n",
        "CB_model_new.fit(Вest_feat_train_df, y_train)\n",
        "# Предсказание на тестовом наборе\n",
        "predictions_new = CB_model_new.predict(X_test)\n",
        "# Вывод отчета классификации и построение матрицы ошибок\n",
        "print(\"TEST\")\n",
        "print(classification_report(y_test, predictions_new))\n",
        "conf_matrix = confusion_matrix(y_test, predictions_new)\n",
        "class_labels = CB_model_new.classes_\n",
        "disp = ConfusionMatrixDisplay(conf_matrix, display_labels=class_labels)\n",
        "disp.plot()\n",
        "plt.grid(False)\n",
        "plt.show()"
      ],
      "metadata": {
        "execution": {
          "iopub.status.busy": "2023-11-11T17:17:54.089623Z",
          "iopub.execute_input": "2023-11-11T17:17:54.089959Z",
          "iopub.status.idle": "2023-11-11T17:17:54.148453Z",
          "shell.execute_reply.started": "2023-11-11T17:17:54.089936Z",
          "shell.execute_reply": "2023-11-11T17:17:54.147394Z"
        },
        "trusted": true,
        "colab": {
          "base_uri": "https://localhost:8080/",
          "height": 637
        },
        "id": "ihC10Bl7eOPg",
        "outputId": "fc9f2d84-5d74-4a4a-f06e-970614bcf7fb"
      },
      "execution_count": 53,
      "outputs": [
        {
          "output_type": "stream",
          "name": "stdout",
          "text": [
            "TEST\n",
            "              precision    recall  f1-score   support\n",
            "\n",
            "         0.0       0.86      0.72      0.79       239\n",
            "         1.0       0.89      0.95      0.92       561\n",
            "\n",
            "    accuracy                           0.88       800\n",
            "   macro avg       0.88      0.84      0.85       800\n",
            "weighted avg       0.88      0.88      0.88       800\n",
            "\n"
          ]
        },
        {
          "output_type": "display_data",
          "data": {
            "text/plain": [
              "<Figure size 640x480 with 2 Axes>"
            ],
            "image/png": "[encoded data removed]"
          },
          "metadata": {}
        }
      ]
    },
    {
      "cell_type": "markdown",
      "source": [
        "### Отчет о работе модели (при помощи SHAP)"
      ],
      "metadata": {
        "id": "ChOPtQ_n0QwI"
      }
    },
    {
      "cell_type": "code",
      "source": [
        "# Установим библиотеку shap\n",
        "! pip install shap"
      ],
      "metadata": {
        "id": "dZGeZrZI0jCJ"
      },
      "execution_count": null,
      "outputs": []
    },
    {
      "cell_type": "code",
      "source": [
        "# Импортируем библиотек shap\n",
        "import shap"
      ],
      "metadata": {
        "id": "vyE1d5WvzDRL"
      },
      "execution_count": 56,
      "outputs": []
    },
    {
      "cell_type": "code",
      "source": [
        "# Создадим объект библиотеки shap -- explainer при помощи функции TreeExplainer библиотеки shap, который принимает модель\n",
        "# например для лучше модели LGBM\n",
        "explainer = shap.TreeExplainer(grid_LGBM.best_estimator_)"
      ],
      "metadata": {
        "id": "ZdAc-dB80c_c"
      },
      "execution_count": 57,
      "outputs": []
    },
    {
      "cell_type": "code",
      "source": [
        "# Посчитаем shap-values вызвав у explainer метод shap_values, передав в качестве аргумента датасет X_train\n",
        "\n",
        "shap_values = explainer.shap_values(X_train)"
      ],
      "metadata": {
        "colab": {
          "base_uri": "https://localhost:8080/"
        },
        "id": "6Av0haSX0dBv",
        "outputId": "51750882-529c-439c-e224-1d3c622832a4"
      },
      "execution_count": 58,
      "outputs": [
        {
          "output_type": "stream",
          "name": "stderr",
          "text": [
            "LightGBM binary classifier with TreeExplainer shap values output has changed to a list of ndarray\n"
          ]
        }
      ]
    },
    {
      "cell_type": "code",
      "source": [
        "# Посторим график важности фичей, вызвав summary_plot из библиотеки shap\n",
        "\n",
        "shap.summary_plot(shap_values, X_train, max_display=25)"
      ],
      "metadata": {
        "colab": {
          "base_uri": "https://localhost:8080/",
          "height": 1000
        },
        "id": "-ciSOWHF18AH",
        "outputId": "872c585e-cb37-4818-82a2-c20b53a3b3fb"
      },
      "execution_count": 59,
      "outputs": [
        {
          "output_type": "display_data",
          "data": {
            "text/plain": [
              "<Figure size 800x1030 with 1 Axes>"
            ],
            "image/png": "[encoded data removed]"
          },
          "metadata": {}
        }
      ]
    },
    {
      "cell_type": "code",
      "source": [
        "# Можем посмотреть на влияние для одного\n",
        "shap.force_plot(explainer.expected_value[1], shap_values[0][0], X_test.iloc[[0]], matplotlib = True)"
      ],
      "metadata": {
        "colab": {
          "base_uri": "https://localhost:8080/",
          "height": 261
        },
        "id": "-VwWxs2M2lGQ",
        "outputId": "8df1c503-21b5-4712-c982-32bbdf67e8bc"
      },
      "execution_count": 60,
      "outputs": [
        {
          "output_type": "display_data",
          "data": {
            "text/plain": [
              "<Figure size 2000x300 with 1 Axes>"
            ],
            "image/png": "[encoded data removed]"
          },
          "metadata": {}
        }
      ]
    },
    {
      "cell_type": "code",
      "source": [
        "# Давайте посмотрим на тех, на ком наш алгоритм ошибся\n",
        "# Например при помощи функции np.where, где будут сравнивать предсказания и метки\n",
        "\n",
        "error_index = np.where(y_test != grid_LGBM.best_estimator_.predict(X_test))[0]\n",
        "print(error_index)"
      ],
      "metadata": {
        "colab": {
          "base_uri": "https://localhost:8080/"
        },
        "id": "_zyVXMel22-H",
        "outputId": "9c46d38c-e6ca-4260-f596-cabf5b930b4d"
      },
      "execution_count": 61,
      "outputs": [
        {
          "output_type": "stream",
          "name": "stdout",
          "text": [
            "[  9  17  22  24  29  41  45  48  59  65  69  73  78  83 105 122 131 137\n",
            " 144 145 151 165 173 179 192 195 200 207 215 216 228 232 244 253 264 268\n",
            " 276 291 308 311 326 339 353 363 368 372 376 378 395 402 403 411 416 447\n",
            " 457 468 469 471 491 499 500 508 511 524 532 534 539 546 549 554 557 568\n",
            " 577 578 579 580 581 585 607 609 615 616 617 620 621 622 633 645 646 647\n",
            " 648 651 655 657 670 671 678 687 711 725 730 734 751 763 789 790 797]\n"
          ]
        }
      ]
    },
    {
      "cell_type": "code",
      "source": [
        "# Можем посмотреть на влияние для одного\n",
        "shap.force_plot(explainer.expected_value[1], shap_values[0][14], X_test.iloc[[14]], matplotlib = True)"
      ],
      "metadata": {
        "colab": {
          "base_uri": "https://localhost:8080/",
          "height": 264
        },
        "id": "B52ClKwR4VzX",
        "outputId": "68dd6c43-0c8b-41f3-b030-8759ed7c95e2"
      },
      "execution_count": 63,
      "outputs": [
        {
          "output_type": "display_data",
          "data": {
            "text/plain": [
              "<Figure size 2000x300 with 1 Axes>"
            ],
            "image/png": "[encoded data removed]"
          },
          "metadata": {}
        }
      ]
    }
  ]
}